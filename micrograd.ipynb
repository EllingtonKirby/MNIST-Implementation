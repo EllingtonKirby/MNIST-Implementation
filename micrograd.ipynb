{
 "cells": [
  {
   "cell_type": "code",
   "execution_count": 2,
   "metadata": {},
   "outputs": [],
   "source": [
    "import math\n",
    "import numpy as np\n",
    "import matplotlib.pyplot as plt \n",
    "\n",
    "%matplotlib inline"
   ]
  },
  {
   "cell_type": "code",
   "execution_count": 19,
   "metadata": {},
   "outputs": [],
   "source": [
    "class Value:\n",
    "    def __init__(self, data, _children=(), _op='', label=''):\n",
    "        self.data = data\n",
    "        self.grad = 0.0\n",
    "        self._backward = lambda: None\n",
    "        self.prev = set(_children)\n",
    "        self._op = _op\n",
    "        self.label = label\n",
    "\n",
    "    def __repr__(self) -> str:\n",
    "        return f\"Value(data={self.data})\"\n",
    "\n",
    "    def __add__(self, other):\n",
    "        other = other if isinstance(other, Value) else Value(data=other)\n",
    "        out = Value(self.data + other.data, _children=(self, other), _op='+')\n",
    "        def _backward():\n",
    "            # need to accumulate gradients rather than overwrite them for the case we use a node multiple times\n",
    "            self.grad += 1.0 * out.grad\n",
    "            other.grad += 1.0 * out.grad\n",
    "\n",
    "        out._backward = _backward\n",
    "        return out\n",
    "\n",
    "    def __radd__(self, other):\n",
    "        return self + other\n",
    "    \n",
    "    def __neg__(self):\n",
    "        return self * -1\n",
    "    \n",
    "    def __sub__(self, other):\n",
    "        return self + (-other)\n",
    "    \n",
    "    def __pow__(self, other):\n",
    "        assert isinstance(other, (int, float)), \"only supporting int/float values\"\n",
    "        out = Value(self.data**other, (self,), f'**{other}')\n",
    "\n",
    "        def backward():\n",
    "            self.grad += other * self.data**(other - 1) * out.grad\n",
    "        out._backward = backward\n",
    "\n",
    "        return out\n",
    "\n",
    "    def __mul__(self, other):\n",
    "        other = other if isinstance(other, Value) else Value(data=other)\n",
    "        out = Value(self.data * other.data, _children=(self, other), _op='*')\n",
    "\n",
    "        def _backward():\n",
    "            self.grad += other.data * out.grad\n",
    "            other.grad += self.data * out.grad\n",
    "\n",
    "        out._backward = _backward\n",
    "        return out\n",
    "\n",
    "    def __rmul__(self, other):\n",
    "        return self * other\n",
    "\n",
    "    def __truediv__(self, other):\n",
    "        return self * other**-1\n",
    "\n",
    "    def tanh(self):\n",
    "        x = self.data\n",
    "        t = (math.exp(2 * x) - 1) / (math.exp(2 * x) + 1)\n",
    "        out = Value(t, _children=(self, ), _op='tanh')\n",
    "\n",
    "        def _backward():\n",
    "            self.grad += (1 - t**2) * out.grad\n",
    "        out._backward = _backward\n",
    "        return out\n",
    "    \n",
    "    def exp(self):\n",
    "        out = Value(math.exp(self.data), (self,), 'exp')\n",
    "        def _backward():\n",
    "            self.grad += out.data * out.grad\n",
    "        out._backward = _backward\n",
    "        \n",
    "        return out\n",
    "\n",
    "    def backward(self):\n",
    "        topo = []\n",
    "        visited = set()\n",
    "        def build_topo(v: Value):\n",
    "            if v not in visited:\n",
    "                visited.add(v)\n",
    "                for prev in v.prev:\n",
    "                    build_topo(prev)\n",
    "                topo.append(v)\n",
    "        build_topo(self)\n",
    "        \n",
    "        self.grad = 1.0\n",
    "        for n in reversed(topo):\n",
    "            n._backward()"
   ]
  },
  {
   "cell_type": "code",
   "execution_count": 4,
   "metadata": {},
   "outputs": [],
   "source": [
    "from graphviz import Digraph\n",
    "\n",
    "def trace(root):\n",
    "    nodes, edges = set(), set()\n",
    "    def build(v):\n",
    "        if v not in nodes:\n",
    "            nodes.add(v)\n",
    "            for child in v.prev:\n",
    "                edges.add((child, v))\n",
    "                build(child)\n",
    "    build(root)\n",
    "    return nodes, edges\n",
    "\n",
    "def draw_dot(root):\n",
    "    dot = Digraph(format='svg', graph_attr={'rankdir':'LR'})\n",
    "\n",
    "    nodes, edges = trace(root)\n",
    "    for n in nodes:\n",
    "        uid = str(id(n))\n",
    "        dot.node(name=uid, label=\"{ %s | data:%.4f | grad:%.4f}\"%(n.label, n.data, n.grad), shape='record')\n",
    "        if n._op:\n",
    "            dot.node(name=uid + n._op, label=n._op)\n",
    "            dot.edge(uid + n._op, uid)\n",
    "    for n1, n2 in edges:\n",
    "        dot.edge(str(id(n1)), str(id(n2))+n2._op)\n",
    "\n",
    "    return dot"
   ]
  },
  {
   "cell_type": "code",
   "execution_count": 5,
   "metadata": {},
   "outputs": [],
   "source": [
    "x1 = Value(2.0, label='x1')\n",
    "x2 = Value(0.0, label='x2')\n",
    "\n",
    "w1 = Value(-3.0, label='w1')\n",
    "w2 = Value(1.0, label='w2')\n",
    "\n",
    "b = Value(6.8813, label='b')\n",
    "\n",
    "x1w1 = x1*w1; x1w1.label = 'x1w1'\n",
    "x2w2 = x2*w2; x2w2.label = 'x2w2'\n",
    "\n",
    "x1w1x2w2 = x1w1 + x2w2; x1w1x2w2.label = 'x1w1x2w2'\n",
    "\n",
    "n = x1w1x2w2 + b; n.label = 'n'\n",
    "\n",
    "o = n.tanh(); o.label = 'o'"
   ]
  },
  {
   "cell_type": "code",
   "execution_count": 6,
   "metadata": {},
   "outputs": [
    {
     "data": {
      "image/svg+xml": "<?xml version=\"1.0\" encoding=\"UTF-8\" standalone=\"no\"?>\n<!DOCTYPE svg PUBLIC \"-//W3C//DTD SVG 1.1//EN\"\n \"http://www.w3.org/Graphics/SVG/1.1/DTD/svg11.dtd\">\n<!-- Generated by graphviz version 2.50.0 (0)\n -->\n<!-- Pages: 1 -->\n<svg width=\"1540pt\" height=\"210pt\"\n viewBox=\"0.00 0.00 1540.00 210.00\" xmlns=\"http://www.w3.org/2000/svg\" xmlns:xlink=\"http://www.w3.org/1999/xlink\">\n<g id=\"graph0\" class=\"graph\" transform=\"scale(1 1) rotate(0) translate(4 206)\">\n<polygon fill=\"white\" stroke=\"transparent\" points=\"-4,4 -4,-206 1536,-206 1536,4 -4,4\"/>\n<!-- 140465595194944 -->\n<g id=\"node1\" class=\"node\">\n<title>140465595194944</title>\n<polygon fill=\"none\" stroke=\"black\" points=\"1347,-54.5 1347,-90.5 1532,-90.5 1532,-54.5 1347,-54.5\"/>\n<text text-anchor=\"middle\" x=\"1358.5\" y=\"-68.8\" font-family=\"Times,serif\" font-size=\"14.00\">o</text>\n<polyline fill=\"none\" stroke=\"black\" points=\"1370,-54.5 1370,-90.5 \"/>\n<text text-anchor=\"middle\" x=\"1410\" y=\"-68.8\" font-family=\"Times,serif\" font-size=\"14.00\">data:0.7071</text>\n<polyline fill=\"none\" stroke=\"black\" points=\"1450,-54.5 1450,-90.5 \"/>\n<text text-anchor=\"middle\" x=\"1491\" y=\"-68.8\" font-family=\"Times,serif\" font-size=\"14.00\">grad:0.0000</text>\n</g>\n<!-- 140465595194944tanh -->\n<g id=\"node2\" class=\"node\">\n<title>140465595194944tanh</title>\n<ellipse fill=\"none\" stroke=\"black\" cx=\"1284\" cy=\"-72.5\" rx=\"27\" ry=\"18\"/>\n<text text-anchor=\"middle\" x=\"1284\" y=\"-68.8\" font-family=\"Times,serif\" font-size=\"14.00\">tanh</text>\n</g>\n<!-- 140465595194944tanh&#45;&gt;140465595194944 -->\n<g id=\"edge1\" class=\"edge\">\n<title>140465595194944tanh&#45;&gt;140465595194944</title>\n<path fill=\"none\" stroke=\"black\" d=\"M1311.04,-72.5C1318.58,-72.5 1327.3,-72.5 1336.57,-72.5\"/>\n<polygon fill=\"black\" stroke=\"black\" points=\"1336.81,-76 1346.81,-72.5 1336.81,-69 1336.81,-76\"/>\n</g>\n<!-- 140465595191872 -->\n<g id=\"node3\" class=\"node\">\n<title>140465595191872</title>\n<polygon fill=\"none\" stroke=\"black\" points=\"4,-55.5 4,-91.5 196,-91.5 196,-55.5 4,-55.5\"/>\n<text text-anchor=\"middle\" x=\"19\" y=\"-69.8\" font-family=\"Times,serif\" font-size=\"14.00\">x1</text>\n<polyline fill=\"none\" stroke=\"black\" points=\"34,-55.5 34,-91.5 \"/>\n<text text-anchor=\"middle\" x=\"74\" y=\"-69.8\" font-family=\"Times,serif\" font-size=\"14.00\">data:2.0000</text>\n<polyline fill=\"none\" stroke=\"black\" points=\"114,-55.5 114,-91.5 \"/>\n<text text-anchor=\"middle\" x=\"155\" y=\"-69.8\" font-family=\"Times,serif\" font-size=\"14.00\">grad:0.0000</text>\n</g>\n<!-- 140465595195808* -->\n<g id=\"node13\" class=\"node\">\n<title>140465595195808*</title>\n<ellipse fill=\"none\" stroke=\"black\" cx=\"263\" cy=\"-73.5\" rx=\"27\" ry=\"18\"/>\n<text text-anchor=\"middle\" x=\"263\" y=\"-69.8\" font-family=\"Times,serif\" font-size=\"14.00\">*</text>\n</g>\n<!-- 140465595191872&#45;&gt;140465595195808* -->\n<g id=\"edge11\" class=\"edge\">\n<title>140465595191872&#45;&gt;140465595195808*</title>\n<path fill=\"none\" stroke=\"black\" d=\"M196.05,-73.5C206.52,-73.5 216.65,-73.5 225.71,-73.5\"/>\n<polygon fill=\"black\" stroke=\"black\" points=\"225.79,-77 235.79,-73.5 225.79,-70 225.79,-77\"/>\n</g>\n<!-- 140465595192928 -->\n<g id=\"node4\" class=\"node\">\n<title>140465595192928</title>\n<polygon fill=\"none\" stroke=\"black\" points=\"666,-82.5 666,-118.5 910,-118.5 910,-82.5 666,-82.5\"/>\n<text text-anchor=\"middle\" x=\"704.5\" y=\"-96.8\" font-family=\"Times,serif\" font-size=\"14.00\">x1w1x2w2</text>\n<polyline fill=\"none\" stroke=\"black\" points=\"743,-82.5 743,-118.5 \"/>\n<text text-anchor=\"middle\" x=\"785.5\" y=\"-96.8\" font-family=\"Times,serif\" font-size=\"14.00\">data:&#45;6.0000</text>\n<polyline fill=\"none\" stroke=\"black\" points=\"828,-82.5 828,-118.5 \"/>\n<text text-anchor=\"middle\" x=\"869\" y=\"-96.8\" font-family=\"Times,serif\" font-size=\"14.00\">grad:0.0000</text>\n</g>\n<!-- 140465595193168+ -->\n<g id=\"node10\" class=\"node\">\n<title>140465595193168+</title>\n<ellipse fill=\"none\" stroke=\"black\" cx=\"973\" cy=\"-72.5\" rx=\"27\" ry=\"18\"/>\n<text text-anchor=\"middle\" x=\"973\" y=\"-68.8\" font-family=\"Times,serif\" font-size=\"14.00\">+</text>\n</g>\n<!-- 140465595192928&#45;&gt;140465595193168+ -->\n<g id=\"edge14\" class=\"edge\">\n<title>140465595192928&#45;&gt;140465595193168+</title>\n<path fill=\"none\" stroke=\"black\" d=\"M906.71,-82.49C917.38,-80.86 927.53,-79.3 936.51,-77.93\"/>\n<polygon fill=\"black\" stroke=\"black\" points=\"937.13,-81.38 946.48,-76.4 936.07,-74.46 937.13,-81.38\"/>\n</g>\n<!-- 140465595192928+ -->\n<g id=\"node5\" class=\"node\">\n<title>140465595192928+</title>\n<ellipse fill=\"none\" stroke=\"black\" cx=\"603\" cy=\"-100.5\" rx=\"27\" ry=\"18\"/>\n<text text-anchor=\"middle\" x=\"603\" y=\"-96.8\" font-family=\"Times,serif\" font-size=\"14.00\">+</text>\n</g>\n<!-- 140465595192928+&#45;&gt;140465595192928 -->\n<g id=\"edge2\" class=\"edge\">\n<title>140465595192928+&#45;&gt;140465595192928</title>\n<path fill=\"none\" stroke=\"black\" d=\"M630.22,-100.5C637.7,-100.5 646.4,-100.5 655.79,-100.5\"/>\n<polygon fill=\"black\" stroke=\"black\" points=\"655.8,-104 665.8,-100.5 655.8,-97 655.8,-104\"/>\n</g>\n<!-- 140465595192448 -->\n<g id=\"node6\" class=\"node\">\n<title>140465595192448</title>\n<polygon fill=\"none\" stroke=\"black\" points=\"328.5,-110.5 328.5,-146.5 537.5,-146.5 537.5,-110.5 328.5,-110.5\"/>\n<text text-anchor=\"middle\" x=\"352\" y=\"-124.8\" font-family=\"Times,serif\" font-size=\"14.00\">x2w2</text>\n<polyline fill=\"none\" stroke=\"black\" points=\"375.5,-110.5 375.5,-146.5 \"/>\n<text text-anchor=\"middle\" x=\"415.5\" y=\"-124.8\" font-family=\"Times,serif\" font-size=\"14.00\">data:0.0000</text>\n<polyline fill=\"none\" stroke=\"black\" points=\"455.5,-110.5 455.5,-146.5 \"/>\n<text text-anchor=\"middle\" x=\"496.5\" y=\"-124.8\" font-family=\"Times,serif\" font-size=\"14.00\">grad:0.0000</text>\n</g>\n<!-- 140465595192448&#45;&gt;140465595192928+ -->\n<g id=\"edge8\" class=\"edge\">\n<title>140465595192448&#45;&gt;140465595192928+</title>\n<path fill=\"none\" stroke=\"black\" d=\"M537.53,-111.25C547.8,-109.53 557.66,-107.89 566.45,-106.43\"/>\n<polygon fill=\"black\" stroke=\"black\" points=\"567.3,-109.83 576.59,-104.74 566.15,-102.93 567.3,-109.83\"/>\n</g>\n<!-- 140465595192448* -->\n<g id=\"node7\" class=\"node\">\n<title>140465595192448*</title>\n<ellipse fill=\"none\" stroke=\"black\" cx=\"263\" cy=\"-128.5\" rx=\"27\" ry=\"18\"/>\n<text text-anchor=\"middle\" x=\"263\" y=\"-124.8\" font-family=\"Times,serif\" font-size=\"14.00\">*</text>\n</g>\n<!-- 140465595192448*&#45;&gt;140465595192448 -->\n<g id=\"edge3\" class=\"edge\">\n<title>140465595192448*&#45;&gt;140465595192448</title>\n<path fill=\"none\" stroke=\"black\" d=\"M290.25,-128.5C298.43,-128.5 308.03,-128.5 318.31,-128.5\"/>\n<polygon fill=\"black\" stroke=\"black\" points=\"318.35,-132 328.35,-128.5 318.35,-125 318.35,-132\"/>\n</g>\n<!-- 140465595191056 -->\n<g id=\"node8\" class=\"node\">\n<title>140465595191056</title>\n<polygon fill=\"none\" stroke=\"black\" points=\"2.5,-165.5 2.5,-201.5 197.5,-201.5 197.5,-165.5 2.5,-165.5\"/>\n<text text-anchor=\"middle\" x=\"19\" y=\"-179.8\" font-family=\"Times,serif\" font-size=\"14.00\">w2</text>\n<polyline fill=\"none\" stroke=\"black\" points=\"35.5,-165.5 35.5,-201.5 \"/>\n<text text-anchor=\"middle\" x=\"75.5\" y=\"-179.8\" font-family=\"Times,serif\" font-size=\"14.00\">data:1.0000</text>\n<polyline fill=\"none\" stroke=\"black\" points=\"115.5,-165.5 115.5,-201.5 \"/>\n<text text-anchor=\"middle\" x=\"156.5\" y=\"-179.8\" font-family=\"Times,serif\" font-size=\"14.00\">grad:0.0000</text>\n</g>\n<!-- 140465595191056&#45;&gt;140465595192448* -->\n<g id=\"edge12\" class=\"edge\">\n<title>140465595191056&#45;&gt;140465595192448*</title>\n<path fill=\"none\" stroke=\"black\" d=\"M172.53,-165.44C181.84,-162.67 191.2,-159.67 200,-156.5 210.53,-152.71 221.75,-147.9 231.72,-143.33\"/>\n<polygon fill=\"black\" stroke=\"black\" points=\"233.25,-146.48 240.82,-139.07 230.28,-140.14 233.25,-146.48\"/>\n</g>\n<!-- 140465595193168 -->\n<g id=\"node9\" class=\"node\">\n<title>140465595193168</title>\n<polygon fill=\"none\" stroke=\"black\" points=\"1036,-54.5 1036,-90.5 1221,-90.5 1221,-54.5 1036,-54.5\"/>\n<text text-anchor=\"middle\" x=\"1047.5\" y=\"-68.8\" font-family=\"Times,serif\" font-size=\"14.00\">n</text>\n<polyline fill=\"none\" stroke=\"black\" points=\"1059,-54.5 1059,-90.5 \"/>\n<text text-anchor=\"middle\" x=\"1099\" y=\"-68.8\" font-family=\"Times,serif\" font-size=\"14.00\">data:0.8813</text>\n<polyline fill=\"none\" stroke=\"black\" points=\"1139,-54.5 1139,-90.5 \"/>\n<text text-anchor=\"middle\" x=\"1180\" y=\"-68.8\" font-family=\"Times,serif\" font-size=\"14.00\">grad:0.0000</text>\n</g>\n<!-- 140465595193168&#45;&gt;140465595194944tanh -->\n<g id=\"edge7\" class=\"edge\">\n<title>140465595193168&#45;&gt;140465595194944tanh</title>\n<path fill=\"none\" stroke=\"black\" d=\"M1221.01,-72.5C1230.01,-72.5 1238.74,-72.5 1246.66,-72.5\"/>\n<polygon fill=\"black\" stroke=\"black\" points=\"1246.91,-76 1256.91,-72.5 1246.91,-69 1246.91,-76\"/>\n</g>\n<!-- 140465595193168+&#45;&gt;140465595193168 -->\n<g id=\"edge4\" class=\"edge\">\n<title>140465595193168+&#45;&gt;140465595193168</title>\n<path fill=\"none\" stroke=\"black\" d=\"M1000.04,-72.5C1007.58,-72.5 1016.3,-72.5 1025.57,-72.5\"/>\n<polygon fill=\"black\" stroke=\"black\" points=\"1025.81,-76 1035.81,-72.5 1025.81,-69 1025.81,-76\"/>\n</g>\n<!-- 140465595197824 -->\n<g id=\"node11\" class=\"node\">\n<title>140465595197824</title>\n<polygon fill=\"none\" stroke=\"black\" points=\"695.5,-27.5 695.5,-63.5 880.5,-63.5 880.5,-27.5 695.5,-27.5\"/>\n<text text-anchor=\"middle\" x=\"707\" y=\"-41.8\" font-family=\"Times,serif\" font-size=\"14.00\">b</text>\n<polyline fill=\"none\" stroke=\"black\" points=\"718.5,-27.5 718.5,-63.5 \"/>\n<text text-anchor=\"middle\" x=\"758.5\" y=\"-41.8\" font-family=\"Times,serif\" font-size=\"14.00\">data:6.8813</text>\n<polyline fill=\"none\" stroke=\"black\" points=\"798.5,-27.5 798.5,-63.5 \"/>\n<text text-anchor=\"middle\" x=\"839.5\" y=\"-41.8\" font-family=\"Times,serif\" font-size=\"14.00\">grad:0.0000</text>\n</g>\n<!-- 140465595197824&#45;&gt;140465595193168+ -->\n<g id=\"edge6\" class=\"edge\">\n<title>140465595197824&#45;&gt;140465595193168+</title>\n<path fill=\"none\" stroke=\"black\" d=\"M880.77,-59.04C900.52,-61.95 920.26,-64.87 936.29,-67.23\"/>\n<polygon fill=\"black\" stroke=\"black\" points=\"935.86,-70.71 946.26,-68.7 936.88,-63.78 935.86,-70.71\"/>\n</g>\n<!-- 140465595195808 -->\n<g id=\"node12\" class=\"node\">\n<title>140465595195808</title>\n<polygon fill=\"none\" stroke=\"black\" points=\"326,-55.5 326,-91.5 540,-91.5 540,-55.5 326,-55.5\"/>\n<text text-anchor=\"middle\" x=\"349.5\" y=\"-69.8\" font-family=\"Times,serif\" font-size=\"14.00\">x1w1</text>\n<polyline fill=\"none\" stroke=\"black\" points=\"373,-55.5 373,-91.5 \"/>\n<text text-anchor=\"middle\" x=\"415.5\" y=\"-69.8\" font-family=\"Times,serif\" font-size=\"14.00\">data:&#45;6.0000</text>\n<polyline fill=\"none\" stroke=\"black\" points=\"458,-55.5 458,-91.5 \"/>\n<text text-anchor=\"middle\" x=\"499\" y=\"-69.8\" font-family=\"Times,serif\" font-size=\"14.00\">grad:0.0000</text>\n</g>\n<!-- 140465595195808&#45;&gt;140465595192928+ -->\n<g id=\"edge9\" class=\"edge\">\n<title>140465595195808&#45;&gt;140465595192928+</title>\n<path fill=\"none\" stroke=\"black\" d=\"M540.4,-90.6C549.72,-92.1 558.65,-93.53 566.68,-94.82\"/>\n<polygon fill=\"black\" stroke=\"black\" points=\"566.24,-98.3 576.66,-96.43 567.35,-91.39 566.24,-98.3\"/>\n</g>\n<!-- 140465595195808*&#45;&gt;140465595195808 -->\n<g id=\"edge5\" class=\"edge\">\n<title>140465595195808*&#45;&gt;140465595195808</title>\n<path fill=\"none\" stroke=\"black\" d=\"M290.25,-73.5C297.7,-73.5 306.34,-73.5 315.59,-73.5\"/>\n<polygon fill=\"black\" stroke=\"black\" points=\"315.84,-77 325.84,-73.5 315.84,-70 315.84,-77\"/>\n</g>\n<!-- 140465595191248 -->\n<g id=\"node14\" class=\"node\">\n<title>140465595191248</title>\n<polygon fill=\"none\" stroke=\"black\" points=\"0,-0.5 0,-36.5 200,-36.5 200,-0.5 0,-0.5\"/>\n<text text-anchor=\"middle\" x=\"16.5\" y=\"-14.8\" font-family=\"Times,serif\" font-size=\"14.00\">w1</text>\n<polyline fill=\"none\" stroke=\"black\" points=\"33,-0.5 33,-36.5 \"/>\n<text text-anchor=\"middle\" x=\"75.5\" y=\"-14.8\" font-family=\"Times,serif\" font-size=\"14.00\">data:&#45;3.0000</text>\n<polyline fill=\"none\" stroke=\"black\" points=\"118,-0.5 118,-36.5 \"/>\n<text text-anchor=\"middle\" x=\"159\" y=\"-14.8\" font-family=\"Times,serif\" font-size=\"14.00\">grad:0.0000</text>\n</g>\n<!-- 140465595191248&#45;&gt;140465595195808* -->\n<g id=\"edge10\" class=\"edge\">\n<title>140465595191248&#45;&gt;140465595195808*</title>\n<path fill=\"none\" stroke=\"black\" d=\"M172.53,-36.56C181.84,-39.33 191.2,-42.33 200,-45.5 210.53,-49.29 221.75,-54.1 231.72,-58.67\"/>\n<polygon fill=\"black\" stroke=\"black\" points=\"230.28,-61.86 240.82,-62.93 233.25,-55.52 230.28,-61.86\"/>\n</g>\n<!-- 140465595197920 -->\n<g id=\"node15\" class=\"node\">\n<title>140465595197920</title>\n<polygon fill=\"none\" stroke=\"black\" points=\"4,-110.5 4,-146.5 196,-146.5 196,-110.5 4,-110.5\"/>\n<text text-anchor=\"middle\" x=\"19\" y=\"-124.8\" font-family=\"Times,serif\" font-size=\"14.00\">x2</text>\n<polyline fill=\"none\" stroke=\"black\" points=\"34,-110.5 34,-146.5 \"/>\n<text text-anchor=\"middle\" x=\"74\" y=\"-124.8\" font-family=\"Times,serif\" font-size=\"14.00\">data:0.0000</text>\n<polyline fill=\"none\" stroke=\"black\" points=\"114,-110.5 114,-146.5 \"/>\n<text text-anchor=\"middle\" x=\"155\" y=\"-124.8\" font-family=\"Times,serif\" font-size=\"14.00\">grad:0.0000</text>\n</g>\n<!-- 140465595197920&#45;&gt;140465595192448* -->\n<g id=\"edge13\" class=\"edge\">\n<title>140465595197920&#45;&gt;140465595192448*</title>\n<path fill=\"none\" stroke=\"black\" d=\"M196.05,-128.5C206.52,-128.5 216.65,-128.5 225.71,-128.5\"/>\n<polygon fill=\"black\" stroke=\"black\" points=\"225.79,-132 235.79,-128.5 225.79,-125 225.79,-132\"/>\n</g>\n</g>\n</svg>\n",
      "text/plain": [
       "<graphviz.graphs.Digraph at 0x7fc0b1e79000>"
      ]
     },
     "execution_count": 6,
     "metadata": {},
     "output_type": "execute_result"
    }
   ],
   "source": [
    "draw_dot(o)"
   ]
  },
  {
   "cell_type": "code",
   "execution_count": 7,
   "metadata": {},
   "outputs": [
    {
     "data": {
      "image/svg+xml": "<?xml version=\"1.0\" encoding=\"UTF-8\" standalone=\"no\"?>\n<!DOCTYPE svg PUBLIC \"-//W3C//DTD SVG 1.1//EN\"\n \"http://www.w3.org/Graphics/SVG/1.1/DTD/svg11.dtd\">\n<!-- Generated by graphviz version 2.50.0 (0)\n -->\n<!-- Pages: 1 -->\n<svg width=\"1540pt\" height=\"210pt\"\n viewBox=\"0.00 0.00 1540.00 210.00\" xmlns=\"http://www.w3.org/2000/svg\" xmlns:xlink=\"http://www.w3.org/1999/xlink\">\n<g id=\"graph0\" class=\"graph\" transform=\"scale(1 1) rotate(0) translate(4 206)\">\n<polygon fill=\"white\" stroke=\"transparent\" points=\"-4,4 -4,-206 1536,-206 1536,4 -4,4\"/>\n<!-- 140465595194944 -->\n<g id=\"node1\" class=\"node\">\n<title>140465595194944</title>\n<polygon fill=\"none\" stroke=\"black\" points=\"1347,-54.5 1347,-90.5 1532,-90.5 1532,-54.5 1347,-54.5\"/>\n<text text-anchor=\"middle\" x=\"1358.5\" y=\"-68.8\" font-family=\"Times,serif\" font-size=\"14.00\">o</text>\n<polyline fill=\"none\" stroke=\"black\" points=\"1370,-54.5 1370,-90.5 \"/>\n<text text-anchor=\"middle\" x=\"1410\" y=\"-68.8\" font-family=\"Times,serif\" font-size=\"14.00\">data:0.7071</text>\n<polyline fill=\"none\" stroke=\"black\" points=\"1450,-54.5 1450,-90.5 \"/>\n<text text-anchor=\"middle\" x=\"1491\" y=\"-68.8\" font-family=\"Times,serif\" font-size=\"14.00\">grad:1.0000</text>\n</g>\n<!-- 140465595194944tanh -->\n<g id=\"node2\" class=\"node\">\n<title>140465595194944tanh</title>\n<ellipse fill=\"none\" stroke=\"black\" cx=\"1284\" cy=\"-72.5\" rx=\"27\" ry=\"18\"/>\n<text text-anchor=\"middle\" x=\"1284\" y=\"-68.8\" font-family=\"Times,serif\" font-size=\"14.00\">tanh</text>\n</g>\n<!-- 140465595194944tanh&#45;&gt;140465595194944 -->\n<g id=\"edge1\" class=\"edge\">\n<title>140465595194944tanh&#45;&gt;140465595194944</title>\n<path fill=\"none\" stroke=\"black\" d=\"M1311.04,-72.5C1318.58,-72.5 1327.3,-72.5 1336.57,-72.5\"/>\n<polygon fill=\"black\" stroke=\"black\" points=\"1336.81,-76 1346.81,-72.5 1336.81,-69 1336.81,-76\"/>\n</g>\n<!-- 140465595191872 -->\n<g id=\"node3\" class=\"node\">\n<title>140465595191872</title>\n<polygon fill=\"none\" stroke=\"black\" points=\"2,-55.5 2,-91.5 198,-91.5 198,-55.5 2,-55.5\"/>\n<text text-anchor=\"middle\" x=\"17\" y=\"-69.8\" font-family=\"Times,serif\" font-size=\"14.00\">x1</text>\n<polyline fill=\"none\" stroke=\"black\" points=\"32,-55.5 32,-91.5 \"/>\n<text text-anchor=\"middle\" x=\"72\" y=\"-69.8\" font-family=\"Times,serif\" font-size=\"14.00\">data:2.0000</text>\n<polyline fill=\"none\" stroke=\"black\" points=\"112,-55.5 112,-91.5 \"/>\n<text text-anchor=\"middle\" x=\"155\" y=\"-69.8\" font-family=\"Times,serif\" font-size=\"14.00\">grad:&#45;1.5002</text>\n</g>\n<!-- 140465595195808* -->\n<g id=\"node13\" class=\"node\">\n<title>140465595195808*</title>\n<ellipse fill=\"none\" stroke=\"black\" cx=\"263\" cy=\"-73.5\" rx=\"27\" ry=\"18\"/>\n<text text-anchor=\"middle\" x=\"263\" y=\"-69.8\" font-family=\"Times,serif\" font-size=\"14.00\">*</text>\n</g>\n<!-- 140465595191872&#45;&gt;140465595195808* -->\n<g id=\"edge11\" class=\"edge\">\n<title>140465595191872&#45;&gt;140465595195808*</title>\n<path fill=\"none\" stroke=\"black\" d=\"M198.37,-73.5C208.05,-73.5 217.4,-73.5 225.8,-73.5\"/>\n<polygon fill=\"black\" stroke=\"black\" points=\"225.91,-77 235.91,-73.5 225.91,-70 225.91,-77\"/>\n</g>\n<!-- 140465595192928 -->\n<g id=\"node4\" class=\"node\">\n<title>140465595192928</title>\n<polygon fill=\"none\" stroke=\"black\" points=\"666,-82.5 666,-118.5 910,-118.5 910,-82.5 666,-82.5\"/>\n<text text-anchor=\"middle\" x=\"704.5\" y=\"-96.8\" font-family=\"Times,serif\" font-size=\"14.00\">x1w1x2w2</text>\n<polyline fill=\"none\" stroke=\"black\" points=\"743,-82.5 743,-118.5 \"/>\n<text text-anchor=\"middle\" x=\"785.5\" y=\"-96.8\" font-family=\"Times,serif\" font-size=\"14.00\">data:&#45;6.0000</text>\n<polyline fill=\"none\" stroke=\"black\" points=\"828,-82.5 828,-118.5 \"/>\n<text text-anchor=\"middle\" x=\"869\" y=\"-96.8\" font-family=\"Times,serif\" font-size=\"14.00\">grad:0.5001</text>\n</g>\n<!-- 140465595193168+ -->\n<g id=\"node10\" class=\"node\">\n<title>140465595193168+</title>\n<ellipse fill=\"none\" stroke=\"black\" cx=\"973\" cy=\"-72.5\" rx=\"27\" ry=\"18\"/>\n<text text-anchor=\"middle\" x=\"973\" y=\"-68.8\" font-family=\"Times,serif\" font-size=\"14.00\">+</text>\n</g>\n<!-- 140465595192928&#45;&gt;140465595193168+ -->\n<g id=\"edge14\" class=\"edge\">\n<title>140465595192928&#45;&gt;140465595193168+</title>\n<path fill=\"none\" stroke=\"black\" d=\"M906.71,-82.49C917.38,-80.86 927.53,-79.3 936.51,-77.93\"/>\n<polygon fill=\"black\" stroke=\"black\" points=\"937.13,-81.38 946.48,-76.4 936.07,-74.46 937.13,-81.38\"/>\n</g>\n<!-- 140465595192928+ -->\n<g id=\"node5\" class=\"node\">\n<title>140465595192928+</title>\n<ellipse fill=\"none\" stroke=\"black\" cx=\"603\" cy=\"-100.5\" rx=\"27\" ry=\"18\"/>\n<text text-anchor=\"middle\" x=\"603\" y=\"-96.8\" font-family=\"Times,serif\" font-size=\"14.00\">+</text>\n</g>\n<!-- 140465595192928+&#45;&gt;140465595192928 -->\n<g id=\"edge2\" class=\"edge\">\n<title>140465595192928+&#45;&gt;140465595192928</title>\n<path fill=\"none\" stroke=\"black\" d=\"M630.22,-100.5C637.7,-100.5 646.4,-100.5 655.79,-100.5\"/>\n<polygon fill=\"black\" stroke=\"black\" points=\"655.8,-104 665.8,-100.5 655.8,-97 655.8,-104\"/>\n</g>\n<!-- 140465595192448 -->\n<g id=\"node6\" class=\"node\">\n<title>140465595192448</title>\n<polygon fill=\"none\" stroke=\"black\" points=\"328.5,-110.5 328.5,-146.5 537.5,-146.5 537.5,-110.5 328.5,-110.5\"/>\n<text text-anchor=\"middle\" x=\"352\" y=\"-124.8\" font-family=\"Times,serif\" font-size=\"14.00\">x2w2</text>\n<polyline fill=\"none\" stroke=\"black\" points=\"375.5,-110.5 375.5,-146.5 \"/>\n<text text-anchor=\"middle\" x=\"415.5\" y=\"-124.8\" font-family=\"Times,serif\" font-size=\"14.00\">data:0.0000</text>\n<polyline fill=\"none\" stroke=\"black\" points=\"455.5,-110.5 455.5,-146.5 \"/>\n<text text-anchor=\"middle\" x=\"496.5\" y=\"-124.8\" font-family=\"Times,serif\" font-size=\"14.00\">grad:0.5001</text>\n</g>\n<!-- 140465595192448&#45;&gt;140465595192928+ -->\n<g id=\"edge8\" class=\"edge\">\n<title>140465595192448&#45;&gt;140465595192928+</title>\n<path fill=\"none\" stroke=\"black\" d=\"M537.53,-111.25C547.8,-109.53 557.66,-107.89 566.45,-106.43\"/>\n<polygon fill=\"black\" stroke=\"black\" points=\"567.3,-109.83 576.59,-104.74 566.15,-102.93 567.3,-109.83\"/>\n</g>\n<!-- 140465595192448* -->\n<g id=\"node7\" class=\"node\">\n<title>140465595192448*</title>\n<ellipse fill=\"none\" stroke=\"black\" cx=\"263\" cy=\"-128.5\" rx=\"27\" ry=\"18\"/>\n<text text-anchor=\"middle\" x=\"263\" y=\"-124.8\" font-family=\"Times,serif\" font-size=\"14.00\">*</text>\n</g>\n<!-- 140465595192448*&#45;&gt;140465595192448 -->\n<g id=\"edge3\" class=\"edge\">\n<title>140465595192448*&#45;&gt;140465595192448</title>\n<path fill=\"none\" stroke=\"black\" d=\"M290.25,-128.5C298.43,-128.5 308.03,-128.5 318.31,-128.5\"/>\n<polygon fill=\"black\" stroke=\"black\" points=\"318.35,-132 328.35,-128.5 318.35,-125 318.35,-132\"/>\n</g>\n<!-- 140465595191056 -->\n<g id=\"node8\" class=\"node\">\n<title>140465595191056</title>\n<polygon fill=\"none\" stroke=\"black\" points=\"2.5,-165.5 2.5,-201.5 197.5,-201.5 197.5,-165.5 2.5,-165.5\"/>\n<text text-anchor=\"middle\" x=\"19\" y=\"-179.8\" font-family=\"Times,serif\" font-size=\"14.00\">w2</text>\n<polyline fill=\"none\" stroke=\"black\" points=\"35.5,-165.5 35.5,-201.5 \"/>\n<text text-anchor=\"middle\" x=\"75.5\" y=\"-179.8\" font-family=\"Times,serif\" font-size=\"14.00\">data:1.0000</text>\n<polyline fill=\"none\" stroke=\"black\" points=\"115.5,-165.5 115.5,-201.5 \"/>\n<text text-anchor=\"middle\" x=\"156.5\" y=\"-179.8\" font-family=\"Times,serif\" font-size=\"14.00\">grad:0.0000</text>\n</g>\n<!-- 140465595191056&#45;&gt;140465595192448* -->\n<g id=\"edge12\" class=\"edge\">\n<title>140465595191056&#45;&gt;140465595192448*</title>\n<path fill=\"none\" stroke=\"black\" d=\"M172.53,-165.44C181.84,-162.67 191.2,-159.67 200,-156.5 210.53,-152.71 221.75,-147.9 231.72,-143.33\"/>\n<polygon fill=\"black\" stroke=\"black\" points=\"233.25,-146.48 240.82,-139.07 230.28,-140.14 233.25,-146.48\"/>\n</g>\n<!-- 140465595193168 -->\n<g id=\"node9\" class=\"node\">\n<title>140465595193168</title>\n<polygon fill=\"none\" stroke=\"black\" points=\"1036,-54.5 1036,-90.5 1221,-90.5 1221,-54.5 1036,-54.5\"/>\n<text text-anchor=\"middle\" x=\"1047.5\" y=\"-68.8\" font-family=\"Times,serif\" font-size=\"14.00\">n</text>\n<polyline fill=\"none\" stroke=\"black\" points=\"1059,-54.5 1059,-90.5 \"/>\n<text text-anchor=\"middle\" x=\"1099\" y=\"-68.8\" font-family=\"Times,serif\" font-size=\"14.00\">data:0.8813</text>\n<polyline fill=\"none\" stroke=\"black\" points=\"1139,-54.5 1139,-90.5 \"/>\n<text text-anchor=\"middle\" x=\"1180\" y=\"-68.8\" font-family=\"Times,serif\" font-size=\"14.00\">grad:0.5001</text>\n</g>\n<!-- 140465595193168&#45;&gt;140465595194944tanh -->\n<g id=\"edge7\" class=\"edge\">\n<title>140465595193168&#45;&gt;140465595194944tanh</title>\n<path fill=\"none\" stroke=\"black\" d=\"M1221.01,-72.5C1230.01,-72.5 1238.74,-72.5 1246.66,-72.5\"/>\n<polygon fill=\"black\" stroke=\"black\" points=\"1246.91,-76 1256.91,-72.5 1246.91,-69 1246.91,-76\"/>\n</g>\n<!-- 140465595193168+&#45;&gt;140465595193168 -->\n<g id=\"edge4\" class=\"edge\">\n<title>140465595193168+&#45;&gt;140465595193168</title>\n<path fill=\"none\" stroke=\"black\" d=\"M1000.04,-72.5C1007.58,-72.5 1016.3,-72.5 1025.57,-72.5\"/>\n<polygon fill=\"black\" stroke=\"black\" points=\"1025.81,-76 1035.81,-72.5 1025.81,-69 1025.81,-76\"/>\n</g>\n<!-- 140465595197824 -->\n<g id=\"node11\" class=\"node\">\n<title>140465595197824</title>\n<polygon fill=\"none\" stroke=\"black\" points=\"695.5,-27.5 695.5,-63.5 880.5,-63.5 880.5,-27.5 695.5,-27.5\"/>\n<text text-anchor=\"middle\" x=\"707\" y=\"-41.8\" font-family=\"Times,serif\" font-size=\"14.00\">b</text>\n<polyline fill=\"none\" stroke=\"black\" points=\"718.5,-27.5 718.5,-63.5 \"/>\n<text text-anchor=\"middle\" x=\"758.5\" y=\"-41.8\" font-family=\"Times,serif\" font-size=\"14.00\">data:6.8813</text>\n<polyline fill=\"none\" stroke=\"black\" points=\"798.5,-27.5 798.5,-63.5 \"/>\n<text text-anchor=\"middle\" x=\"839.5\" y=\"-41.8\" font-family=\"Times,serif\" font-size=\"14.00\">grad:0.5001</text>\n</g>\n<!-- 140465595197824&#45;&gt;140465595193168+ -->\n<g id=\"edge6\" class=\"edge\">\n<title>140465595197824&#45;&gt;140465595193168+</title>\n<path fill=\"none\" stroke=\"black\" d=\"M880.77,-59.04C900.52,-61.95 920.26,-64.87 936.29,-67.23\"/>\n<polygon fill=\"black\" stroke=\"black\" points=\"935.86,-70.71 946.26,-68.7 936.88,-63.78 935.86,-70.71\"/>\n</g>\n<!-- 140465595195808 -->\n<g id=\"node12\" class=\"node\">\n<title>140465595195808</title>\n<polygon fill=\"none\" stroke=\"black\" points=\"326,-55.5 326,-91.5 540,-91.5 540,-55.5 326,-55.5\"/>\n<text text-anchor=\"middle\" x=\"349.5\" y=\"-69.8\" font-family=\"Times,serif\" font-size=\"14.00\">x1w1</text>\n<polyline fill=\"none\" stroke=\"black\" points=\"373,-55.5 373,-91.5 \"/>\n<text text-anchor=\"middle\" x=\"415.5\" y=\"-69.8\" font-family=\"Times,serif\" font-size=\"14.00\">data:&#45;6.0000</text>\n<polyline fill=\"none\" stroke=\"black\" points=\"458,-55.5 458,-91.5 \"/>\n<text text-anchor=\"middle\" x=\"499\" y=\"-69.8\" font-family=\"Times,serif\" font-size=\"14.00\">grad:0.5001</text>\n</g>\n<!-- 140465595195808&#45;&gt;140465595192928+ -->\n<g id=\"edge9\" class=\"edge\">\n<title>140465595195808&#45;&gt;140465595192928+</title>\n<path fill=\"none\" stroke=\"black\" d=\"M540.4,-90.6C549.72,-92.1 558.65,-93.53 566.68,-94.82\"/>\n<polygon fill=\"black\" stroke=\"black\" points=\"566.24,-98.3 576.66,-96.43 567.35,-91.39 566.24,-98.3\"/>\n</g>\n<!-- 140465595195808*&#45;&gt;140465595195808 -->\n<g id=\"edge5\" class=\"edge\">\n<title>140465595195808*&#45;&gt;140465595195808</title>\n<path fill=\"none\" stroke=\"black\" d=\"M290.25,-73.5C297.7,-73.5 306.34,-73.5 315.59,-73.5\"/>\n<polygon fill=\"black\" stroke=\"black\" points=\"315.84,-77 325.84,-73.5 315.84,-70 315.84,-77\"/>\n</g>\n<!-- 140465595191248 -->\n<g id=\"node14\" class=\"node\">\n<title>140465595191248</title>\n<polygon fill=\"none\" stroke=\"black\" points=\"0,-0.5 0,-36.5 200,-36.5 200,-0.5 0,-0.5\"/>\n<text text-anchor=\"middle\" x=\"16.5\" y=\"-14.8\" font-family=\"Times,serif\" font-size=\"14.00\">w1</text>\n<polyline fill=\"none\" stroke=\"black\" points=\"33,-0.5 33,-36.5 \"/>\n<text text-anchor=\"middle\" x=\"75.5\" y=\"-14.8\" font-family=\"Times,serif\" font-size=\"14.00\">data:&#45;3.0000</text>\n<polyline fill=\"none\" stroke=\"black\" points=\"118,-0.5 118,-36.5 \"/>\n<text text-anchor=\"middle\" x=\"159\" y=\"-14.8\" font-family=\"Times,serif\" font-size=\"14.00\">grad:1.0001</text>\n</g>\n<!-- 140465595191248&#45;&gt;140465595195808* -->\n<g id=\"edge10\" class=\"edge\">\n<title>140465595191248&#45;&gt;140465595195808*</title>\n<path fill=\"none\" stroke=\"black\" d=\"M172.53,-36.56C181.84,-39.33 191.2,-42.33 200,-45.5 210.53,-49.29 221.75,-54.1 231.72,-58.67\"/>\n<polygon fill=\"black\" stroke=\"black\" points=\"230.28,-61.86 240.82,-62.93 233.25,-55.52 230.28,-61.86\"/>\n</g>\n<!-- 140465595197920 -->\n<g id=\"node15\" class=\"node\">\n<title>140465595197920</title>\n<polygon fill=\"none\" stroke=\"black\" points=\"4,-110.5 4,-146.5 196,-146.5 196,-110.5 4,-110.5\"/>\n<text text-anchor=\"middle\" x=\"19\" y=\"-124.8\" font-family=\"Times,serif\" font-size=\"14.00\">x2</text>\n<polyline fill=\"none\" stroke=\"black\" points=\"34,-110.5 34,-146.5 \"/>\n<text text-anchor=\"middle\" x=\"74\" y=\"-124.8\" font-family=\"Times,serif\" font-size=\"14.00\">data:0.0000</text>\n<polyline fill=\"none\" stroke=\"black\" points=\"114,-110.5 114,-146.5 \"/>\n<text text-anchor=\"middle\" x=\"155\" y=\"-124.8\" font-family=\"Times,serif\" font-size=\"14.00\">grad:0.5001</text>\n</g>\n<!-- 140465595197920&#45;&gt;140465595192448* -->\n<g id=\"edge13\" class=\"edge\">\n<title>140465595197920&#45;&gt;140465595192448*</title>\n<path fill=\"none\" stroke=\"black\" d=\"M196.05,-128.5C206.52,-128.5 216.65,-128.5 225.71,-128.5\"/>\n<polygon fill=\"black\" stroke=\"black\" points=\"225.79,-132 235.79,-128.5 225.79,-125 225.79,-132\"/>\n</g>\n</g>\n</svg>\n",
      "text/plain": [
       "<graphviz.graphs.Digraph at 0x7fc0b1e7ae90>"
      ]
     },
     "execution_count": 7,
     "metadata": {},
     "output_type": "execute_result"
    }
   ],
   "source": [
    "o.backward()\n",
    "draw_dot(o)"
   ]
  },
  {
   "cell_type": "code",
   "execution_count": 20,
   "metadata": {},
   "outputs": [
    {
     "data": {
      "image/svg+xml": "<?xml version=\"1.0\" encoding=\"UTF-8\" standalone=\"no\"?>\n<!DOCTYPE svg PUBLIC \"-//W3C//DTD SVG 1.1//EN\"\n \"http://www.w3.org/Graphics/SVG/1.1/DTD/svg11.dtd\">\n<!-- Generated by graphviz version 2.50.0 (0)\n -->\n<!-- Pages: 1 -->\n<svg width=\"2909pt\" height=\"239pt\"\n viewBox=\"0.00 0.00 2909.00 239.00\" xmlns=\"http://www.w3.org/2000/svg\" xmlns:xlink=\"http://www.w3.org/1999/xlink\">\n<g id=\"graph0\" class=\"graph\" transform=\"scale(1 1) rotate(0) translate(4 235)\">\n<polygon fill=\"white\" stroke=\"transparent\" points=\"-4,4 -4,-235 2905,-235 2905,4 -4,4\"/>\n<!-- 140465113085456 -->\n<g id=\"node1\" class=\"node\">\n<title>140465113085456</title>\n<polygon fill=\"none\" stroke=\"black\" points=\"1655,-110.5 1655,-146.5 1842,-146.5 1842,-110.5 1655,-110.5\"/>\n<text text-anchor=\"middle\" x=\"1665\" y=\"-124.8\" font-family=\"Times,serif\" font-size=\"14.00\"> </text>\n<polyline fill=\"none\" stroke=\"black\" points=\"1675,-110.5 1675,-146.5 \"/>\n<text text-anchor=\"middle\" x=\"1717.5\" y=\"-124.8\" font-family=\"Times,serif\" font-size=\"14.00\">data:&#45;1.0000</text>\n<polyline fill=\"none\" stroke=\"black\" points=\"1760,-110.5 1760,-146.5 \"/>\n<text text-anchor=\"middle\" x=\"1801\" y=\"-124.8\" font-family=\"Times,serif\" font-size=\"14.00\">grad:0.1465</text>\n</g>\n<!-- 140465113085504+ -->\n<g id=\"node4\" class=\"node\">\n<title>140465113085504+</title>\n<ellipse fill=\"none\" stroke=\"black\" cx=\"1905\" cy=\"-100.5\" rx=\"27\" ry=\"18\"/>\n<text text-anchor=\"middle\" x=\"1905\" y=\"-96.8\" font-family=\"Times,serif\" font-size=\"14.00\">+</text>\n</g>\n<!-- 140465113085456&#45;&gt;140465113085504+ -->\n<g id=\"edge26\" class=\"edge\">\n<title>140465113085456&#45;&gt;140465113085504+</title>\n<path fill=\"none\" stroke=\"black\" d=\"M1842.05,-111.73C1851.54,-110.01 1860.71,-108.35 1868.95,-106.85\"/>\n<polygon fill=\"black\" stroke=\"black\" points=\"1869.64,-110.28 1878.85,-105.06 1868.39,-103.4 1869.64,-110.28\"/>\n</g>\n<!-- 140465113075760 -->\n<g id=\"node2\" class=\"node\">\n<title>140465113075760</title>\n<polygon fill=\"none\" stroke=\"black\" points=\"0,-194.5 0,-230.5 200,-230.5 200,-194.5 0,-194.5\"/>\n<text text-anchor=\"middle\" x=\"16.5\" y=\"-208.8\" font-family=\"Times,serif\" font-size=\"14.00\">w1</text>\n<polyline fill=\"none\" stroke=\"black\" points=\"33,-194.5 33,-230.5 \"/>\n<text text-anchor=\"middle\" x=\"75.5\" y=\"-208.8\" font-family=\"Times,serif\" font-size=\"14.00\">data:&#45;3.0000</text>\n<polyline fill=\"none\" stroke=\"black\" points=\"118,-194.5 118,-230.5 \"/>\n<text text-anchor=\"middle\" x=\"159\" y=\"-208.8\" font-family=\"Times,serif\" font-size=\"14.00\">grad:1.0001</text>\n</g>\n<!-- 140465113079264* -->\n<g id=\"node9\" class=\"node\">\n<title>140465113079264*</title>\n<ellipse fill=\"none\" stroke=\"black\" cx=\"263\" cy=\"-157.5\" rx=\"27\" ry=\"18\"/>\n<text text-anchor=\"middle\" x=\"263\" y=\"-153.8\" font-family=\"Times,serif\" font-size=\"14.00\">*</text>\n</g>\n<!-- 140465113075760&#45;&gt;140465113079264* -->\n<g id=\"edge12\" class=\"edge\">\n<title>140465113075760&#45;&gt;140465113079264*</title>\n<path fill=\"none\" stroke=\"black\" d=\"M172.53,-194.44C181.84,-191.67 191.2,-188.67 200,-185.5 210.53,-181.71 221.75,-176.9 231.72,-172.33\"/>\n<polygon fill=\"black\" stroke=\"black\" points=\"233.25,-175.48 240.82,-168.07 230.28,-169.14 233.25,-175.48\"/>\n</g>\n<!-- 140465113085504 -->\n<g id=\"node3\" class=\"node\">\n<title>140465113085504</title>\n<polygon fill=\"none\" stroke=\"black\" points=\"2190,-82.5 2190,-118.5 2372,-118.5 2372,-82.5 2190,-82.5\"/>\n<text text-anchor=\"middle\" x=\"2200\" y=\"-96.8\" font-family=\"Times,serif\" font-size=\"14.00\"> </text>\n<polyline fill=\"none\" stroke=\"black\" points=\"2210,-82.5 2210,-118.5 \"/>\n<text text-anchor=\"middle\" x=\"2250\" y=\"-96.8\" font-family=\"Times,serif\" font-size=\"14.00\">data:4.8276</text>\n<polyline fill=\"none\" stroke=\"black\" points=\"2290,-82.5 2290,-118.5 \"/>\n<text text-anchor=\"middle\" x=\"2331\" y=\"-96.8\" font-family=\"Times,serif\" font-size=\"14.00\">grad:0.1465</text>\n</g>\n<!-- 140465113077728* -->\n<g id=\"node28\" class=\"node\">\n<title>140465113077728*</title>\n<ellipse fill=\"none\" stroke=\"black\" cx=\"2653\" cy=\"-72.5\" rx=\"27\" ry=\"18\"/>\n<text text-anchor=\"middle\" x=\"2653\" y=\"-68.8\" font-family=\"Times,serif\" font-size=\"14.00\">*</text>\n</g>\n<!-- 140465113085504&#45;&gt;140465113077728* -->\n<g id=\"edge17\" class=\"edge\">\n<title>140465113085504&#45;&gt;140465113077728*</title>\n<path fill=\"none\" stroke=\"black\" d=\"M2372.04,-93.69C2450.41,-87.76 2559.98,-79.46 2615.96,-75.23\"/>\n<polygon fill=\"black\" stroke=\"black\" points=\"2616.39,-78.7 2626.1,-74.46 2615.86,-71.72 2616.39,-78.7\"/>\n</g>\n<!-- 140465113085504+&#45;&gt;140465113085504 -->\n<g id=\"edge1\" class=\"edge\">\n<title>140465113085504+&#45;&gt;140465113085504</title>\n<path fill=\"none\" stroke=\"black\" d=\"M1932,-100.5C1982.46,-100.5 2096.06,-100.5 2179.81,-100.5\"/>\n<polygon fill=\"black\" stroke=\"black\" points=\"2179.87,-104 2189.87,-100.5 2179.87,-97 2179.87,-104\"/>\n</g>\n<!-- 140465113081424 -->\n<g id=\"node5\" class=\"node\">\n<title>140465113081424</title>\n<polygon fill=\"none\" stroke=\"black\" points=\"666,-111.5 666,-147.5 910,-147.5 910,-111.5 666,-111.5\"/>\n<text text-anchor=\"middle\" x=\"704.5\" y=\"-125.8\" font-family=\"Times,serif\" font-size=\"14.00\">x1w1x2w2</text>\n<polyline fill=\"none\" stroke=\"black\" points=\"743,-111.5 743,-147.5 \"/>\n<text text-anchor=\"middle\" x=\"785.5\" y=\"-125.8\" font-family=\"Times,serif\" font-size=\"14.00\">data:&#45;6.0000</text>\n<polyline fill=\"none\" stroke=\"black\" points=\"828,-111.5 828,-147.5 \"/>\n<text text-anchor=\"middle\" x=\"869\" y=\"-125.8\" font-family=\"Times,serif\" font-size=\"14.00\">grad:0.5001</text>\n</g>\n<!-- 140465113081088+ -->\n<g id=\"node14\" class=\"node\">\n<title>140465113081088+</title>\n<ellipse fill=\"none\" stroke=\"black\" cx=\"973\" cy=\"-101.5\" rx=\"27\" ry=\"18\"/>\n<text text-anchor=\"middle\" x=\"973\" y=\"-97.8\" font-family=\"Times,serif\" font-size=\"14.00\">+</text>\n</g>\n<!-- 140465113081424&#45;&gt;140465113081088+ -->\n<g id=\"edge13\" class=\"edge\">\n<title>140465113081424&#45;&gt;140465113081088+</title>\n<path fill=\"none\" stroke=\"black\" d=\"M906.71,-111.49C917.38,-109.86 927.53,-108.3 936.51,-106.93\"/>\n<polygon fill=\"black\" stroke=\"black\" points=\"937.13,-110.38 946.48,-105.4 936.07,-103.46 937.13,-110.38\"/>\n</g>\n<!-- 140465113081424+ -->\n<g id=\"node6\" class=\"node\">\n<title>140465113081424+</title>\n<ellipse fill=\"none\" stroke=\"black\" cx=\"603\" cy=\"-129.5\" rx=\"27\" ry=\"18\"/>\n<text text-anchor=\"middle\" x=\"603\" y=\"-125.8\" font-family=\"Times,serif\" font-size=\"14.00\">+</text>\n</g>\n<!-- 140465113081424+&#45;&gt;140465113081424 -->\n<g id=\"edge2\" class=\"edge\">\n<title>140465113081424+&#45;&gt;140465113081424</title>\n<path fill=\"none\" stroke=\"black\" d=\"M630.22,-129.5C637.7,-129.5 646.4,-129.5 655.79,-129.5\"/>\n<polygon fill=\"black\" stroke=\"black\" points=\"655.8,-133 665.8,-129.5 655.8,-126 655.8,-133\"/>\n</g>\n<!-- 140465113075808 -->\n<g id=\"node7\" class=\"node\">\n<title>140465113075808</title>\n<polygon fill=\"none\" stroke=\"black\" points=\"2.5,-84.5 2.5,-120.5 197.5,-120.5 197.5,-84.5 2.5,-84.5\"/>\n<text text-anchor=\"middle\" x=\"19\" y=\"-98.8\" font-family=\"Times,serif\" font-size=\"14.00\">w2</text>\n<polyline fill=\"none\" stroke=\"black\" points=\"35.5,-84.5 35.5,-120.5 \"/>\n<text text-anchor=\"middle\" x=\"75.5\" y=\"-98.8\" font-family=\"Times,serif\" font-size=\"14.00\">data:1.0000</text>\n<polyline fill=\"none\" stroke=\"black\" points=\"115.5,-84.5 115.5,-120.5 \"/>\n<text text-anchor=\"middle\" x=\"156.5\" y=\"-98.8\" font-family=\"Times,serif\" font-size=\"14.00\">grad:0.0000</text>\n</g>\n<!-- 140465113081664* -->\n<g id=\"node19\" class=\"node\">\n<title>140465113081664*</title>\n<ellipse fill=\"none\" stroke=\"black\" cx=\"263\" cy=\"-102.5\" rx=\"27\" ry=\"18\"/>\n<text text-anchor=\"middle\" x=\"263\" y=\"-98.8\" font-family=\"Times,serif\" font-size=\"14.00\">*</text>\n</g>\n<!-- 140465113075808&#45;&gt;140465113081664* -->\n<g id=\"edge14\" class=\"edge\">\n<title>140465113075808&#45;&gt;140465113081664*</title>\n<path fill=\"none\" stroke=\"black\" d=\"M197.91,-102.5C207.65,-102.5 217.05,-102.5 225.52,-102.5\"/>\n<polygon fill=\"black\" stroke=\"black\" points=\"225.7,-106 235.7,-102.5 225.7,-99 225.7,-106\"/>\n</g>\n<!-- 140465113079264 -->\n<g id=\"node8\" class=\"node\">\n<title>140465113079264</title>\n<polygon fill=\"none\" stroke=\"black\" points=\"326,-139.5 326,-175.5 540,-175.5 540,-139.5 326,-139.5\"/>\n<text text-anchor=\"middle\" x=\"349.5\" y=\"-153.8\" font-family=\"Times,serif\" font-size=\"14.00\">x1w1</text>\n<polyline fill=\"none\" stroke=\"black\" points=\"373,-139.5 373,-175.5 \"/>\n<text text-anchor=\"middle\" x=\"415.5\" y=\"-153.8\" font-family=\"Times,serif\" font-size=\"14.00\">data:&#45;6.0000</text>\n<polyline fill=\"none\" stroke=\"black\" points=\"458,-139.5 458,-175.5 \"/>\n<text text-anchor=\"middle\" x=\"499\" y=\"-153.8\" font-family=\"Times,serif\" font-size=\"14.00\">grad:0.5001</text>\n</g>\n<!-- 140465113079264&#45;&gt;140465113081424+ -->\n<g id=\"edge27\" class=\"edge\">\n<title>140465113079264&#45;&gt;140465113081424+</title>\n<path fill=\"none\" stroke=\"black\" d=\"M540.4,-139.77C549.72,-138.21 558.65,-136.72 566.68,-135.39\"/>\n<polygon fill=\"black\" stroke=\"black\" points=\"567.38,-138.82 576.66,-133.72 566.22,-131.91 567.38,-138.82\"/>\n</g>\n<!-- 140465113079264*&#45;&gt;140465113079264 -->\n<g id=\"edge3\" class=\"edge\">\n<title>140465113079264*&#45;&gt;140465113079264</title>\n<path fill=\"none\" stroke=\"black\" d=\"M290.25,-157.5C297.7,-157.5 306.34,-157.5 315.59,-157.5\"/>\n<polygon fill=\"black\" stroke=\"black\" points=\"315.84,-161 325.84,-157.5 315.84,-154 315.84,-161\"/>\n</g>\n<!-- 140465113073888 -->\n<g id=\"node10\" class=\"node\">\n<title>140465113073888</title>\n<polygon fill=\"none\" stroke=\"black\" points=\"2,-139.5 2,-175.5 198,-175.5 198,-139.5 2,-139.5\"/>\n<text text-anchor=\"middle\" x=\"17\" y=\"-153.8\" font-family=\"Times,serif\" font-size=\"14.00\">x1</text>\n<polyline fill=\"none\" stroke=\"black\" points=\"32,-139.5 32,-175.5 \"/>\n<text text-anchor=\"middle\" x=\"72\" y=\"-153.8\" font-family=\"Times,serif\" font-size=\"14.00\">data:2.0000</text>\n<polyline fill=\"none\" stroke=\"black\" points=\"112,-139.5 112,-175.5 \"/>\n<text text-anchor=\"middle\" x=\"155\" y=\"-153.8\" font-family=\"Times,serif\" font-size=\"14.00\">grad:&#45;1.5002</text>\n</g>\n<!-- 140465113073888&#45;&gt;140465113079264* -->\n<g id=\"edge16\" class=\"edge\">\n<title>140465113073888&#45;&gt;140465113079264*</title>\n<path fill=\"none\" stroke=\"black\" d=\"M198.37,-157.5C208.05,-157.5 217.4,-157.5 225.8,-157.5\"/>\n<polygon fill=\"black\" stroke=\"black\" points=\"225.91,-161 235.91,-157.5 225.91,-154 225.91,-161\"/>\n</g>\n<!-- 140465113085696 -->\n<g id=\"node11\" class=\"node\">\n<title>140465113085696</title>\n<polygon fill=\"none\" stroke=\"black\" points=\"1347,-55.5 1347,-91.5 1529,-91.5 1529,-55.5 1347,-55.5\"/>\n<text text-anchor=\"middle\" x=\"1357\" y=\"-69.8\" font-family=\"Times,serif\" font-size=\"14.00\"> </text>\n<polyline fill=\"none\" stroke=\"black\" points=\"1367,-55.5 1367,-91.5 \"/>\n<text text-anchor=\"middle\" x=\"1407\" y=\"-69.8\" font-family=\"Times,serif\" font-size=\"14.00\">data:1.7626</text>\n<polyline fill=\"none\" stroke=\"black\" points=\"1447,-55.5 1447,-91.5 \"/>\n<text text-anchor=\"middle\" x=\"1488\" y=\"-69.8\" font-family=\"Times,serif\" font-size=\"14.00\">grad:0.2500</text>\n</g>\n<!-- 140465113085888exp -->\n<g id=\"node24\" class=\"node\">\n<title>140465113085888exp</title>\n<ellipse fill=\"none\" stroke=\"black\" cx=\"1592\" cy=\"-73.5\" rx=\"27\" ry=\"18\"/>\n<text text-anchor=\"middle\" x=\"1592\" y=\"-69.8\" font-family=\"Times,serif\" font-size=\"14.00\">exp</text>\n</g>\n<!-- 140465113085696&#45;&gt;140465113085888exp -->\n<g id=\"edge19\" class=\"edge\">\n<title>140465113085696&#45;&gt;140465113085888exp</title>\n<path fill=\"none\" stroke=\"black\" d=\"M1529.18,-73.5C1538.14,-73.5 1546.83,-73.5 1554.73,-73.5\"/>\n<polygon fill=\"black\" stroke=\"black\" points=\"1554.96,-77 1564.96,-73.5 1554.96,-70 1554.96,-77\"/>\n</g>\n<!-- 140465113085696* -->\n<g id=\"node12\" class=\"node\">\n<title>140465113085696*</title>\n<ellipse fill=\"none\" stroke=\"black\" cx=\"1284\" cy=\"-73.5\" rx=\"27\" ry=\"18\"/>\n<text text-anchor=\"middle\" x=\"1284\" y=\"-69.8\" font-family=\"Times,serif\" font-size=\"14.00\">*</text>\n</g>\n<!-- 140465113085696*&#45;&gt;140465113085696 -->\n<g id=\"edge4\" class=\"edge\">\n<title>140465113085696*&#45;&gt;140465113085696</title>\n<path fill=\"none\" stroke=\"black\" d=\"M1311.13,-73.5C1318.67,-73.5 1327.39,-73.5 1336.64,-73.5\"/>\n<polygon fill=\"black\" stroke=\"black\" points=\"1336.87,-77 1346.87,-73.5 1336.87,-70 1336.87,-77\"/>\n</g>\n<!-- 140465113081088 -->\n<g id=\"node13\" class=\"node\">\n<title>140465113081088</title>\n<polygon fill=\"none\" stroke=\"black\" points=\"1036,-83.5 1036,-119.5 1221,-119.5 1221,-83.5 1036,-83.5\"/>\n<text text-anchor=\"middle\" x=\"1047.5\" y=\"-97.8\" font-family=\"Times,serif\" font-size=\"14.00\">n</text>\n<polyline fill=\"none\" stroke=\"black\" points=\"1059,-83.5 1059,-119.5 \"/>\n<text text-anchor=\"middle\" x=\"1099\" y=\"-97.8\" font-family=\"Times,serif\" font-size=\"14.00\">data:0.8813</text>\n<polyline fill=\"none\" stroke=\"black\" points=\"1139,-83.5 1139,-119.5 \"/>\n<text text-anchor=\"middle\" x=\"1180\" y=\"-97.8\" font-family=\"Times,serif\" font-size=\"14.00\">grad:0.5001</text>\n</g>\n<!-- 140465113081088&#45;&gt;140465113085696* -->\n<g id=\"edge25\" class=\"edge\">\n<title>140465113081088&#45;&gt;140465113085696*</title>\n<path fill=\"none\" stroke=\"black\" d=\"M1221.01,-84.81C1230.49,-83.08 1239.66,-81.41 1247.9,-79.9\"/>\n<polygon fill=\"black\" stroke=\"black\" points=\"1248.6,-83.33 1257.81,-78.09 1247.35,-76.45 1248.6,-83.33\"/>\n</g>\n<!-- 140465113081088+&#45;&gt;140465113081088 -->\n<g id=\"edge5\" class=\"edge\">\n<title>140465113081088+&#45;&gt;140465113081088</title>\n<path fill=\"none\" stroke=\"black\" d=\"M1000.04,-101.5C1007.58,-101.5 1016.3,-101.5 1025.57,-101.5\"/>\n<polygon fill=\"black\" stroke=\"black\" points=\"1025.81,-105 1035.81,-101.5 1025.81,-98 1025.81,-105\"/>\n</g>\n<!-- 140465113078544 -->\n<g id=\"node15\" class=\"node\">\n<title>140465113078544</title>\n<polygon fill=\"none\" stroke=\"black\" points=\"1968,-27.5 1968,-63.5 2154,-63.5 2154,-27.5 1968,-27.5\"/>\n<text text-anchor=\"middle\" x=\"1978\" y=\"-41.8\" font-family=\"Times,serif\" font-size=\"14.00\"> </text>\n<polyline fill=\"none\" stroke=\"black\" points=\"1988,-27.5 1988,-63.5 \"/>\n<text text-anchor=\"middle\" x=\"2028\" y=\"-41.8\" font-family=\"Times,serif\" font-size=\"14.00\">data:6.8276</text>\n<polyline fill=\"none\" stroke=\"black\" points=\"2068,-27.5 2068,-63.5 \"/>\n<text text-anchor=\"middle\" x=\"2111\" y=\"-41.8\" font-family=\"Times,serif\" font-size=\"14.00\">grad:&#45;0.1036</text>\n</g>\n<!-- 140465113086416**&#45;1 -->\n<g id=\"node26\" class=\"node\">\n<title>140465113086416**&#45;1</title>\n<ellipse fill=\"none\" stroke=\"black\" cx=\"2281\" cy=\"-45.5\" rx=\"27\" ry=\"18\"/>\n<text text-anchor=\"middle\" x=\"2281\" y=\"-41.8\" font-family=\"Times,serif\" font-size=\"14.00\">**&#45;1</text>\n</g>\n<!-- 140465113078544&#45;&gt;140465113086416**&#45;1 -->\n<g id=\"edge23\" class=\"edge\">\n<title>140465113078544&#45;&gt;140465113086416**&#45;1</title>\n<path fill=\"none\" stroke=\"black\" d=\"M2154.14,-45.5C2185.72,-45.5 2219.24,-45.5 2243.74,-45.5\"/>\n<polygon fill=\"black\" stroke=\"black\" points=\"2243.98,-49 2253.98,-45.5 2243.98,-42 2243.98,-49\"/>\n</g>\n<!-- 140465113078544+ -->\n<g id=\"node16\" class=\"node\">\n<title>140465113078544+</title>\n<ellipse fill=\"none\" stroke=\"black\" cx=\"1905\" cy=\"-45.5\" rx=\"27\" ry=\"18\"/>\n<text text-anchor=\"middle\" x=\"1905\" y=\"-41.8\" font-family=\"Times,serif\" font-size=\"14.00\">+</text>\n</g>\n<!-- 140465113078544+&#45;&gt;140465113078544 -->\n<g id=\"edge6\" class=\"edge\">\n<title>140465113078544+&#45;&gt;140465113078544</title>\n<path fill=\"none\" stroke=\"black\" d=\"M1932.12,-45.5C1939.62,-45.5 1948.29,-45.5 1957.5,-45.5\"/>\n<polygon fill=\"black\" stroke=\"black\" points=\"1957.69,-49 1967.69,-45.5 1957.69,-42 1957.69,-49\"/>\n</g>\n<!-- 140465113072448 -->\n<g id=\"node17\" class=\"node\">\n<title>140465113072448</title>\n<polygon fill=\"none\" stroke=\"black\" points=\"695.5,-56.5 695.5,-92.5 880.5,-92.5 880.5,-56.5 695.5,-56.5\"/>\n<text text-anchor=\"middle\" x=\"707\" y=\"-70.8\" font-family=\"Times,serif\" font-size=\"14.00\">b</text>\n<polyline fill=\"none\" stroke=\"black\" points=\"718.5,-56.5 718.5,-92.5 \"/>\n<text text-anchor=\"middle\" x=\"758.5\" y=\"-70.8\" font-family=\"Times,serif\" font-size=\"14.00\">data:6.8813</text>\n<polyline fill=\"none\" stroke=\"black\" points=\"798.5,-56.5 798.5,-92.5 \"/>\n<text text-anchor=\"middle\" x=\"839.5\" y=\"-70.8\" font-family=\"Times,serif\" font-size=\"14.00\">grad:0.5001</text>\n</g>\n<!-- 140465113072448&#45;&gt;140465113081088+ -->\n<g id=\"edge21\" class=\"edge\">\n<title>140465113072448&#45;&gt;140465113081088+</title>\n<path fill=\"none\" stroke=\"black\" d=\"M880.77,-88.04C900.52,-90.95 920.26,-93.87 936.29,-96.23\"/>\n<polygon fill=\"black\" stroke=\"black\" points=\"935.86,-99.71 946.26,-97.7 936.88,-92.78 935.86,-99.71\"/>\n</g>\n<!-- 140465113081664 -->\n<g id=\"node18\" class=\"node\">\n<title>140465113081664</title>\n<polygon fill=\"none\" stroke=\"black\" points=\"328.5,-84.5 328.5,-120.5 537.5,-120.5 537.5,-84.5 328.5,-84.5\"/>\n<text text-anchor=\"middle\" x=\"352\" y=\"-98.8\" font-family=\"Times,serif\" font-size=\"14.00\">x2w2</text>\n<polyline fill=\"none\" stroke=\"black\" points=\"375.5,-84.5 375.5,-120.5 \"/>\n<text text-anchor=\"middle\" x=\"415.5\" y=\"-98.8\" font-family=\"Times,serif\" font-size=\"14.00\">data:0.0000</text>\n<polyline fill=\"none\" stroke=\"black\" points=\"455.5,-84.5 455.5,-120.5 \"/>\n<text text-anchor=\"middle\" x=\"496.5\" y=\"-98.8\" font-family=\"Times,serif\" font-size=\"14.00\">grad:0.5001</text>\n</g>\n<!-- 140465113081664&#45;&gt;140465113081424+ -->\n<g id=\"edge11\" class=\"edge\">\n<title>140465113081664&#45;&gt;140465113081424+</title>\n<path fill=\"none\" stroke=\"black\" d=\"M537.53,-119.14C547.8,-120.79 557.66,-122.37 566.45,-123.79\"/>\n<polygon fill=\"black\" stroke=\"black\" points=\"566.16,-127.28 576.59,-125.42 567.27,-120.37 566.16,-127.28\"/>\n</g>\n<!-- 140465113081664*&#45;&gt;140465113081664 -->\n<g id=\"edge7\" class=\"edge\">\n<title>140465113081664*&#45;&gt;140465113081664</title>\n<path fill=\"none\" stroke=\"black\" d=\"M290.25,-102.5C298.43,-102.5 308.03,-102.5 318.31,-102.5\"/>\n<polygon fill=\"black\" stroke=\"black\" points=\"318.35,-106 328.35,-102.5 318.35,-99 318.35,-106\"/>\n</g>\n<!-- 140465113079120 -->\n<g id=\"node20\" class=\"node\">\n<title>140465113079120</title>\n<polygon fill=\"none\" stroke=\"black\" points=\"1037.5,-28.5 1037.5,-64.5 1219.5,-64.5 1219.5,-28.5 1037.5,-28.5\"/>\n<text text-anchor=\"middle\" x=\"1047.5\" y=\"-42.8\" font-family=\"Times,serif\" font-size=\"14.00\"> </text>\n<polyline fill=\"none\" stroke=\"black\" points=\"1057.5,-28.5 1057.5,-64.5 \"/>\n<text text-anchor=\"middle\" x=\"1097.5\" y=\"-42.8\" font-family=\"Times,serif\" font-size=\"14.00\">data:2.0000</text>\n<polyline fill=\"none\" stroke=\"black\" points=\"1137.5,-28.5 1137.5,-64.5 \"/>\n<text text-anchor=\"middle\" x=\"1178.5\" y=\"-42.8\" font-family=\"Times,serif\" font-size=\"14.00\">grad:0.2203</text>\n</g>\n<!-- 140465113079120&#45;&gt;140465113085696* -->\n<g id=\"edge28\" class=\"edge\">\n<title>140465113079120&#45;&gt;140465113085696*</title>\n<path fill=\"none\" stroke=\"black\" d=\"M1219.68,-62.36C1229.61,-64.11 1239.23,-65.8 1247.84,-67.32\"/>\n<polygon fill=\"black\" stroke=\"black\" points=\"1247.36,-70.78 1257.81,-69.07 1248.57,-63.89 1247.36,-70.78\"/>\n</g>\n<!-- 140465113087904 -->\n<g id=\"node21\" class=\"node\">\n<title>140465113087904</title>\n<polygon fill=\"none\" stroke=\"black\" points=\"1655.5,-0.5 1655.5,-36.5 1841.5,-36.5 1841.5,-0.5 1655.5,-0.5\"/>\n<text text-anchor=\"middle\" x=\"1665.5\" y=\"-14.8\" font-family=\"Times,serif\" font-size=\"14.00\"> </text>\n<polyline fill=\"none\" stroke=\"black\" points=\"1675.5,-0.5 1675.5,-36.5 \"/>\n<text text-anchor=\"middle\" x=\"1715.5\" y=\"-14.8\" font-family=\"Times,serif\" font-size=\"14.00\">data:1.0000</text>\n<polyline fill=\"none\" stroke=\"black\" points=\"1755.5,-0.5 1755.5,-36.5 \"/>\n<text text-anchor=\"middle\" x=\"1798.5\" y=\"-14.8\" font-family=\"Times,serif\" font-size=\"14.00\">grad:&#45;0.1036</text>\n</g>\n<!-- 140465113087904&#45;&gt;140465113078544+ -->\n<g id=\"edge24\" class=\"edge\">\n<title>140465113087904&#45;&gt;140465113078544+</title>\n<path fill=\"none\" stroke=\"black\" d=\"M1841.6,-34.6C1851.15,-36.26 1860.37,-37.88 1868.68,-39.33\"/>\n<polygon fill=\"black\" stroke=\"black\" points=\"1868.2,-42.8 1878.65,-41.07 1869.4,-35.9 1868.2,-42.8\"/>\n</g>\n<!-- 140465113086896 -->\n<g id=\"node22\" class=\"node\">\n<title>140465113086896</title>\n<polygon fill=\"none\" stroke=\"black\" points=\"4,-29.5 4,-65.5 196,-65.5 196,-29.5 4,-29.5\"/>\n<text text-anchor=\"middle\" x=\"19\" y=\"-43.8\" font-family=\"Times,serif\" font-size=\"14.00\">x2</text>\n<polyline fill=\"none\" stroke=\"black\" points=\"34,-29.5 34,-65.5 \"/>\n<text text-anchor=\"middle\" x=\"74\" y=\"-43.8\" font-family=\"Times,serif\" font-size=\"14.00\">data:0.0000</text>\n<polyline fill=\"none\" stroke=\"black\" points=\"114,-29.5 114,-65.5 \"/>\n<text text-anchor=\"middle\" x=\"155\" y=\"-43.8\" font-family=\"Times,serif\" font-size=\"14.00\">grad:0.5001</text>\n</g>\n<!-- 140465113086896&#45;&gt;140465113081664* -->\n<g id=\"edge15\" class=\"edge\">\n<title>140465113086896&#45;&gt;140465113081664*</title>\n<path fill=\"none\" stroke=\"black\" d=\"M172.53,-65.56C181.84,-68.33 191.2,-71.33 200,-74.5 210.53,-78.29 221.75,-83.1 231.72,-87.67\"/>\n<polygon fill=\"black\" stroke=\"black\" points=\"230.28,-90.86 240.82,-91.93 233.25,-84.52 230.28,-90.86\"/>\n</g>\n<!-- 140465113085888 -->\n<g id=\"node23\" class=\"node\">\n<title>140465113085888</title>\n<polygon fill=\"none\" stroke=\"black\" points=\"1657.5,-55.5 1657.5,-91.5 1839.5,-91.5 1839.5,-55.5 1657.5,-55.5\"/>\n<text text-anchor=\"middle\" x=\"1667.5\" y=\"-69.8\" font-family=\"Times,serif\" font-size=\"14.00\"> </text>\n<polyline fill=\"none\" stroke=\"black\" points=\"1677.5,-55.5 1677.5,-91.5 \"/>\n<text text-anchor=\"middle\" x=\"1717.5\" y=\"-69.8\" font-family=\"Times,serif\" font-size=\"14.00\">data:5.8276</text>\n<polyline fill=\"none\" stroke=\"black\" points=\"1757.5,-55.5 1757.5,-91.5 \"/>\n<text text-anchor=\"middle\" x=\"1798.5\" y=\"-69.8\" font-family=\"Times,serif\" font-size=\"14.00\">grad:0.0429</text>\n</g>\n<!-- 140465113085888&#45;&gt;140465113085504+ -->\n<g id=\"edge18\" class=\"edge\">\n<title>140465113085888&#45;&gt;140465113085504+</title>\n<path fill=\"none\" stroke=\"black\" d=\"M1839.82,-89.28C1850.07,-91.08 1860.01,-92.81 1868.88,-94.36\"/>\n<polygon fill=\"black\" stroke=\"black\" points=\"1868.3,-97.81 1878.75,-96.09 1869.5,-90.92 1868.3,-97.81\"/>\n</g>\n<!-- 140465113085888&#45;&gt;140465113078544+ -->\n<g id=\"edge20\" class=\"edge\">\n<title>140465113085888&#45;&gt;140465113078544+</title>\n<path fill=\"none\" stroke=\"black\" d=\"M1839.82,-57.13C1850.07,-55.27 1860.01,-53.47 1868.88,-51.87\"/>\n<polygon fill=\"black\" stroke=\"black\" points=\"1869.54,-55.3 1878.75,-50.08 1868.29,-48.42 1869.54,-55.3\"/>\n</g>\n<!-- 140465113085888exp&#45;&gt;140465113085888 -->\n<g id=\"edge8\" class=\"edge\">\n<title>140465113085888exp&#45;&gt;140465113085888</title>\n<path fill=\"none\" stroke=\"black\" d=\"M1619.21,-73.5C1627.34,-73.5 1636.85,-73.5 1646.94,-73.5\"/>\n<polygon fill=\"black\" stroke=\"black\" points=\"1647.19,-77 1657.19,-73.5 1647.19,-70 1647.19,-77\"/>\n</g>\n<!-- 140465113086416 -->\n<g id=\"node25\" class=\"node\">\n<title>140465113086416</title>\n<polygon fill=\"none\" stroke=\"black\" points=\"2408,-31.5 2408,-67.5 2590,-67.5 2590,-31.5 2408,-31.5\"/>\n<text text-anchor=\"middle\" x=\"2418\" y=\"-45.8\" font-family=\"Times,serif\" font-size=\"14.00\"> </text>\n<polyline fill=\"none\" stroke=\"black\" points=\"2428,-31.5 2428,-67.5 \"/>\n<text text-anchor=\"middle\" x=\"2468\" y=\"-45.8\" font-family=\"Times,serif\" font-size=\"14.00\">data:0.1465</text>\n<polyline fill=\"none\" stroke=\"black\" points=\"2508,-31.5 2508,-67.5 \"/>\n<text text-anchor=\"middle\" x=\"2549\" y=\"-45.8\" font-family=\"Times,serif\" font-size=\"14.00\">grad:4.8276</text>\n</g>\n<!-- 140465113086416&#45;&gt;140465113077728* -->\n<g id=\"edge22\" class=\"edge\">\n<title>140465113086416&#45;&gt;140465113077728*</title>\n<path fill=\"none\" stroke=\"black\" d=\"M2590.18,-63.15C2599.42,-64.54 2608.38,-65.9 2616.47,-67.12\"/>\n<polygon fill=\"black\" stroke=\"black\" points=\"2616.15,-70.61 2626.56,-68.65 2617.19,-63.69 2616.15,-70.61\"/>\n</g>\n<!-- 140465113086416**&#45;1&#45;&gt;140465113086416 -->\n<g id=\"edge9\" class=\"edge\">\n<title>140465113086416**&#45;1&#45;&gt;140465113086416</title>\n<path fill=\"none\" stroke=\"black\" d=\"M2308.05,-45.98C2330.53,-46.4 2364.48,-47.03 2397.5,-47.64\"/>\n<polygon fill=\"black\" stroke=\"black\" points=\"2397.64,-51.14 2407.7,-47.83 2397.77,-44.14 2397.64,-51.14\"/>\n</g>\n<!-- 140465113077728 -->\n<g id=\"node27\" class=\"node\">\n<title>140465113077728</title>\n<polygon fill=\"none\" stroke=\"black\" points=\"2716,-54.5 2716,-90.5 2901,-90.5 2901,-54.5 2716,-54.5\"/>\n<text text-anchor=\"middle\" x=\"2727.5\" y=\"-68.8\" font-family=\"Times,serif\" font-size=\"14.00\">o</text>\n<polyline fill=\"none\" stroke=\"black\" points=\"2739,-54.5 2739,-90.5 \"/>\n<text text-anchor=\"middle\" x=\"2779\" y=\"-68.8\" font-family=\"Times,serif\" font-size=\"14.00\">data:0.7071</text>\n<polyline fill=\"none\" stroke=\"black\" points=\"2819,-54.5 2819,-90.5 \"/>\n<text text-anchor=\"middle\" x=\"2860\" y=\"-68.8\" font-family=\"Times,serif\" font-size=\"14.00\">grad:1.0000</text>\n</g>\n<!-- 140465113077728*&#45;&gt;140465113077728 -->\n<g id=\"edge10\" class=\"edge\">\n<title>140465113077728*&#45;&gt;140465113077728</title>\n<path fill=\"none\" stroke=\"black\" d=\"M2680.04,-72.5C2687.58,-72.5 2696.3,-72.5 2705.57,-72.5\"/>\n<polygon fill=\"black\" stroke=\"black\" points=\"2705.81,-76 2715.81,-72.5 2705.81,-69 2705.81,-76\"/>\n</g>\n</g>\n</svg>\n",
      "text/plain": [
       "<graphviz.graphs.Digraph at 0x7fc0952b3730>"
      ]
     },
     "execution_count": 20,
     "metadata": {},
     "output_type": "execute_result"
    }
   ],
   "source": [
    "x1 = Value(2.0, label='x1')\n",
    "x2 = Value(0.0, label='x2')\n",
    "\n",
    "w1 = Value(-3.0, label='w1')\n",
    "w2 = Value(1.0, label='w2')\n",
    "\n",
    "b = Value(6.8813, label='b')\n",
    "\n",
    "x1w1 = x1*w1; x1w1.label = 'x1w1'\n",
    "x2w2 = x2*w2; x2w2.label = 'x2w2'\n",
    "\n",
    "x1w1x2w2 = x1w1 + x2w2; x1w1x2w2.label = 'x1w1x2w2'\n",
    "\n",
    "n = x1w1x2w2 + b; n.label = 'n'\n",
    "\n",
    "e = (2*n).exp()\n",
    "o = (e - 1)/(e + 1) ; o.label = 'o'\n",
    "\n",
    "o.backward()\n",
    "draw_dot(o)"
   ]
  },
  {
   "cell_type": "code",
   "execution_count": 14,
   "metadata": {},
   "outputs": [],
   "source": [
    "# Doing exactly the same thing, but in Pytorch as an exercise\n",
    "import torch"
   ]
  },
  {
   "cell_type": "code",
   "execution_count": 22,
   "metadata": {},
   "outputs": [
    {
     "name": "stdout",
     "output_type": "stream",
     "text": [
      "0.7070699720278941\n",
      "----\n",
      "x2 0.5000520546564731\n",
      "w2 0.0\n",
      "x1 -1.5001561639694192\n",
      "w1 1.0001041093129461\n"
     ]
    }
   ],
   "source": [
    "x1 = torch.tensor([2.0]).double() ; x1.requires_grad = True\n",
    "x2 = torch.tensor([0.0]).double() ; x2.requires_grad = True\n",
    "\n",
    "w1 = torch.tensor([-3.0]).double() ; w1.requires_grad = True\n",
    "w2 = torch.tensor([1.0]).double() ; w2.requires_grad = True\n",
    "\n",
    "b = torch.tensor([6.8813]).double() ; b.requires_grad = True\n",
    "\n",
    "n = x1*w1 + x2*w2 + b\n",
    "o = torch.tanh(n)\n",
    "\n",
    "print(o.item())\n",
    "o.backward() \n",
    "\n",
    "print('----')\n",
    "print('x2', x2.grad.item())\n",
    "print('w2', w2.grad.item())\n",
    "print('x1', x1.grad.item())\n",
    "print('w1', w1.grad.item())"
   ]
  },
  {
   "cell_type": "code",
   "execution_count": 25,
   "metadata": {},
   "outputs": [],
   "source": [
    "import random"
   ]
  },
  {
   "cell_type": "code",
   "execution_count": 49,
   "metadata": {},
   "outputs": [],
   "source": [
    "class Neuron:\n",
    "\n",
    "    def __init__(self, nin):\n",
    "        self.w = [Value(random.uniform(-1,1)) for _ in range(nin)]\n",
    "        self.b = Value(random.uniform(-1,1))\n",
    "\n",
    "    def __call__(self, x):\n",
    "        act = sum((wi * xi for wi, xi in zip(self.w, x)), self.b)\n",
    "        out = act.tanh()\n",
    "        return out\n",
    "    \n",
    "    def parameters(self):\n",
    "        return self.w + [self.b]\n",
    "\n",
    "class Layer:\n",
    "    def __init__(self, nin, nout):\n",
    "        self.neurons = [Neuron(nin) for _ in range(nout)]\n",
    "\n",
    "    def __call__(self, x):\n",
    "        outs = [n(x) for n in self.neurons]\n",
    "        return outs[0] if len(outs) == 1 else outs\n",
    "    \n",
    "    def parameters(self):\n",
    "        return [p for neuron in self.neurons for p in neuron.parameters()]\n",
    "\n",
    "class MLP:\n",
    "    def __init__(self, nin, nouts):\n",
    "        sz = [nin] + nouts\n",
    "        self.layers = [Layer(sz[i], sz[i+1]) for i in range(len(nouts))]\n",
    "\n",
    "    def __call__(self, x):\n",
    "        for layer in self.layers:\n",
    "            x = layer(x)\n",
    "        return x\n",
    "    \n",
    "    def parameters(self):\n",
    "        return [p for layer in self.layers for p in layer.parameters()]"
   ]
  },
  {
   "cell_type": "code",
   "execution_count": 90,
   "metadata": {},
   "outputs": [
    {
     "data": {
      "text/plain": [
       "Value(data=0.7534332185278485)"
      ]
     },
     "execution_count": 90,
     "metadata": {},
     "output_type": "execute_result"
    }
   ],
   "source": [
    "x = [2.0, 3.0, -1]\n",
    "n = MLP(3, [4,4,1])\n",
    "n(x)"
   ]
  },
  {
   "cell_type": "code",
   "execution_count": 86,
   "metadata": {},
   "outputs": [
    {
     "data": {
      "text/plain": [
       "41"
      ]
     },
     "execution_count": 86,
     "metadata": {},
     "output_type": "execute_result"
    }
   ],
   "source": [
    "len(n.parameters())"
   ]
  },
  {
   "cell_type": "code",
   "execution_count": 91,
   "metadata": {},
   "outputs": [],
   "source": [
    "xs = [\n",
    "    [2.0, 3.0, -1.0],\n",
    "    [3.0, -1.0, 0.5],\n",
    "    [0.5, 1.0, 1.0],\n",
    "    [1.0, 1.0, -1.0]\n",
    "]\n",
    "ys = [1.0, -1.0, -1.0, 1.0]"
   ]
  },
  {
   "cell_type": "code",
   "execution_count": 92,
   "metadata": {},
   "outputs": [
    {
     "name": "stdout",
     "output_type": "stream",
     "text": [
      "Trained 0 epochs. Loss is 5.359890021638628\n",
      "Trained 1 epochs. Loss is 2.592664435243846\n",
      "Trained 2 epochs. Loss is 1.7510822993569337\n",
      "Trained 3 epochs. Loss is 0.9678179414595316\n",
      "Trained 4 epochs. Loss is 0.4615509787688467\n",
      "Trained 5 epochs. Loss is 0.26856254580225114\n",
      "Trained 6 epochs. Loss is 0.1900458118414436\n",
      "Trained 7 epochs. Loss is 0.14636504725834265\n",
      "Trained 8 epochs. Loss is 0.11857996060397133\n",
      "Trained 9 epochs. Loss is 0.09938044981966156\n",
      "Trained 10 epochs. Loss is 0.08534345000635428\n",
      "Trained 11 epochs. Loss is 0.0746502023326519\n",
      "Trained 12 epochs. Loss is 0.06624455087908344\n",
      "Trained 13 epochs. Loss is 0.0594712797715366\n",
      "Trained 14 epochs. Loss is 0.05390253605723064\n",
      "Trained 15 epochs. Loss is 0.04924724216971792\n",
      "Trained 16 epochs. Loss is 0.04530060337927149\n",
      "Trained 17 epochs. Loss is 0.04191442616417596\n",
      "Trained 18 epochs. Loss is 0.03897888572983477\n",
      "Trained 19 epochs. Loss is 0.03641090399705487\n"
     ]
    }
   ],
   "source": [
    "for k in range(20):\n",
    "    # Forward pass\n",
    "    ypred = [n(x) for x in xs]\n",
    "    loss = sum((yout - ygt)**2 for ygt, yout in zip(ys, ypred))\n",
    "    # Zero grad\n",
    "    for p in n.parameters():\n",
    "        p.grad = 0.0\n",
    "    # Backward pass\n",
    "    loss.backward()\n",
    "    # Update step\n",
    "    for p in n.parameters():\n",
    "        p.data += -0.05 * p.grad\n",
    "\n",
    "    print(f\"Trained {k} epochs. Loss is {loss.data}\")"
   ]
  },
  {
   "cell_type": "code",
   "execution_count": 93,
   "metadata": {},
   "outputs": [
    {
     "data": {
      "text/plain": [
       "[Value(data=0.9102584724273655),\n",
       " Value(data=-0.9195583347020672),\n",
       " Value(data=-0.9015472441355022),\n",
       " Value(data=0.889575566232985)]"
      ]
     },
     "execution_count": 93,
     "metadata": {},
     "output_type": "execute_result"
    }
   ],
   "source": [
    "ypred"
   ]
  }
 ],
 "metadata": {
  "kernelspec": {
   "display_name": "micrograd",
   "language": "python",
   "name": "python3"
  },
  "language_info": {
   "codemirror_mode": {
    "name": "ipython",
    "version": 3
   },
   "file_extension": ".py",
   "mimetype": "text/x-python",
   "name": "python",
   "nbconvert_exporter": "python",
   "pygments_lexer": "ipython3",
   "version": "3.10.9"
  },
  "orig_nbformat": 4,
  "vscode": {
   "interpreter": {
    "hash": "d869c3fb8843587b5baf8839fe7b5bfa687b40d30c8fa66afcb971c46615d4ee"
   }
  }
 },
 "nbformat": 4,
 "nbformat_minor": 2
}
