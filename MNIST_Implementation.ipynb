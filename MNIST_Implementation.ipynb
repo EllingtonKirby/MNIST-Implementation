{
  "nbformat": 4,
  "nbformat_minor": 0,
  "metadata": {
    "colab": {
      "name": "MNIST Implementation",
      "provenance": [],
      "collapsed_sections": [],
      "authorship_tag": "ABX9TyOLa2fNSoRgBU8TrXLm6SqR",
      "include_colab_link": true
    },
    "kernelspec": {
      "name": "python3",
      "display_name": "Python 3"
    },
    "language_info": {
      "name": "python"
    },
    "accelerator": "GPU"
  },
  "cells": [
    {
      "cell_type": "markdown",
      "metadata": {
        "id": "view-in-github",
        "colab_type": "text"
      },
      "source": [
        "<a href=\"https://colab.research.google.com/github/EllingtonKirby/MNIST-Implementation/blob/master/MNIST_Implementation.ipynb\" target=\"_parent\"><img src=\"https://colab.research.google.com/assets/colab-badge.svg\" alt=\"Open In Colab\"/></a>"
      ]
    },
    {
      "cell_type": "code",
      "metadata": {
        "id": "ZOOV0Mg8XqSI"
      },
      "source": [
        "#hide\n",
        "!pip install -Uqq fastbook\n",
        "import fastbook\n",
        "fastbook.setup_book()"
      ],
      "execution_count": null,
      "outputs": []
    },
    {
      "cell_type": "code",
      "metadata": {
        "id": "_rdrnan6YlEc"
      },
      "source": [
        "#hide\n",
        "from fastai.vision.all import *\n",
        "from fastbook import *\n",
        "\n",
        "matplotlib.rc('image', cmap='Greys')"
      ],
      "execution_count": null,
      "outputs": []
    },
    {
      "cell_type": "markdown",
      "metadata": {
        "id": "gjoZTl3ydTAb"
      },
      "source": [
        "# 1 - Reviewing how to untar datasets"
      ]
    },
    {
      "cell_type": "markdown",
      "metadata": {
        "id": "cDzeXctUdWj1"
      },
      "source": [
        ""
      ]
    },
    {
      "cell_type": "code",
      "metadata": {
        "id": "jkuQBzD_YnRG"
      },
      "source": [
        "path = untar_data(URLs.MNIST_SAMPLE)"
      ],
      "execution_count": null,
      "outputs": []
    },
    {
      "cell_type": "code",
      "metadata": {
        "colab": {
          "base_uri": "https://localhost:8080/"
        },
        "id": "V8Sb2l5UYru1",
        "outputId": "216556d6-7d82-4cf6-a4ef-c1f69cc627e2"
      },
      "source": [
        "path.ls()"
      ],
      "execution_count": null,
      "outputs": [
        {
          "output_type": "execute_result",
          "data": {
            "text/plain": [
              "(#3) [Path('/root/.fastai/data/mnist_sample/train'),Path('/root/.fastai/data/mnist_sample/valid'),Path('/root/.fastai/data/mnist_sample/labels.csv')]"
            ]
          },
          "metadata": {
            "tags": []
          },
          "execution_count": 5
        }
      ]
    },
    {
      "cell_type": "code",
      "metadata": {
        "id": "8tUqHoi2YyM6"
      },
      "source": [
        "Path.BASE_PATH = path"
      ],
      "execution_count": null,
      "outputs": []
    },
    {
      "cell_type": "code",
      "metadata": {
        "colab": {
          "base_uri": "https://localhost:8080/"
        },
        "id": "Kdr252miYzD1",
        "outputId": "0cd6e80e-f06c-4d14-97c7-7ad0a203d4d6"
      },
      "source": [
        "path.ls()"
      ],
      "execution_count": null,
      "outputs": [
        {
          "output_type": "execute_result",
          "data": {
            "text/plain": [
              "(#3) [Path('train'),Path('valid'),Path('labels.csv')]"
            ]
          },
          "metadata": {
            "tags": []
          },
          "execution_count": 7
        }
      ]
    },
    {
      "cell_type": "code",
      "metadata": {
        "colab": {
          "base_uri": "https://localhost:8080/"
        },
        "id": "Pv2CXxeaY5U0",
        "outputId": "dc4e46ce-03ee-465f-bfec-d029d1a9dc6f"
      },
      "source": [
        "(path/'train').ls()"
      ],
      "execution_count": null,
      "outputs": [
        {
          "output_type": "execute_result",
          "data": {
            "text/plain": [
              "(#2) [Path('train/7'),Path('train/3')]"
            ]
          },
          "metadata": {
            "tags": []
          },
          "execution_count": 8
        }
      ]
    },
    {
      "cell_type": "markdown",
      "metadata": {
        "id": "I_Bx4LhKdgte"
      },
      "source": [
        "#2 - Reviewing how to access PyTorch datasets"
      ]
    },
    {
      "cell_type": "code",
      "metadata": {
        "colab": {
          "base_uri": "https://localhost:8080/"
        },
        "id": "LD0uJ3BPZIbd",
        "outputId": "74e6b0cd-1909-477a-9e7d-9c73c065f8a0"
      },
      "source": [
        "!pip install torchvision"
      ],
      "execution_count": null,
      "outputs": [
        {
          "output_type": "stream",
          "text": [
            "Requirement already satisfied: torchvision in /usr/local/lib/python3.7/dist-packages (0.10.0+cu102)\n",
            "Requirement already satisfied: pillow>=5.3.0 in /usr/local/lib/python3.7/dist-packages (from torchvision) (7.1.2)\n",
            "Requirement already satisfied: numpy in /usr/local/lib/python3.7/dist-packages (from torchvision) (1.19.5)\n",
            "Requirement already satisfied: torch==1.9.0 in /usr/local/lib/python3.7/dist-packages (from torchvision) (1.9.0+cu102)\n",
            "Requirement already satisfied: typing-extensions in /usr/local/lib/python3.7/dist-packages (from torch==1.9.0->torchvision) (3.7.4.3)\n"
          ],
          "name": "stdout"
        }
      ]
    },
    {
      "cell_type": "code",
      "metadata": {
        "id": "v28_wMNZZU7f"
      },
      "source": [
        "import torchvision\n",
        "from torchvision import datasets"
      ],
      "execution_count": null,
      "outputs": []
    },
    {
      "cell_type": "code",
      "metadata": {
        "id": "CsqUEo4yZaop"
      },
      "source": [
        "#mnist_dataset = datasets.MNIST('/root/', download=True, train=True)\n",
        "#mnist_dataset"
      ],
      "execution_count": null,
      "outputs": []
    },
    {
      "cell_type": "code",
      "metadata": {
        "id": "q374cWFVbBJX"
      },
      "source": [
        "#from PIL import Image"
      ],
      "execution_count": null,
      "outputs": []
    },
    {
      "cell_type": "code",
      "metadata": {
        "id": "TfSBzRIyaV3c"
      },
      "source": [
        "#first_image, label = mnist_dataset.__getitem__(0)\n",
        "#first_image"
      ],
      "execution_count": null,
      "outputs": []
    },
    {
      "cell_type": "code",
      "metadata": {
        "id": "dxZA7pfQb7qw"
      },
      "source": [
        "#tensor_first_image = tensor(first_image)\n",
        "#df = pd.DataFrame(tensor_first_image[:,:])\n",
        "#df.style.set_properties(**{'font-size':'6pt'}).background_gradient('Greys')"
      ],
      "execution_count": null,
      "outputs": []
    },
    {
      "cell_type": "markdown",
      "metadata": {
        "id": "1lDKUfLudohl"
      },
      "source": [
        "#3 - Accessing the full MNIST Sample via FastAI"
      ]
    },
    {
      "cell_type": "code",
      "metadata": {
        "id": "8ru9b2DGcdz0"
      },
      "source": [
        "path_full = untar_data(URLs.MNIST)"
      ],
      "execution_count": null,
      "outputs": []
    },
    {
      "cell_type": "code",
      "metadata": {
        "id": "w5D8C1Ercwh9"
      },
      "source": [
        "Path.BASE_PATH = path_full"
      ],
      "execution_count": null,
      "outputs": []
    },
    {
      "cell_type": "code",
      "metadata": {
        "colab": {
          "base_uri": "https://localhost:8080/"
        },
        "id": "sNZ9CLX9csI2",
        "outputId": "c27a1fbe-0c78-479e-b904-500fd0b5c222"
      },
      "source": [
        "path_full.ls()"
      ],
      "execution_count": null,
      "outputs": [
        {
          "output_type": "execute_result",
          "data": {
            "text/plain": [
              "(#2) [Path('training'),Path('testing')]"
            ]
          },
          "metadata": {
            "tags": []
          },
          "execution_count": 17
        }
      ]
    },
    {
      "cell_type": "code",
      "metadata": {
        "colab": {
          "base_uri": "https://localhost:8080/"
        },
        "id": "rbKmqKA2cy-L",
        "outputId": "c2fa1b3d-1bb7-4585-d3c5-8dd2c0f1cca8"
      },
      "source": [
        "mnist_test_data = (path_full/'training').ls()\n",
        "mnist_test_data"
      ],
      "execution_count": null,
      "outputs": [
        {
          "output_type": "execute_result",
          "data": {
            "text/plain": [
              "(#10) [Path('training/8'),Path('training/0'),Path('training/2'),Path('training/4'),Path('training/5'),Path('training/7'),Path('training/9'),Path('training/3'),Path('training/1'),Path('training/6')]"
            ]
          },
          "metadata": {
            "tags": []
          },
          "execution_count": 18
        }
      ]
    },
    {
      "cell_type": "code",
      "metadata": {
        "colab": {
          "base_uri": "https://localhost:8080/"
        },
        "id": "jafBSa6wnsq9",
        "outputId": "0816e6d2-9569-42a8-d78a-d31b38773904"
      },
      "source": [
        "testing = (path_full/'testing').ls()\n",
        "testing"
      ],
      "execution_count": null,
      "outputs": [
        {
          "output_type": "execute_result",
          "data": {
            "text/plain": [
              "(#10) [Path('testing/8'),Path('testing/0'),Path('testing/2'),Path('testing/4'),Path('testing/5'),Path('testing/7'),Path('testing/9'),Path('testing/3'),Path('testing/1'),Path('testing/6')]"
            ]
          },
          "metadata": {
            "tags": []
          },
          "execution_count": 19
        }
      ]
    },
    {
      "cell_type": "code",
      "metadata": {
        "colab": {
          "base_uri": "https://localhost:8080/"
        },
        "id": "fmQOhOj3dC9n",
        "outputId": "5f244357-1945-4a8a-b656-0df89d342daf"
      },
      "source": [
        "# Let's take a look at a single 0\n",
        "test_data_zeroes = (path_full/'training/0').ls().sorted()\n",
        "test_data_zeroes"
      ],
      "execution_count": null,
      "outputs": [
        {
          "output_type": "execute_result",
          "data": {
            "text/plain": [
              "(#5923) [Path('training/0/1.png'),Path('training/0/1000.png'),Path('training/0/10005.png'),Path('training/0/10010.png'),Path('training/0/10022.png'),Path('training/0/10025.png'),Path('training/0/10026.png'),Path('training/0/10045.png'),Path('training/0/10069.png'),Path('training/0/10071.png')...]"
            ]
          },
          "metadata": {
            "tags": []
          },
          "execution_count": 20
        }
      ]
    },
    {
      "cell_type": "code",
      "metadata": {
        "colab": {
          "base_uri": "https://localhost:8080/",
          "height": 45
        },
        "id": "QtWKa2vLeW-p",
        "outputId": "c76ca2fd-5dd0-4e77-d721-432d4333d756"
      },
      "source": [
        "test_data_zeroes[0]\n",
        "zeroes_example_image = Image.open(test_data_zeroes[0])\n",
        "zeroes_example_image"
      ],
      "execution_count": null,
      "outputs": [
        {
          "output_type": "execute_result",
          "data": {
            "image/png": "[encoded data removed]",
            "text/plain": [
              "<PIL.PngImagePlugin.PngImageFile image mode=L size=28x28 at 0x7FA33B5F2E50>"
            ]
          },
          "metadata": {
            "tags": []
          },
          "execution_count": 21
        }
      ]
    },
    {
      "cell_type": "code",
      "metadata": {
        "colab": {
          "base_uri": "https://localhost:8080/",
          "height": 628
        },
        "id": "pjRyOw1ee10x",
        "outputId": "7def1195-8f56-4d79-d762-b3a91b098f8c"
      },
      "source": [
        "tensor_zeroes_exmaple_image = tensor(zeroes_example_image)\n",
        "df = pd.DataFrame(tensor_zeroes_exmaple_image[:,:])\n",
        "df.style.set_properties(**{'font-size':'6pt'}).background_gradient('Greys')"
      ],
      "execution_count": null,
      "outputs": [
        {
          "output_type": "execute_result",
          "data": {
            "text/html": [
              "<style  type=\"text/css\" >\n",
              "#T_f2e99916_e352_11eb_b9ac_0242ac1c0002row0_col0,#T_f2e99916_e352_11eb_b9ac_0242ac1c0002row0_col1,#T_f2e99916_e352_11eb_b9ac_0242ac1c0002row0_col2,#T_f2e99916_e352_11eb_b9ac_0242ac1c0002row0_col3,#T_f2e99916_e352_11eb_b9ac_0242ac1c0002row0_col4,#T_f2e99916_e352_11eb_b9ac_0242ac1c0002row0_col5,#T_f2e99916_e352_11eb_b9ac_0242ac1c0002row0_col6,#T_f2e99916_e352_11eb_b9ac_0242ac1c0002row0_col7,#T_f2e99916_e352_11eb_b9ac_0242ac1c0002row0_col8,#T_f2e99916_e352_11eb_b9ac_0242ac1c0002row0_col9,#T_f2e99916_e352_11eb_b9ac_0242ac1c0002row0_col10,#T_f2e99916_e352_11eb_b9ac_0242ac1c0002row0_col11,#T_f2e99916_e352_11eb_b9ac_0242ac1c0002row0_col12,#T_f2e99916_e352_11eb_b9ac_0242ac1c0002row0_col13,#T_f2e99916_e352_11eb_b9ac_0242ac1c0002row0_col14,#T_f2e99916_e352_11eb_b9ac_0242ac1c0002row0_col15,#T_f2e99916_e352_11eb_b9ac_0242ac1c0002row0_col16,#T_f2e99916_e352_11eb_b9ac_0242ac1c0002row0_col17,#T_f2e99916_e352_11eb_b9ac_0242ac1c0002row0_col18,#T_f2e99916_e352_11eb_b9ac_0242ac1c0002row0_col19,#T_f2e99916_e352_11eb_b9ac_0242ac1c0002row0_col20,#T_f2e99916_e352_11eb_b9ac_0242ac1c0002row0_col21,#T_f2e99916_e352_11eb_b9ac_0242ac1c0002row0_col22,#T_f2e99916_e352_11eb_b9ac_0242ac1c0002row0_col23,#T_f2e99916_e352_11eb_b9ac_0242ac1c0002row0_col24,#T_f2e99916_e352_11eb_b9ac_0242ac1c0002row0_col25,#T_f2e99916_e352_11eb_b9ac_0242ac1c0002row0_col26,#T_f2e99916_e352_11eb_b9ac_0242ac1c0002row0_col27,#T_f2e99916_e352_11eb_b9ac_0242ac1c0002row1_col0,#T_f2e99916_e352_11eb_b9ac_0242ac1c0002row1_col1,#T_f2e99916_e352_11eb_b9ac_0242ac1c0002row1_col2,#T_f2e99916_e352_11eb_b9ac_0242ac1c0002row1_col3,#T_f2e99916_e352_11eb_b9ac_0242ac1c0002row1_col4,#T_f2e99916_e352_11eb_b9ac_0242ac1c0002row1_col5,#T_f2e99916_e352_11eb_b9ac_0242ac1c0002row1_col6,#T_f2e99916_e352_11eb_b9ac_0242ac1c0002row1_col7,#T_f2e99916_e352_11eb_b9ac_0242ac1c0002row1_col8,#T_f2e99916_e352_11eb_b9ac_0242ac1c0002row1_col9,#T_f2e99916_e352_11eb_b9ac_0242ac1c0002row1_col10,#T_f2e99916_e352_11eb_b9ac_0242ac1c0002row1_col11,#T_f2e99916_e352_11eb_b9ac_0242ac1c0002row1_col12,#T_f2e99916_e352_11eb_b9ac_0242ac1c0002row1_col13,#T_f2e99916_e352_11eb_b9ac_0242ac1c0002row1_col14,#T_f2e99916_e352_11eb_b9ac_0242ac1c0002row1_col15,#T_f2e99916_e352_11eb_b9ac_0242ac1c0002row1_col16,#T_f2e99916_e352_11eb_b9ac_0242ac1c0002row1_col17,#T_f2e99916_e352_11eb_b9ac_0242ac1c0002row1_col18,#T_f2e99916_e352_11eb_b9ac_0242ac1c0002row1_col19,#T_f2e99916_e352_11eb_b9ac_0242ac1c0002row1_col20,#T_f2e99916_e352_11eb_b9ac_0242ac1c0002row1_col21,#T_f2e99916_e352_11eb_b9ac_0242ac1c0002row1_col22,#T_f2e99916_e352_11eb_b9ac_0242ac1c0002row1_col23,#T_f2e99916_e352_11eb_b9ac_0242ac1c0002row1_col24,#T_f2e99916_e352_11eb_b9ac_0242ac1c0002row1_col25,#T_f2e99916_e352_11eb_b9ac_0242ac1c0002row1_col26,#T_f2e99916_e352_11eb_b9ac_0242ac1c0002row1_col27,#T_f2e99916_e352_11eb_b9ac_0242ac1c0002row2_col0,#T_f2e99916_e352_11eb_b9ac_0242ac1c0002row2_col1,#T_f2e99916_e352_11eb_b9ac_0242ac1c0002row2_col2,#T_f2e99916_e352_11eb_b9ac_0242ac1c0002row2_col3,#T_f2e99916_e352_11eb_b9ac_0242ac1c0002row2_col4,#T_f2e99916_e352_11eb_b9ac_0242ac1c0002row2_col5,#T_f2e99916_e352_11eb_b9ac_0242ac1c0002row2_col6,#T_f2e99916_e352_11eb_b9ac_0242ac1c0002row2_col7,#T_f2e99916_e352_11eb_b9ac_0242ac1c0002row2_col8,#T_f2e99916_e352_11eb_b9ac_0242ac1c0002row2_col9,#T_f2e99916_e352_11eb_b9ac_0242ac1c0002row2_col10,#T_f2e99916_e352_11eb_b9ac_0242ac1c0002row2_col11,#T_f2e99916_e352_11eb_b9ac_0242ac1c0002row2_col12,#T_f2e99916_e352_11eb_b9ac_0242ac1c0002row2_col13,#T_f2e99916_e352_11eb_b9ac_0242ac1c0002row2_col14,#T_f2e99916_e352_11eb_b9ac_0242ac1c0002row2_col15,#T_f2e99916_e352_11eb_b9ac_0242ac1c0002row2_col16,#T_f2e99916_e352_11eb_b9ac_0242ac1c0002row2_col17,#T_f2e99916_e352_11eb_b9ac_0242ac1c0002row2_col18,#T_f2e99916_e352_11eb_b9ac_0242ac1c0002row2_col19,#T_f2e99916_e352_11eb_b9ac_0242ac1c0002row2_col20,#T_f2e99916_e352_11eb_b9ac_0242ac1c0002row2_col21,#T_f2e99916_e352_11eb_b9ac_0242ac1c0002row2_col22,#T_f2e99916_e352_11eb_b9ac_0242ac1c0002row2_col23,#T_f2e99916_e352_11eb_b9ac_0242ac1c0002row2_col24,#T_f2e99916_e352_11eb_b9ac_0242ac1c0002row2_col25,#T_f2e99916_e352_11eb_b9ac_0242ac1c0002row2_col26,#T_f2e99916_e352_11eb_b9ac_0242ac1c0002row2_col27,#T_f2e99916_e352_11eb_b9ac_0242ac1c0002row3_col0,#T_f2e99916_e352_11eb_b9ac_0242ac1c0002row3_col1,#T_f2e99916_e352_11eb_b9ac_0242ac1c0002row3_col2,#T_f2e99916_e352_11eb_b9ac_0242ac1c0002row3_col3,#T_f2e99916_e352_11eb_b9ac_0242ac1c0002row3_col4,#T_f2e99916_e352_11eb_b9ac_0242ac1c0002row3_col5,#T_f2e99916_e352_11eb_b9ac_0242ac1c0002row3_col6,#T_f2e99916_e352_11eb_b9ac_0242ac1c0002row3_col7,#T_f2e99916_e352_11eb_b9ac_0242ac1c0002row3_col8,#T_f2e99916_e352_11eb_b9ac_0242ac1c0002row3_col9,#T_f2e99916_e352_11eb_b9ac_0242ac1c0002row3_col10,#T_f2e99916_e352_11eb_b9ac_0242ac1c0002row3_col11,#T_f2e99916_e352_11eb_b9ac_0242ac1c0002row3_col12,#T_f2e99916_e352_11eb_b9ac_0242ac1c0002row3_col13,#T_f2e99916_e352_11eb_b9ac_0242ac1c0002row3_col14,#T_f2e99916_e352_11eb_b9ac_0242ac1c0002row3_col15,#T_f2e99916_e352_11eb_b9ac_0242ac1c0002row3_col16,#T_f2e99916_e352_11eb_b9ac_0242ac1c0002row3_col17,#T_f2e99916_e352_11eb_b9ac_0242ac1c0002row3_col18,#T_f2e99916_e352_11eb_b9ac_0242ac1c0002row3_col19,#T_f2e99916_e352_11eb_b9ac_0242ac1c0002row3_col20,#T_f2e99916_e352_11eb_b9ac_0242ac1c0002row3_col21,#T_f2e99916_e352_11eb_b9ac_0242ac1c0002row3_col22,#T_f2e99916_e352_11eb_b9ac_0242ac1c0002row3_col23,#T_f2e99916_e352_11eb_b9ac_0242ac1c0002row3_col24,#T_f2e99916_e352_11eb_b9ac_0242ac1c0002row3_col25,#T_f2e99916_e352_11eb_b9ac_0242ac1c0002row3_col26,#T_f2e99916_e352_11eb_b9ac_0242ac1c0002row3_col27,#T_f2e99916_e352_11eb_b9ac_0242ac1c0002row4_col0,#T_f2e99916_e352_11eb_b9ac_0242ac1c0002row4_col1,#T_f2e99916_e352_11eb_b9ac_0242ac1c0002row4_col2,#T_f2e99916_e352_11eb_b9ac_0242ac1c0002row4_col3,#T_f2e99916_e352_11eb_b9ac_0242ac1c0002row4_col4,#T_f2e99916_e352_11eb_b9ac_0242ac1c0002row4_col5,#T_f2e99916_e352_11eb_b9ac_0242ac1c0002row4_col6,#T_f2e99916_e352_11eb_b9ac_0242ac1c0002row4_col7,#T_f2e99916_e352_11eb_b9ac_0242ac1c0002row4_col8,#T_f2e99916_e352_11eb_b9ac_0242ac1c0002row4_col9,#T_f2e99916_e352_11eb_b9ac_0242ac1c0002row4_col10,#T_f2e99916_e352_11eb_b9ac_0242ac1c0002row4_col11,#T_f2e99916_e352_11eb_b9ac_0242ac1c0002row4_col12,#T_f2e99916_e352_11eb_b9ac_0242ac1c0002row4_col13,#T_f2e99916_e352_11eb_b9ac_0242ac1c0002row4_col14,#T_f2e99916_e352_11eb_b9ac_0242ac1c0002row4_col20,#T_f2e99916_e352_11eb_b9ac_0242ac1c0002row4_col21,#T_f2e99916_e352_11eb_b9ac_0242ac1c0002row4_col22,#T_f2e99916_e352_11eb_b9ac_0242ac1c0002row4_col23,#T_f2e99916_e352_11eb_b9ac_0242ac1c0002row4_col24,#T_f2e99916_e352_11eb_b9ac_0242ac1c0002row4_col25,#T_f2e99916_e352_11eb_b9ac_0242ac1c0002row4_col26,#T_f2e99916_e352_11eb_b9ac_0242ac1c0002row4_col27,#T_f2e99916_e352_11eb_b9ac_0242ac1c0002row5_col0,#T_f2e99916_e352_11eb_b9ac_0242ac1c0002row5_col1,#T_f2e99916_e352_11eb_b9ac_0242ac1c0002row5_col2,#T_f2e99916_e352_11eb_b9ac_0242ac1c0002row5_col3,#T_f2e99916_e352_11eb_b9ac_0242ac1c0002row5_col4,#T_f2e99916_e352_11eb_b9ac_0242ac1c0002row5_col5,#T_f2e99916_e352_11eb_b9ac_0242ac1c0002row5_col6,#T_f2e99916_e352_11eb_b9ac_0242ac1c0002row5_col7,#T_f2e99916_e352_11eb_b9ac_0242ac1c0002row5_col8,#T_f2e99916_e352_11eb_b9ac_0242ac1c0002row5_col9,#T_f2e99916_e352_11eb_b9ac_0242ac1c0002row5_col10,#T_f2e99916_e352_11eb_b9ac_0242ac1c0002row5_col11,#T_f2e99916_e352_11eb_b9ac_0242ac1c0002row5_col12,#T_f2e99916_e352_11eb_b9ac_0242ac1c0002row5_col13,#T_f2e99916_e352_11eb_b9ac_0242ac1c0002row5_col20,#T_f2e99916_e352_11eb_b9ac_0242ac1c0002row5_col21,#T_f2e99916_e352_11eb_b9ac_0242ac1c0002row5_col22,#T_f2e99916_e352_11eb_b9ac_0242ac1c0002row5_col23,#T_f2e99916_e352_11eb_b9ac_0242ac1c0002row5_col24,#T_f2e99916_e352_11eb_b9ac_0242ac1c0002row5_col25,#T_f2e99916_e352_11eb_b9ac_0242ac1c0002row5_col26,#T_f2e99916_e352_11eb_b9ac_0242ac1c0002row5_col27,#T_f2e99916_e352_11eb_b9ac_0242ac1c0002row6_col0,#T_f2e99916_e352_11eb_b9ac_0242ac1c0002row6_col1,#T_f2e99916_e352_11eb_b9ac_0242ac1c0002row6_col2,#T_f2e99916_e352_11eb_b9ac_0242ac1c0002row6_col3,#T_f2e99916_e352_11eb_b9ac_0242ac1c0002row6_col4,#T_f2e99916_e352_11eb_b9ac_0242ac1c0002row6_col5,#T_f2e99916_e352_11eb_b9ac_0242ac1c0002row6_col6,#T_f2e99916_e352_11eb_b9ac_0242ac1c0002row6_col7,#T_f2e99916_e352_11eb_b9ac_0242ac1c0002row6_col8,#T_f2e99916_e352_11eb_b9ac_0242ac1c0002row6_col9,#T_f2e99916_e352_11eb_b9ac_0242ac1c0002row6_col10,#T_f2e99916_e352_11eb_b9ac_0242ac1c0002row6_col11,#T_f2e99916_e352_11eb_b9ac_0242ac1c0002row6_col12,#T_f2e99916_e352_11eb_b9ac_0242ac1c0002row6_col22,#T_f2e99916_e352_11eb_b9ac_0242ac1c0002row6_col23,#T_f2e99916_e352_11eb_b9ac_0242ac1c0002row6_col24,#T_f2e99916_e352_11eb_b9ac_0242ac1c0002row6_col25,#T_f2e99916_e352_11eb_b9ac_0242ac1c0002row6_col26,#T_f2e99916_e352_11eb_b9ac_0242ac1c0002row6_col27,#T_f2e99916_e352_11eb_b9ac_0242ac1c0002row7_col0,#T_f2e99916_e352_11eb_b9ac_0242ac1c0002row7_col1,#T_f2e99916_e352_11eb_b9ac_0242ac1c0002row7_col2,#T_f2e99916_e352_11eb_b9ac_0242ac1c0002row7_col3,#T_f2e99916_e352_11eb_b9ac_0242ac1c0002row7_col4,#T_f2e99916_e352_11eb_b9ac_0242ac1c0002row7_col5,#T_f2e99916_e352_11eb_b9ac_0242ac1c0002row7_col6,#T_f2e99916_e352_11eb_b9ac_0242ac1c0002row7_col7,#T_f2e99916_e352_11eb_b9ac_0242ac1c0002row7_col8,#T_f2e99916_e352_11eb_b9ac_0242ac1c0002row7_col9,#T_f2e99916_e352_11eb_b9ac_0242ac1c0002row7_col10,#T_f2e99916_e352_11eb_b9ac_0242ac1c0002row7_col22,#T_f2e99916_e352_11eb_b9ac_0242ac1c0002row7_col23,#T_f2e99916_e352_11eb_b9ac_0242ac1c0002row7_col24,#T_f2e99916_e352_11eb_b9ac_0242ac1c0002row7_col25,#T_f2e99916_e352_11eb_b9ac_0242ac1c0002row7_col26,#T_f2e99916_e352_11eb_b9ac_0242ac1c0002row7_col27,#T_f2e99916_e352_11eb_b9ac_0242ac1c0002row8_col0,#T_f2e99916_e352_11eb_b9ac_0242ac1c0002row8_col1,#T_f2e99916_e352_11eb_b9ac_0242ac1c0002row8_col2,#T_f2e99916_e352_11eb_b9ac_0242ac1c0002row8_col3,#T_f2e99916_e352_11eb_b9ac_0242ac1c0002row8_col4,#T_f2e99916_e352_11eb_b9ac_0242ac1c0002row8_col5,#T_f2e99916_e352_11eb_b9ac_0242ac1c0002row8_col6,#T_f2e99916_e352_11eb_b9ac_0242ac1c0002row8_col7,#T_f2e99916_e352_11eb_b9ac_0242ac1c0002row8_col8,#T_f2e99916_e352_11eb_b9ac_0242ac1c0002row8_col9,#T_f2e99916_e352_11eb_b9ac_0242ac1c0002row8_col10,#T_f2e99916_e352_11eb_b9ac_0242ac1c0002row8_col22,#T_f2e99916_e352_11eb_b9ac_0242ac1c0002row8_col23,#T_f2e99916_e352_11eb_b9ac_0242ac1c0002row8_col24,#T_f2e99916_e352_11eb_b9ac_0242ac1c0002row8_col25,#T_f2e99916_e352_11eb_b9ac_0242ac1c0002row8_col26,#T_f2e99916_e352_11eb_b9ac_0242ac1c0002row8_col27,#T_f2e99916_e352_11eb_b9ac_0242ac1c0002row9_col0,#T_f2e99916_e352_11eb_b9ac_0242ac1c0002row9_col1,#T_f2e99916_e352_11eb_b9ac_0242ac1c0002row9_col2,#T_f2e99916_e352_11eb_b9ac_0242ac1c0002row9_col3,#T_f2e99916_e352_11eb_b9ac_0242ac1c0002row9_col4,#T_f2e99916_e352_11eb_b9ac_0242ac1c0002row9_col5,#T_f2e99916_e352_11eb_b9ac_0242ac1c0002row9_col6,#T_f2e99916_e352_11eb_b9ac_0242ac1c0002row9_col7,#T_f2e99916_e352_11eb_b9ac_0242ac1c0002row9_col8,#T_f2e99916_e352_11eb_b9ac_0242ac1c0002row9_col9,#T_f2e99916_e352_11eb_b9ac_0242ac1c0002row9_col22,#T_f2e99916_e352_11eb_b9ac_0242ac1c0002row9_col23,#T_f2e99916_e352_11eb_b9ac_0242ac1c0002row9_col24,#T_f2e99916_e352_11eb_b9ac_0242ac1c0002row9_col25,#T_f2e99916_e352_11eb_b9ac_0242ac1c0002row9_col26,#T_f2e99916_e352_11eb_b9ac_0242ac1c0002row9_col27,#T_f2e99916_e352_11eb_b9ac_0242ac1c0002row10_col0,#T_f2e99916_e352_11eb_b9ac_0242ac1c0002row10_col1,#T_f2e99916_e352_11eb_b9ac_0242ac1c0002row10_col2,#T_f2e99916_e352_11eb_b9ac_0242ac1c0002row10_col3,#T_f2e99916_e352_11eb_b9ac_0242ac1c0002row10_col4,#T_f2e99916_e352_11eb_b9ac_0242ac1c0002row10_col5,#T_f2e99916_e352_11eb_b9ac_0242ac1c0002row10_col6,#T_f2e99916_e352_11eb_b9ac_0242ac1c0002row10_col7,#T_f2e99916_e352_11eb_b9ac_0242ac1c0002row10_col8,#T_f2e99916_e352_11eb_b9ac_0242ac1c0002row10_col18,#T_f2e99916_e352_11eb_b9ac_0242ac1c0002row10_col19,#T_f2e99916_e352_11eb_b9ac_0242ac1c0002row10_col23,#T_f2e99916_e352_11eb_b9ac_0242ac1c0002row10_col24,#T_f2e99916_e352_11eb_b9ac_0242ac1c0002row10_col25,#T_f2e99916_e352_11eb_b9ac_0242ac1c0002row10_col26,#T_f2e99916_e352_11eb_b9ac_0242ac1c0002row10_col27,#T_f2e99916_e352_11eb_b9ac_0242ac1c0002row11_col0,#T_f2e99916_e352_11eb_b9ac_0242ac1c0002row11_col1,#T_f2e99916_e352_11eb_b9ac_0242ac1c0002row11_col2,#T_f2e99916_e352_11eb_b9ac_0242ac1c0002row11_col3,#T_f2e99916_e352_11eb_b9ac_0242ac1c0002row11_col4,#T_f2e99916_e352_11eb_b9ac_0242ac1c0002row11_col5,#T_f2e99916_e352_11eb_b9ac_0242ac1c0002row11_col6,#T_f2e99916_e352_11eb_b9ac_0242ac1c0002row11_col7,#T_f2e99916_e352_11eb_b9ac_0242ac1c0002row11_col14,#T_f2e99916_e352_11eb_b9ac_0242ac1c0002row11_col15,#T_f2e99916_e352_11eb_b9ac_0242ac1c0002row11_col16,#T_f2e99916_e352_11eb_b9ac_0242ac1c0002row11_col17,#T_f2e99916_e352_11eb_b9ac_0242ac1c0002row11_col18,#T_f2e99916_e352_11eb_b9ac_0242ac1c0002row11_col19,#T_f2e99916_e352_11eb_b9ac_0242ac1c0002row11_col23,#T_f2e99916_e352_11eb_b9ac_0242ac1c0002row11_col24,#T_f2e99916_e352_11eb_b9ac_0242ac1c0002row11_col25,#T_f2e99916_e352_11eb_b9ac_0242ac1c0002row11_col26,#T_f2e99916_e352_11eb_b9ac_0242ac1c0002row11_col27,#T_f2e99916_e352_11eb_b9ac_0242ac1c0002row12_col0,#T_f2e99916_e352_11eb_b9ac_0242ac1c0002row12_col1,#T_f2e99916_e352_11eb_b9ac_0242ac1c0002row12_col2,#T_f2e99916_e352_11eb_b9ac_0242ac1c0002row12_col3,#T_f2e99916_e352_11eb_b9ac_0242ac1c0002row12_col4,#T_f2e99916_e352_11eb_b9ac_0242ac1c0002row12_col5,#T_f2e99916_e352_11eb_b9ac_0242ac1c0002row12_col6,#T_f2e99916_e352_11eb_b9ac_0242ac1c0002row12_col14,#T_f2e99916_e352_11eb_b9ac_0242ac1c0002row12_col15,#T_f2e99916_e352_11eb_b9ac_0242ac1c0002row12_col16,#T_f2e99916_e352_11eb_b9ac_0242ac1c0002row12_col17,#T_f2e99916_e352_11eb_b9ac_0242ac1c0002row12_col18,#T_f2e99916_e352_11eb_b9ac_0242ac1c0002row12_col19,#T_f2e99916_e352_11eb_b9ac_0242ac1c0002row12_col23,#T_f2e99916_e352_11eb_b9ac_0242ac1c0002row12_col24,#T_f2e99916_e352_11eb_b9ac_0242ac1c0002row12_col25,#T_f2e99916_e352_11eb_b9ac_0242ac1c0002row12_col26,#T_f2e99916_e352_11eb_b9ac_0242ac1c0002row12_col27,#T_f2e99916_e352_11eb_b9ac_0242ac1c0002row13_col0,#T_f2e99916_e352_11eb_b9ac_0242ac1c0002row13_col1,#T_f2e99916_e352_11eb_b9ac_0242ac1c0002row13_col2,#T_f2e99916_e352_11eb_b9ac_0242ac1c0002row13_col3,#T_f2e99916_e352_11eb_b9ac_0242ac1c0002row13_col4,#T_f2e99916_e352_11eb_b9ac_0242ac1c0002row13_col5,#T_f2e99916_e352_11eb_b9ac_0242ac1c0002row13_col6,#T_f2e99916_e352_11eb_b9ac_0242ac1c0002row13_col11,#T_f2e99916_e352_11eb_b9ac_0242ac1c0002row13_col12,#T_f2e99916_e352_11eb_b9ac_0242ac1c0002row13_col13,#T_f2e99916_e352_11eb_b9ac_0242ac1c0002row13_col14,#T_f2e99916_e352_11eb_b9ac_0242ac1c0002row13_col15,#T_f2e99916_e352_11eb_b9ac_0242ac1c0002row13_col16,#T_f2e99916_e352_11eb_b9ac_0242ac1c0002row13_col17,#T_f2e99916_e352_11eb_b9ac_0242ac1c0002row13_col18,#T_f2e99916_e352_11eb_b9ac_0242ac1c0002row13_col19,#T_f2e99916_e352_11eb_b9ac_0242ac1c0002row13_col23,#T_f2e99916_e352_11eb_b9ac_0242ac1c0002row13_col24,#T_f2e99916_e352_11eb_b9ac_0242ac1c0002row13_col25,#T_f2e99916_e352_11eb_b9ac_0242ac1c0002row13_col26,#T_f2e99916_e352_11eb_b9ac_0242ac1c0002row13_col27,#T_f2e99916_e352_11eb_b9ac_0242ac1c0002row14_col0,#T_f2e99916_e352_11eb_b9ac_0242ac1c0002row14_col1,#T_f2e99916_e352_11eb_b9ac_0242ac1c0002row14_col2,#T_f2e99916_e352_11eb_b9ac_0242ac1c0002row14_col3,#T_f2e99916_e352_11eb_b9ac_0242ac1c0002row14_col4,#T_f2e99916_e352_11eb_b9ac_0242ac1c0002row14_col5,#T_f2e99916_e352_11eb_b9ac_0242ac1c0002row14_col6,#T_f2e99916_e352_11eb_b9ac_0242ac1c0002row14_col10,#T_f2e99916_e352_11eb_b9ac_0242ac1c0002row14_col11,#T_f2e99916_e352_11eb_b9ac_0242ac1c0002row14_col12,#T_f2e99916_e352_11eb_b9ac_0242ac1c0002row14_col13,#T_f2e99916_e352_11eb_b9ac_0242ac1c0002row14_col14,#T_f2e99916_e352_11eb_b9ac_0242ac1c0002row14_col15,#T_f2e99916_e352_11eb_b9ac_0242ac1c0002row14_col16,#T_f2e99916_e352_11eb_b9ac_0242ac1c0002row14_col17,#T_f2e99916_e352_11eb_b9ac_0242ac1c0002row14_col18,#T_f2e99916_e352_11eb_b9ac_0242ac1c0002row14_col19,#T_f2e99916_e352_11eb_b9ac_0242ac1c0002row14_col23,#T_f2e99916_e352_11eb_b9ac_0242ac1c0002row14_col24,#T_f2e99916_e352_11eb_b9ac_0242ac1c0002row14_col25,#T_f2e99916_e352_11eb_b9ac_0242ac1c0002row14_col26,#T_f2e99916_e352_11eb_b9ac_0242ac1c0002row14_col27,#T_f2e99916_e352_11eb_b9ac_0242ac1c0002row15_col0,#T_f2e99916_e352_11eb_b9ac_0242ac1c0002row15_col1,#T_f2e99916_e352_11eb_b9ac_0242ac1c0002row15_col2,#T_f2e99916_e352_11eb_b9ac_0242ac1c0002row15_col3,#T_f2e99916_e352_11eb_b9ac_0242ac1c0002row15_col4,#T_f2e99916_e352_11eb_b9ac_0242ac1c0002row15_col5,#T_f2e99916_e352_11eb_b9ac_0242ac1c0002row15_col10,#T_f2e99916_e352_11eb_b9ac_0242ac1c0002row15_col11,#T_f2e99916_e352_11eb_b9ac_0242ac1c0002row15_col12,#T_f2e99916_e352_11eb_b9ac_0242ac1c0002row15_col13,#T_f2e99916_e352_11eb_b9ac_0242ac1c0002row15_col14,#T_f2e99916_e352_11eb_b9ac_0242ac1c0002row15_col15,#T_f2e99916_e352_11eb_b9ac_0242ac1c0002row15_col16,#T_f2e99916_e352_11eb_b9ac_0242ac1c0002row15_col17,#T_f2e99916_e352_11eb_b9ac_0242ac1c0002row15_col18,#T_f2e99916_e352_11eb_b9ac_0242ac1c0002row15_col19,#T_f2e99916_e352_11eb_b9ac_0242ac1c0002row15_col23,#T_f2e99916_e352_11eb_b9ac_0242ac1c0002row15_col24,#T_f2e99916_e352_11eb_b9ac_0242ac1c0002row15_col25,#T_f2e99916_e352_11eb_b9ac_0242ac1c0002row15_col26,#T_f2e99916_e352_11eb_b9ac_0242ac1c0002row15_col27,#T_f2e99916_e352_11eb_b9ac_0242ac1c0002row16_col0,#T_f2e99916_e352_11eb_b9ac_0242ac1c0002row16_col1,#T_f2e99916_e352_11eb_b9ac_0242ac1c0002row16_col2,#T_f2e99916_e352_11eb_b9ac_0242ac1c0002row16_col3,#T_f2e99916_e352_11eb_b9ac_0242ac1c0002row16_col4,#T_f2e99916_e352_11eb_b9ac_0242ac1c0002row16_col5,#T_f2e99916_e352_11eb_b9ac_0242ac1c0002row16_col10,#T_f2e99916_e352_11eb_b9ac_0242ac1c0002row16_col11,#T_f2e99916_e352_11eb_b9ac_0242ac1c0002row16_col12,#T_f2e99916_e352_11eb_b9ac_0242ac1c0002row16_col13,#T_f2e99916_e352_11eb_b9ac_0242ac1c0002row16_col14,#T_f2e99916_e352_11eb_b9ac_0242ac1c0002row16_col15,#T_f2e99916_e352_11eb_b9ac_0242ac1c0002row16_col16,#T_f2e99916_e352_11eb_b9ac_0242ac1c0002row16_col17,#T_f2e99916_e352_11eb_b9ac_0242ac1c0002row16_col23,#T_f2e99916_e352_11eb_b9ac_0242ac1c0002row16_col24,#T_f2e99916_e352_11eb_b9ac_0242ac1c0002row16_col25,#T_f2e99916_e352_11eb_b9ac_0242ac1c0002row16_col26,#T_f2e99916_e352_11eb_b9ac_0242ac1c0002row16_col27,#T_f2e99916_e352_11eb_b9ac_0242ac1c0002row17_col0,#T_f2e99916_e352_11eb_b9ac_0242ac1c0002row17_col1,#T_f2e99916_e352_11eb_b9ac_0242ac1c0002row17_col2,#T_f2e99916_e352_11eb_b9ac_0242ac1c0002row17_col3,#T_f2e99916_e352_11eb_b9ac_0242ac1c0002row17_col4,#T_f2e99916_e352_11eb_b9ac_0242ac1c0002row17_col5,#T_f2e99916_e352_11eb_b9ac_0242ac1c0002row17_col9,#T_f2e99916_e352_11eb_b9ac_0242ac1c0002row17_col10,#T_f2e99916_e352_11eb_b9ac_0242ac1c0002row17_col11,#T_f2e99916_e352_11eb_b9ac_0242ac1c0002row17_col12,#T_f2e99916_e352_11eb_b9ac_0242ac1c0002row17_col13,#T_f2e99916_e352_11eb_b9ac_0242ac1c0002row17_col14,#T_f2e99916_e352_11eb_b9ac_0242ac1c0002row17_col15,#T_f2e99916_e352_11eb_b9ac_0242ac1c0002row17_col16,#T_f2e99916_e352_11eb_b9ac_0242ac1c0002row17_col22,#T_f2e99916_e352_11eb_b9ac_0242ac1c0002row17_col23,#T_f2e99916_e352_11eb_b9ac_0242ac1c0002row17_col24,#T_f2e99916_e352_11eb_b9ac_0242ac1c0002row17_col25,#T_f2e99916_e352_11eb_b9ac_0242ac1c0002row17_col26,#T_f2e99916_e352_11eb_b9ac_0242ac1c0002row17_col27,#T_f2e99916_e352_11eb_b9ac_0242ac1c0002row18_col0,#T_f2e99916_e352_11eb_b9ac_0242ac1c0002row18_col1,#T_f2e99916_e352_11eb_b9ac_0242ac1c0002row18_col2,#T_f2e99916_e352_11eb_b9ac_0242ac1c0002row18_col3,#T_f2e99916_e352_11eb_b9ac_0242ac1c0002row18_col4,#T_f2e99916_e352_11eb_b9ac_0242ac1c0002row18_col5,#T_f2e99916_e352_11eb_b9ac_0242ac1c0002row18_col9,#T_f2e99916_e352_11eb_b9ac_0242ac1c0002row18_col10,#T_f2e99916_e352_11eb_b9ac_0242ac1c0002row18_col11,#T_f2e99916_e352_11eb_b9ac_0242ac1c0002row18_col12,#T_f2e99916_e352_11eb_b9ac_0242ac1c0002row18_col13,#T_f2e99916_e352_11eb_b9ac_0242ac1c0002row18_col14,#T_f2e99916_e352_11eb_b9ac_0242ac1c0002row18_col15,#T_f2e99916_e352_11eb_b9ac_0242ac1c0002row18_col20,#T_f2e99916_e352_11eb_b9ac_0242ac1c0002row18_col21,#T_f2e99916_e352_11eb_b9ac_0242ac1c0002row18_col22,#T_f2e99916_e352_11eb_b9ac_0242ac1c0002row18_col23,#T_f2e99916_e352_11eb_b9ac_0242ac1c0002row18_col24,#T_f2e99916_e352_11eb_b9ac_0242ac1c0002row18_col25,#T_f2e99916_e352_11eb_b9ac_0242ac1c0002row18_col26,#T_f2e99916_e352_11eb_b9ac_0242ac1c0002row18_col27,#T_f2e99916_e352_11eb_b9ac_0242ac1c0002row19_col0,#T_f2e99916_e352_11eb_b9ac_0242ac1c0002row19_col1,#T_f2e99916_e352_11eb_b9ac_0242ac1c0002row19_col2,#T_f2e99916_e352_11eb_b9ac_0242ac1c0002row19_col3,#T_f2e99916_e352_11eb_b9ac_0242ac1c0002row19_col4,#T_f2e99916_e352_11eb_b9ac_0242ac1c0002row19_col5,#T_f2e99916_e352_11eb_b9ac_0242ac1c0002row19_col9,#T_f2e99916_e352_11eb_b9ac_0242ac1c0002row19_col10,#T_f2e99916_e352_11eb_b9ac_0242ac1c0002row19_col11,#T_f2e99916_e352_11eb_b9ac_0242ac1c0002row19_col12,#T_f2e99916_e352_11eb_b9ac_0242ac1c0002row19_col13,#T_f2e99916_e352_11eb_b9ac_0242ac1c0002row19_col14,#T_f2e99916_e352_11eb_b9ac_0242ac1c0002row19_col19,#T_f2e99916_e352_11eb_b9ac_0242ac1c0002row19_col20,#T_f2e99916_e352_11eb_b9ac_0242ac1c0002row19_col21,#T_f2e99916_e352_11eb_b9ac_0242ac1c0002row19_col22,#T_f2e99916_e352_11eb_b9ac_0242ac1c0002row19_col23,#T_f2e99916_e352_11eb_b9ac_0242ac1c0002row19_col24,#T_f2e99916_e352_11eb_b9ac_0242ac1c0002row19_col25,#T_f2e99916_e352_11eb_b9ac_0242ac1c0002row19_col26,#T_f2e99916_e352_11eb_b9ac_0242ac1c0002row19_col27,#T_f2e99916_e352_11eb_b9ac_0242ac1c0002row20_col0,#T_f2e99916_e352_11eb_b9ac_0242ac1c0002row20_col1,#T_f2e99916_e352_11eb_b9ac_0242ac1c0002row20_col2,#T_f2e99916_e352_11eb_b9ac_0242ac1c0002row20_col3,#T_f2e99916_e352_11eb_b9ac_0242ac1c0002row20_col4,#T_f2e99916_e352_11eb_b9ac_0242ac1c0002row20_col5,#T_f2e99916_e352_11eb_b9ac_0242ac1c0002row20_col19,#T_f2e99916_e352_11eb_b9ac_0242ac1c0002row20_col20,#T_f2e99916_e352_11eb_b9ac_0242ac1c0002row20_col21,#T_f2e99916_e352_11eb_b9ac_0242ac1c0002row20_col22,#T_f2e99916_e352_11eb_b9ac_0242ac1c0002row20_col23,#T_f2e99916_e352_11eb_b9ac_0242ac1c0002row20_col24,#T_f2e99916_e352_11eb_b9ac_0242ac1c0002row20_col25,#T_f2e99916_e352_11eb_b9ac_0242ac1c0002row20_col26,#T_f2e99916_e352_11eb_b9ac_0242ac1c0002row20_col27,#T_f2e99916_e352_11eb_b9ac_0242ac1c0002row21_col0,#T_f2e99916_e352_11eb_b9ac_0242ac1c0002row21_col1,#T_f2e99916_e352_11eb_b9ac_0242ac1c0002row21_col2,#T_f2e99916_e352_11eb_b9ac_0242ac1c0002row21_col3,#T_f2e99916_e352_11eb_b9ac_0242ac1c0002row21_col4,#T_f2e99916_e352_11eb_b9ac_0242ac1c0002row21_col5,#T_f2e99916_e352_11eb_b9ac_0242ac1c0002row21_col17,#T_f2e99916_e352_11eb_b9ac_0242ac1c0002row21_col18,#T_f2e99916_e352_11eb_b9ac_0242ac1c0002row21_col19,#T_f2e99916_e352_11eb_b9ac_0242ac1c0002row21_col20,#T_f2e99916_e352_11eb_b9ac_0242ac1c0002row21_col21,#T_f2e99916_e352_11eb_b9ac_0242ac1c0002row21_col22,#T_f2e99916_e352_11eb_b9ac_0242ac1c0002row21_col23,#T_f2e99916_e352_11eb_b9ac_0242ac1c0002row21_col24,#T_f2e99916_e352_11eb_b9ac_0242ac1c0002row21_col25,#T_f2e99916_e352_11eb_b9ac_0242ac1c0002row21_col26,#T_f2e99916_e352_11eb_b9ac_0242ac1c0002row21_col27,#T_f2e99916_e352_11eb_b9ac_0242ac1c0002row22_col0,#T_f2e99916_e352_11eb_b9ac_0242ac1c0002row22_col1,#T_f2e99916_e352_11eb_b9ac_0242ac1c0002row22_col2,#T_f2e99916_e352_11eb_b9ac_0242ac1c0002row22_col3,#T_f2e99916_e352_11eb_b9ac_0242ac1c0002row22_col4,#T_f2e99916_e352_11eb_b9ac_0242ac1c0002row22_col5,#T_f2e99916_e352_11eb_b9ac_0242ac1c0002row22_col15,#T_f2e99916_e352_11eb_b9ac_0242ac1c0002row22_col16,#T_f2e99916_e352_11eb_b9ac_0242ac1c0002row22_col17,#T_f2e99916_e352_11eb_b9ac_0242ac1c0002row22_col18,#T_f2e99916_e352_11eb_b9ac_0242ac1c0002row22_col19,#T_f2e99916_e352_11eb_b9ac_0242ac1c0002row22_col20,#T_f2e99916_e352_11eb_b9ac_0242ac1c0002row22_col21,#T_f2e99916_e352_11eb_b9ac_0242ac1c0002row22_col22,#T_f2e99916_e352_11eb_b9ac_0242ac1c0002row22_col23,#T_f2e99916_e352_11eb_b9ac_0242ac1c0002row22_col24,#T_f2e99916_e352_11eb_b9ac_0242ac1c0002row22_col25,#T_f2e99916_e352_11eb_b9ac_0242ac1c0002row22_col26,#T_f2e99916_e352_11eb_b9ac_0242ac1c0002row22_col27,#T_f2e99916_e352_11eb_b9ac_0242ac1c0002row23_col0,#T_f2e99916_e352_11eb_b9ac_0242ac1c0002row23_col1,#T_f2e99916_e352_11eb_b9ac_0242ac1c0002row23_col2,#T_f2e99916_e352_11eb_b9ac_0242ac1c0002row23_col3,#T_f2e99916_e352_11eb_b9ac_0242ac1c0002row23_col4,#T_f2e99916_e352_11eb_b9ac_0242ac1c0002row23_col5,#T_f2e99916_e352_11eb_b9ac_0242ac1c0002row23_col6,#T_f2e99916_e352_11eb_b9ac_0242ac1c0002row23_col14,#T_f2e99916_e352_11eb_b9ac_0242ac1c0002row23_col15,#T_f2e99916_e352_11eb_b9ac_0242ac1c0002row23_col16,#T_f2e99916_e352_11eb_b9ac_0242ac1c0002row23_col17,#T_f2e99916_e352_11eb_b9ac_0242ac1c0002row23_col18,#T_f2e99916_e352_11eb_b9ac_0242ac1c0002row23_col19,#T_f2e99916_e352_11eb_b9ac_0242ac1c0002row23_col20,#T_f2e99916_e352_11eb_b9ac_0242ac1c0002row23_col21,#T_f2e99916_e352_11eb_b9ac_0242ac1c0002row23_col22,#T_f2e99916_e352_11eb_b9ac_0242ac1c0002row23_col23,#T_f2e99916_e352_11eb_b9ac_0242ac1c0002row23_col24,#T_f2e99916_e352_11eb_b9ac_0242ac1c0002row23_col25,#T_f2e99916_e352_11eb_b9ac_0242ac1c0002row23_col26,#T_f2e99916_e352_11eb_b9ac_0242ac1c0002row23_col27,#T_f2e99916_e352_11eb_b9ac_0242ac1c0002row24_col0,#T_f2e99916_e352_11eb_b9ac_0242ac1c0002row24_col1,#T_f2e99916_e352_11eb_b9ac_0242ac1c0002row24_col2,#T_f2e99916_e352_11eb_b9ac_0242ac1c0002row24_col3,#T_f2e99916_e352_11eb_b9ac_0242ac1c0002row24_col4,#T_f2e99916_e352_11eb_b9ac_0242ac1c0002row24_col5,#T_f2e99916_e352_11eb_b9ac_0242ac1c0002row24_col6,#T_f2e99916_e352_11eb_b9ac_0242ac1c0002row24_col7,#T_f2e99916_e352_11eb_b9ac_0242ac1c0002row24_col8,#T_f2e99916_e352_11eb_b9ac_0242ac1c0002row24_col9,#T_f2e99916_e352_11eb_b9ac_0242ac1c0002row24_col10,#T_f2e99916_e352_11eb_b9ac_0242ac1c0002row24_col11,#T_f2e99916_e352_11eb_b9ac_0242ac1c0002row24_col12,#T_f2e99916_e352_11eb_b9ac_0242ac1c0002row24_col13,#T_f2e99916_e352_11eb_b9ac_0242ac1c0002row24_col14,#T_f2e99916_e352_11eb_b9ac_0242ac1c0002row24_col15,#T_f2e99916_e352_11eb_b9ac_0242ac1c0002row24_col16,#T_f2e99916_e352_11eb_b9ac_0242ac1c0002row24_col17,#T_f2e99916_e352_11eb_b9ac_0242ac1c0002row24_col18,#T_f2e99916_e352_11eb_b9ac_0242ac1c0002row24_col19,#T_f2e99916_e352_11eb_b9ac_0242ac1c0002row24_col20,#T_f2e99916_e352_11eb_b9ac_0242ac1c0002row24_col21,#T_f2e99916_e352_11eb_b9ac_0242ac1c0002row24_col22,#T_f2e99916_e352_11eb_b9ac_0242ac1c0002row24_col23,#T_f2e99916_e352_11eb_b9ac_0242ac1c0002row24_col24,#T_f2e99916_e352_11eb_b9ac_0242ac1c0002row24_col25,#T_f2e99916_e352_11eb_b9ac_0242ac1c0002row24_col26,#T_f2e99916_e352_11eb_b9ac_0242ac1c0002row24_col27,#T_f2e99916_e352_11eb_b9ac_0242ac1c0002row25_col0,#T_f2e99916_e352_11eb_b9ac_0242ac1c0002row25_col1,#T_f2e99916_e352_11eb_b9ac_0242ac1c0002row25_col2,#T_f2e99916_e352_11eb_b9ac_0242ac1c0002row25_col3,#T_f2e99916_e352_11eb_b9ac_0242ac1c0002row25_col4,#T_f2e99916_e352_11eb_b9ac_0242ac1c0002row25_col5,#T_f2e99916_e352_11eb_b9ac_0242ac1c0002row25_col6,#T_f2e99916_e352_11eb_b9ac_0242ac1c0002row25_col7,#T_f2e99916_e352_11eb_b9ac_0242ac1c0002row25_col8,#T_f2e99916_e352_11eb_b9ac_0242ac1c0002row25_col9,#T_f2e99916_e352_11eb_b9ac_0242ac1c0002row25_col10,#T_f2e99916_e352_11eb_b9ac_0242ac1c0002row25_col11,#T_f2e99916_e352_11eb_b9ac_0242ac1c0002row25_col12,#T_f2e99916_e352_11eb_b9ac_0242ac1c0002row25_col13,#T_f2e99916_e352_11eb_b9ac_0242ac1c0002row25_col14,#T_f2e99916_e352_11eb_b9ac_0242ac1c0002row25_col15,#T_f2e99916_e352_11eb_b9ac_0242ac1c0002row25_col16,#T_f2e99916_e352_11eb_b9ac_0242ac1c0002row25_col17,#T_f2e99916_e352_11eb_b9ac_0242ac1c0002row25_col18,#T_f2e99916_e352_11eb_b9ac_0242ac1c0002row25_col19,#T_f2e99916_e352_11eb_b9ac_0242ac1c0002row25_col20,#T_f2e99916_e352_11eb_b9ac_0242ac1c0002row25_col21,#T_f2e99916_e352_11eb_b9ac_0242ac1c0002row25_col22,#T_f2e99916_e352_11eb_b9ac_0242ac1c0002row25_col23,#T_f2e99916_e352_11eb_b9ac_0242ac1c0002row25_col24,#T_f2e99916_e352_11eb_b9ac_0242ac1c0002row25_col25,#T_f2e99916_e352_11eb_b9ac_0242ac1c0002row25_col26,#T_f2e99916_e352_11eb_b9ac_0242ac1c0002row25_col27,#T_f2e99916_e352_11eb_b9ac_0242ac1c0002row26_col0,#T_f2e99916_e352_11eb_b9ac_0242ac1c0002row26_col1,#T_f2e99916_e352_11eb_b9ac_0242ac1c0002row26_col2,#T_f2e99916_e352_11eb_b9ac_0242ac1c0002row26_col3,#T_f2e99916_e352_11eb_b9ac_0242ac1c0002row26_col4,#T_f2e99916_e352_11eb_b9ac_0242ac1c0002row26_col5,#T_f2e99916_e352_11eb_b9ac_0242ac1c0002row26_col6,#T_f2e99916_e352_11eb_b9ac_0242ac1c0002row26_col7,#T_f2e99916_e352_11eb_b9ac_0242ac1c0002row26_col8,#T_f2e99916_e352_11eb_b9ac_0242ac1c0002row26_col9,#T_f2e99916_e352_11eb_b9ac_0242ac1c0002row26_col10,#T_f2e99916_e352_11eb_b9ac_0242ac1c0002row26_col11,#T_f2e99916_e352_11eb_b9ac_0242ac1c0002row26_col12,#T_f2e99916_e352_11eb_b9ac_0242ac1c0002row26_col13,#T_f2e99916_e352_11eb_b9ac_0242ac1c0002row26_col14,#T_f2e99916_e352_11eb_b9ac_0242ac1c0002row26_col15,#T_f2e99916_e352_11eb_b9ac_0242ac1c0002row26_col16,#T_f2e99916_e352_11eb_b9ac_0242ac1c0002row26_col17,#T_f2e99916_e352_11eb_b9ac_0242ac1c0002row26_col18,#T_f2e99916_e352_11eb_b9ac_0242ac1c0002row26_col19,#T_f2e99916_e352_11eb_b9ac_0242ac1c0002row26_col20,#T_f2e99916_e352_11eb_b9ac_0242ac1c0002row26_col21,#T_f2e99916_e352_11eb_b9ac_0242ac1c0002row26_col22,#T_f2e99916_e352_11eb_b9ac_0242ac1c0002row26_col23,#T_f2e99916_e352_11eb_b9ac_0242ac1c0002row26_col24,#T_f2e99916_e352_11eb_b9ac_0242ac1c0002row26_col25,#T_f2e99916_e352_11eb_b9ac_0242ac1c0002row26_col26,#T_f2e99916_e352_11eb_b9ac_0242ac1c0002row26_col27,#T_f2e99916_e352_11eb_b9ac_0242ac1c0002row27_col0,#T_f2e99916_e352_11eb_b9ac_0242ac1c0002row27_col1,#T_f2e99916_e352_11eb_b9ac_0242ac1c0002row27_col2,#T_f2e99916_e352_11eb_b9ac_0242ac1c0002row27_col3,#T_f2e99916_e352_11eb_b9ac_0242ac1c0002row27_col4,#T_f2e99916_e352_11eb_b9ac_0242ac1c0002row27_col5,#T_f2e99916_e352_11eb_b9ac_0242ac1c0002row27_col6,#T_f2e99916_e352_11eb_b9ac_0242ac1c0002row27_col7,#T_f2e99916_e352_11eb_b9ac_0242ac1c0002row27_col8,#T_f2e99916_e352_11eb_b9ac_0242ac1c0002row27_col9,#T_f2e99916_e352_11eb_b9ac_0242ac1c0002row27_col10,#T_f2e99916_e352_11eb_b9ac_0242ac1c0002row27_col11,#T_f2e99916_e352_11eb_b9ac_0242ac1c0002row27_col12,#T_f2e99916_e352_11eb_b9ac_0242ac1c0002row27_col13,#T_f2e99916_e352_11eb_b9ac_0242ac1c0002row27_col14,#T_f2e99916_e352_11eb_b9ac_0242ac1c0002row27_col15,#T_f2e99916_e352_11eb_b9ac_0242ac1c0002row27_col16,#T_f2e99916_e352_11eb_b9ac_0242ac1c0002row27_col17,#T_f2e99916_e352_11eb_b9ac_0242ac1c0002row27_col18,#T_f2e99916_e352_11eb_b9ac_0242ac1c0002row27_col19,#T_f2e99916_e352_11eb_b9ac_0242ac1c0002row27_col20,#T_f2e99916_e352_11eb_b9ac_0242ac1c0002row27_col21,#T_f2e99916_e352_11eb_b9ac_0242ac1c0002row27_col22,#T_f2e99916_e352_11eb_b9ac_0242ac1c0002row27_col23,#T_f2e99916_e352_11eb_b9ac_0242ac1c0002row27_col24,#T_f2e99916_e352_11eb_b9ac_0242ac1c0002row27_col25,#T_f2e99916_e352_11eb_b9ac_0242ac1c0002row27_col26,#T_f2e99916_e352_11eb_b9ac_0242ac1c0002row27_col27{\n",
              "            font-size:  6pt;\n",
              "            background-color:  #ffffff;\n",
              "            color:  #000000;\n",
              "        }#T_f2e99916_e352_11eb_b9ac_0242ac1c0002row4_col15,#T_f2e99916_e352_11eb_b9ac_0242ac1c0002row9_col10{\n",
              "            font-size:  6pt;\n",
              "            background-color:  #e2e2e2;\n",
              "            color:  #000000;\n",
              "        }#T_f2e99916_e352_11eb_b9ac_0242ac1c0002row4_col16{\n",
              "            font-size:  6pt;\n",
              "            background-color:  #727272;\n",
              "            color:  #000000;\n",
              "        }#T_f2e99916_e352_11eb_b9ac_0242ac1c0002row4_col17,#T_f2e99916_e352_11eb_b9ac_0242ac1c0002row5_col18,#T_f2e99916_e352_11eb_b9ac_0242ac1c0002row6_col15,#T_f2e99916_e352_11eb_b9ac_0242ac1c0002row6_col19,#T_f2e99916_e352_11eb_b9ac_0242ac1c0002row7_col14,#T_f2e99916_e352_11eb_b9ac_0242ac1c0002row7_col15,#T_f2e99916_e352_11eb_b9ac_0242ac1c0002row7_col19,#T_f2e99916_e352_11eb_b9ac_0242ac1c0002row8_col14,#T_f2e99916_e352_11eb_b9ac_0242ac1c0002row8_col15,#T_f2e99916_e352_11eb_b9ac_0242ac1c0002row9_col12,#T_f2e99916_e352_11eb_b9ac_0242ac1c0002row9_col13,#T_f2e99916_e352_11eb_b9ac_0242ac1c0002row9_col16,#T_f2e99916_e352_11eb_b9ac_0242ac1c0002row9_col20,#T_f2e99916_e352_11eb_b9ac_0242ac1c0002row10_col11,#T_f2e99916_e352_11eb_b9ac_0242ac1c0002row11_col10,#T_f2e99916_e352_11eb_b9ac_0242ac1c0002row12_col9,#T_f2e99916_e352_11eb_b9ac_0242ac1c0002row13_col9,#T_f2e99916_e352_11eb_b9ac_0242ac1c0002row14_col8,#T_f2e99916_e352_11eb_b9ac_0242ac1c0002row14_col20,#T_f2e99916_e352_11eb_b9ac_0242ac1c0002row14_col21,#T_f2e99916_e352_11eb_b9ac_0242ac1c0002row14_col22,#T_f2e99916_e352_11eb_b9ac_0242ac1c0002row17_col19,#T_f2e99916_e352_11eb_b9ac_0242ac1c0002row18_col18,#T_f2e99916_e352_11eb_b9ac_0242ac1c0002row19_col6,#T_f2e99916_e352_11eb_b9ac_0242ac1c0002row19_col7,#T_f2e99916_e352_11eb_b9ac_0242ac1c0002row19_col17,#T_f2e99916_e352_11eb_b9ac_0242ac1c0002row20_col15,#T_f2e99916_e352_11eb_b9ac_0242ac1c0002row21_col9,#T_f2e99916_e352_11eb_b9ac_0242ac1c0002row21_col14,#T_f2e99916_e352_11eb_b9ac_0242ac1c0002row22_col9,#T_f2e99916_e352_11eb_b9ac_0242ac1c0002row22_col10,#T_f2e99916_e352_11eb_b9ac_0242ac1c0002row22_col11,#T_f2e99916_e352_11eb_b9ac_0242ac1c0002row23_col9,#T_f2e99916_e352_11eb_b9ac_0242ac1c0002row23_col10,#T_f2e99916_e352_11eb_b9ac_0242ac1c0002row23_col11{\n",
              "            font-size:  6pt;\n",
              "            background-color:  #000000;\n",
              "            color:  #f1f1f1;\n",
              "        }#T_f2e99916_e352_11eb_b9ac_0242ac1c0002row4_col18{\n",
              "            font-size:  6pt;\n",
              "            background-color:  #717171;\n",
              "            color:  #000000;\n",
              "        }#T_f2e99916_e352_11eb_b9ac_0242ac1c0002row4_col19{\n",
              "            font-size:  6pt;\n",
              "            background-color:  #e3e3e3;\n",
              "            color:  #000000;\n",
              "        }#T_f2e99916_e352_11eb_b9ac_0242ac1c0002row5_col14,#T_f2e99916_e352_11eb_b9ac_0242ac1c0002row10_col9,#T_f2e99916_e352_11eb_b9ac_0242ac1c0002row18_col16,#T_f2e99916_e352_11eb_b9ac_0242ac1c0002row20_col10{\n",
              "            font-size:  6pt;\n",
              "            background-color:  #e4e4e4;\n",
              "            color:  #000000;\n",
              "        }#T_f2e99916_e352_11eb_b9ac_0242ac1c0002row5_col15,#T_f2e99916_e352_11eb_b9ac_0242ac1c0002row5_col19,#T_f2e99916_e352_11eb_b9ac_0242ac1c0002row10_col10,#T_f2e99916_e352_11eb_b9ac_0242ac1c0002row19_col16{\n",
              "            font-size:  6pt;\n",
              "            background-color:  #111111;\n",
              "            color:  #f1f1f1;\n",
              "        }#T_f2e99916_e352_11eb_b9ac_0242ac1c0002row5_col16,#T_f2e99916_e352_11eb_b9ac_0242ac1c0002row5_col17,#T_f2e99916_e352_11eb_b9ac_0242ac1c0002row6_col16,#T_f2e99916_e352_11eb_b9ac_0242ac1c0002row7_col16,#T_f2e99916_e352_11eb_b9ac_0242ac1c0002row8_col12,#T_f2e99916_e352_11eb_b9ac_0242ac1c0002row8_col13,#T_f2e99916_e352_11eb_b9ac_0242ac1c0002row8_col16,#T_f2e99916_e352_11eb_b9ac_0242ac1c0002row8_col17,#T_f2e99916_e352_11eb_b9ac_0242ac1c0002row10_col12,#T_f2e99916_e352_11eb_b9ac_0242ac1c0002row11_col21,#T_f2e99916_e352_11eb_b9ac_0242ac1c0002row12_col21,#T_f2e99916_e352_11eb_b9ac_0242ac1c0002row12_col22,#T_f2e99916_e352_11eb_b9ac_0242ac1c0002row13_col8,#T_f2e99916_e352_11eb_b9ac_0242ac1c0002row13_col21,#T_f2e99916_e352_11eb_b9ac_0242ac1c0002row13_col22,#T_f2e99916_e352_11eb_b9ac_0242ac1c0002row15_col8,#T_f2e99916_e352_11eb_b9ac_0242ac1c0002row15_col21,#T_f2e99916_e352_11eb_b9ac_0242ac1c0002row16_col7,#T_f2e99916_e352_11eb_b9ac_0242ac1c0002row17_col7,#T_f2e99916_e352_11eb_b9ac_0242ac1c0002row18_col7,#T_f2e99916_e352_11eb_b9ac_0242ac1c0002row20_col7,#T_f2e99916_e352_11eb_b9ac_0242ac1c0002row21_col7,#T_f2e99916_e352_11eb_b9ac_0242ac1c0002row21_col8,#T_f2e99916_e352_11eb_b9ac_0242ac1c0002row21_col12,#T_f2e99916_e352_11eb_b9ac_0242ac1c0002row21_col13,#T_f2e99916_e352_11eb_b9ac_0242ac1c0002row22_col8,#T_f2e99916_e352_11eb_b9ac_0242ac1c0002row22_col12{\n",
              "            font-size:  6pt;\n",
              "            background-color:  #010101;\n",
              "            color:  #f1f1f1;\n",
              "        }#T_f2e99916_e352_11eb_b9ac_0242ac1c0002row6_col13{\n",
              "            font-size:  6pt;\n",
              "            background-color:  #e0e0e0;\n",
              "            color:  #000000;\n",
              "        }#T_f2e99916_e352_11eb_b9ac_0242ac1c0002row6_col14,#T_f2e99916_e352_11eb_b9ac_0242ac1c0002row9_col17{\n",
              "            font-size:  6pt;\n",
              "            background-color:  #1d1d1d;\n",
              "            color:  #f1f1f1;\n",
              "        }#T_f2e99916_e352_11eb_b9ac_0242ac1c0002row6_col17,#T_f2e99916_e352_11eb_b9ac_0242ac1c0002row9_col11{\n",
              "            font-size:  6pt;\n",
              "            background-color:  #101010;\n",
              "            color:  #f1f1f1;\n",
              "        }#T_f2e99916_e352_11eb_b9ac_0242ac1c0002row6_col18,#T_f2e99916_e352_11eb_b9ac_0242ac1c0002row11_col11{\n",
              "            font-size:  6pt;\n",
              "            background-color:  #161616;\n",
              "            color:  #f1f1f1;\n",
              "        }#T_f2e99916_e352_11eb_b9ac_0242ac1c0002row6_col20,#T_f2e99916_e352_11eb_b9ac_0242ac1c0002row13_col7{\n",
              "            font-size:  6pt;\n",
              "            background-color:  #dedede;\n",
              "            color:  #000000;\n",
              "        }#T_f2e99916_e352_11eb_b9ac_0242ac1c0002row6_col21,#T_f2e99916_e352_11eb_b9ac_0242ac1c0002row12_col7,#T_f2e99916_e352_11eb_b9ac_0242ac1c0002row16_col18,#T_f2e99916_e352_11eb_b9ac_0242ac1c0002row17_col17{\n",
              "            font-size:  6pt;\n",
              "            background-color:  #fcfcfc;\n",
              "            color:  #000000;\n",
              "        }#T_f2e99916_e352_11eb_b9ac_0242ac1c0002row7_col11{\n",
              "            font-size:  6pt;\n",
              "            background-color:  #fafafa;\n",
              "            color:  #000000;\n",
              "        }#T_f2e99916_e352_11eb_b9ac_0242ac1c0002row7_col12{\n",
              "            font-size:  6pt;\n",
              "            background-color:  #dcdcdc;\n",
              "            color:  #000000;\n",
              "        }#T_f2e99916_e352_11eb_b9ac_0242ac1c0002row7_col13,#T_f2e99916_e352_11eb_b9ac_0242ac1c0002row15_col6{\n",
              "            font-size:  6pt;\n",
              "            background-color:  #222222;\n",
              "            color:  #f1f1f1;\n",
              "        }#T_f2e99916_e352_11eb_b9ac_0242ac1c0002row7_col17{\n",
              "            font-size:  6pt;\n",
              "            background-color:  #404040;\n",
              "            color:  #f1f1f1;\n",
              "        }#T_f2e99916_e352_11eb_b9ac_0242ac1c0002row7_col18{\n",
              "            font-size:  6pt;\n",
              "            background-color:  #c6c6c6;\n",
              "            color:  #000000;\n",
              "        }#T_f2e99916_e352_11eb_b9ac_0242ac1c0002row7_col20,#T_f2e99916_e352_11eb_b9ac_0242ac1c0002row8_col20,#T_f2e99916_e352_11eb_b9ac_0242ac1c0002row10_col20,#T_f2e99916_e352_11eb_b9ac_0242ac1c0002row11_col20,#T_f2e99916_e352_11eb_b9ac_0242ac1c0002row12_col20,#T_f2e99916_e352_11eb_b9ac_0242ac1c0002row13_col20,#T_f2e99916_e352_11eb_b9ac_0242ac1c0002row15_col20,#T_f2e99916_e352_11eb_b9ac_0242ac1c0002row16_col6,#T_f2e99916_e352_11eb_b9ac_0242ac1c0002row16_col20,#T_f2e99916_e352_11eb_b9ac_0242ac1c0002row17_col6,#T_f2e99916_e352_11eb_b9ac_0242ac1c0002row18_col6,#T_f2e99916_e352_11eb_b9ac_0242ac1c0002row20_col6,#T_f2e99916_e352_11eb_b9ac_0242ac1c0002row21_col6{\n",
              "            font-size:  6pt;\n",
              "            background-color:  #020202;\n",
              "            color:  #f1f1f1;\n",
              "        }#T_f2e99916_e352_11eb_b9ac_0242ac1c0002row7_col21{\n",
              "            font-size:  6pt;\n",
              "            background-color:  #9c9c9c;\n",
              "            color:  #000000;\n",
              "        }#T_f2e99916_e352_11eb_b9ac_0242ac1c0002row8_col11{\n",
              "            font-size:  6pt;\n",
              "            background-color:  #6d6d6d;\n",
              "            color:  #000000;\n",
              "        }#T_f2e99916_e352_11eb_b9ac_0242ac1c0002row8_col18{\n",
              "            font-size:  6pt;\n",
              "            background-color:  #bbbbbb;\n",
              "            color:  #000000;\n",
              "        }#T_f2e99916_e352_11eb_b9ac_0242ac1c0002row8_col19{\n",
              "            font-size:  6pt;\n",
              "            background-color:  #515151;\n",
              "            color:  #f1f1f1;\n",
              "        }#T_f2e99916_e352_11eb_b9ac_0242ac1c0002row8_col21,#T_f2e99916_e352_11eb_b9ac_0242ac1c0002row20_col17{\n",
              "            font-size:  6pt;\n",
              "            background-color:  #6a6a6a;\n",
              "            color:  #000000;\n",
              "        }#T_f2e99916_e352_11eb_b9ac_0242ac1c0002row9_col14,#T_f2e99916_e352_11eb_b9ac_0242ac1c0002row14_col9,#T_f2e99916_e352_11eb_b9ac_0242ac1c0002row15_col22{\n",
              "            font-size:  6pt;\n",
              "            background-color:  #505050;\n",
              "            color:  #f1f1f1;\n",
              "        }#T_f2e99916_e352_11eb_b9ac_0242ac1c0002row9_col15,#T_f2e99916_e352_11eb_b9ac_0242ac1c0002row19_col15{\n",
              "            font-size:  6pt;\n",
              "            background-color:  #a5a5a5;\n",
              "            color:  #000000;\n",
              "        }#T_f2e99916_e352_11eb_b9ac_0242ac1c0002row9_col18{\n",
              "            font-size:  6pt;\n",
              "            background-color:  #e5e5e5;\n",
              "            color:  #000000;\n",
              "        }#T_f2e99916_e352_11eb_b9ac_0242ac1c0002row9_col19{\n",
              "            font-size:  6pt;\n",
              "            background-color:  #cbcbcb;\n",
              "            color:  #000000;\n",
              "        }#T_f2e99916_e352_11eb_b9ac_0242ac1c0002row9_col21{\n",
              "            font-size:  6pt;\n",
              "            background-color:  #696969;\n",
              "            color:  #000000;\n",
              "        }#T_f2e99916_e352_11eb_b9ac_0242ac1c0002row10_col13{\n",
              "            font-size:  6pt;\n",
              "            background-color:  #5d5d5d;\n",
              "            color:  #f1f1f1;\n",
              "        }#T_f2e99916_e352_11eb_b9ac_0242ac1c0002row10_col14{\n",
              "            font-size:  6pt;\n",
              "            background-color:  #f9f9f9;\n",
              "            color:  #000000;\n",
              "        }#T_f2e99916_e352_11eb_b9ac_0242ac1c0002row10_col15{\n",
              "            font-size:  6pt;\n",
              "            background-color:  #cfcfcf;\n",
              "            color:  #000000;\n",
              "        }#T_f2e99916_e352_11eb_b9ac_0242ac1c0002row10_col16{\n",
              "            font-size:  6pt;\n",
              "            background-color:  #9d9d9d;\n",
              "            color:  #000000;\n",
              "        }#T_f2e99916_e352_11eb_b9ac_0242ac1c0002row10_col17{\n",
              "            font-size:  6pt;\n",
              "            background-color:  #f5f5f5;\n",
              "            color:  #000000;\n",
              "        }#T_f2e99916_e352_11eb_b9ac_0242ac1c0002row10_col21{\n",
              "            font-size:  6pt;\n",
              "            background-color:  #0c0c0c;\n",
              "            color:  #f1f1f1;\n",
              "        }#T_f2e99916_e352_11eb_b9ac_0242ac1c0002row10_col22{\n",
              "            font-size:  6pt;\n",
              "            background-color:  #d8d8d8;\n",
              "            color:  #000000;\n",
              "        }#T_f2e99916_e352_11eb_b9ac_0242ac1c0002row11_col8,#T_f2e99916_e352_11eb_b9ac_0242ac1c0002row23_col13{\n",
              "            font-size:  6pt;\n",
              "            background-color:  #ececec;\n",
              "            color:  #000000;\n",
              "        }#T_f2e99916_e352_11eb_b9ac_0242ac1c0002row11_col9{\n",
              "            font-size:  6pt;\n",
              "            background-color:  #6b6b6b;\n",
              "            color:  #000000;\n",
              "        }#T_f2e99916_e352_11eb_b9ac_0242ac1c0002row11_col12{\n",
              "            font-size:  6pt;\n",
              "            background-color:  #383838;\n",
              "            color:  #f1f1f1;\n",
              "        }#T_f2e99916_e352_11eb_b9ac_0242ac1c0002row11_col13{\n",
              "            font-size:  6pt;\n",
              "            background-color:  #c7c7c7;\n",
              "            color:  #000000;\n",
              "        }#T_f2e99916_e352_11eb_b9ac_0242ac1c0002row11_col22{\n",
              "            font-size:  6pt;\n",
              "            background-color:  #303030;\n",
              "            color:  #f1f1f1;\n",
              "        }#T_f2e99916_e352_11eb_b9ac_0242ac1c0002row12_col8,#T_f2e99916_e352_11eb_b9ac_0242ac1c0002row20_col13{\n",
              "            font-size:  6pt;\n",
              "            background-color:  #5e5e5e;\n",
              "            color:  #f1f1f1;\n",
              "        }#T_f2e99916_e352_11eb_b9ac_0242ac1c0002row12_col10{\n",
              "            font-size:  6pt;\n",
              "            background-color:  #0f0f0f;\n",
              "            color:  #f1f1f1;\n",
              "        }#T_f2e99916_e352_11eb_b9ac_0242ac1c0002row12_col11{\n",
              "            font-size:  6pt;\n",
              "            background-color:  #d2d2d2;\n",
              "            color:  #000000;\n",
              "        }#T_f2e99916_e352_11eb_b9ac_0242ac1c0002row12_col12{\n",
              "            font-size:  6pt;\n",
              "            background-color:  #f6f6f6;\n",
              "            color:  #000000;\n",
              "        }#T_f2e99916_e352_11eb_b9ac_0242ac1c0002row12_col13{\n",
              "            font-size:  6pt;\n",
              "            background-color:  #f2f2f2;\n",
              "            color:  #000000;\n",
              "        }#T_f2e99916_e352_11eb_b9ac_0242ac1c0002row13_col10{\n",
              "            font-size:  6pt;\n",
              "            background-color:  #dadada;\n",
              "            color:  #000000;\n",
              "        }#T_f2e99916_e352_11eb_b9ac_0242ac1c0002row14_col7{\n",
              "            font-size:  6pt;\n",
              "            background-color:  #464646;\n",
              "            color:  #f1f1f1;\n",
              "        }#T_f2e99916_e352_11eb_b9ac_0242ac1c0002row15_col7{\n",
              "            font-size:  6pt;\n",
              "            background-color:  #080808;\n",
              "            color:  #f1f1f1;\n",
              "        }#T_f2e99916_e352_11eb_b9ac_0242ac1c0002row15_col9{\n",
              "            font-size:  6pt;\n",
              "            background-color:  #a8a8a8;\n",
              "            color:  #000000;\n",
              "        }#T_f2e99916_e352_11eb_b9ac_0242ac1c0002row16_col8{\n",
              "            font-size:  6pt;\n",
              "            background-color:  #1b1b1b;\n",
              "            color:  #f1f1f1;\n",
              "        }#T_f2e99916_e352_11eb_b9ac_0242ac1c0002row16_col9,#T_f2e99916_e352_11eb_b9ac_0242ac1c0002row23_col7{\n",
              "            font-size:  6pt;\n",
              "            background-color:  #f3f3f3;\n",
              "            color:  #000000;\n",
              "        }#T_f2e99916_e352_11eb_b9ac_0242ac1c0002row16_col19{\n",
              "            font-size:  6pt;\n",
              "            background-color:  #8c8c8c;\n",
              "            color:  #000000;\n",
              "        }#T_f2e99916_e352_11eb_b9ac_0242ac1c0002row16_col21{\n",
              "            font-size:  6pt;\n",
              "            background-color:  #555555;\n",
              "            color:  #f1f1f1;\n",
              "        }#T_f2e99916_e352_11eb_b9ac_0242ac1c0002row16_col22{\n",
              "            font-size:  6pt;\n",
              "            background-color:  #f8f8f8;\n",
              "            color:  #000000;\n",
              "        }#T_f2e99916_e352_11eb_b9ac_0242ac1c0002row17_col8,#T_f2e99916_e352_11eb_b9ac_0242ac1c0002row17_col20,#T_f2e99916_e352_11eb_b9ac_0242ac1c0002row20_col16{\n",
              "            font-size:  6pt;\n",
              "            background-color:  #232323;\n",
              "            color:  #f1f1f1;\n",
              "        }#T_f2e99916_e352_11eb_b9ac_0242ac1c0002row17_col18{\n",
              "            font-size:  6pt;\n",
              "            background-color:  #909090;\n",
              "            color:  #000000;\n",
              "        }#T_f2e99916_e352_11eb_b9ac_0242ac1c0002row17_col21{\n",
              "            font-size:  6pt;\n",
              "            background-color:  #d3d3d3;\n",
              "            color:  #000000;\n",
              "        }#T_f2e99916_e352_11eb_b9ac_0242ac1c0002row18_col8{\n",
              "            font-size:  6pt;\n",
              "            background-color:  #828282;\n",
              "            color:  #000000;\n",
              "        }#T_f2e99916_e352_11eb_b9ac_0242ac1c0002row18_col17{\n",
              "            font-size:  6pt;\n",
              "            background-color:  #6c6c6c;\n",
              "            color:  #000000;\n",
              "        }#T_f2e99916_e352_11eb_b9ac_0242ac1c0002row18_col19{\n",
              "            font-size:  6pt;\n",
              "            background-color:  #636363;\n",
              "            color:  #f1f1f1;\n",
              "        }#T_f2e99916_e352_11eb_b9ac_0242ac1c0002row19_col8{\n",
              "            font-size:  6pt;\n",
              "            background-color:  #212121;\n",
              "            color:  #f1f1f1;\n",
              "        }#T_f2e99916_e352_11eb_b9ac_0242ac1c0002row19_col18{\n",
              "            font-size:  6pt;\n",
              "            background-color:  #6e6e6e;\n",
              "            color:  #000000;\n",
              "        }#T_f2e99916_e352_11eb_b9ac_0242ac1c0002row20_col8{\n",
              "            font-size:  6pt;\n",
              "            background-color:  #050505;\n",
              "            color:  #f1f1f1;\n",
              "        }#T_f2e99916_e352_11eb_b9ac_0242ac1c0002row20_col9{\n",
              "            font-size:  6pt;\n",
              "            background-color:  #7f7f7f;\n",
              "            color:  #000000;\n",
              "        }#T_f2e99916_e352_11eb_b9ac_0242ac1c0002row20_col11{\n",
              "            font-size:  6pt;\n",
              "            background-color:  #f1f1f1;\n",
              "            color:  #000000;\n",
              "        }#T_f2e99916_e352_11eb_b9ac_0242ac1c0002row20_col12{\n",
              "            font-size:  6pt;\n",
              "            background-color:  #c5c5c5;\n",
              "            color:  #000000;\n",
              "        }#T_f2e99916_e352_11eb_b9ac_0242ac1c0002row20_col14{\n",
              "            font-size:  6pt;\n",
              "            background-color:  #1f1f1f;\n",
              "            color:  #f1f1f1;\n",
              "        }#T_f2e99916_e352_11eb_b9ac_0242ac1c0002row20_col18{\n",
              "            font-size:  6pt;\n",
              "            background-color:  #dfdfdf;\n",
              "            color:  #000000;\n",
              "        }#T_f2e99916_e352_11eb_b9ac_0242ac1c0002row21_col10{\n",
              "            font-size:  6pt;\n",
              "            background-color:  #1c1c1c;\n",
              "            color:  #f1f1f1;\n",
              "        }#T_f2e99916_e352_11eb_b9ac_0242ac1c0002row21_col11{\n",
              "            font-size:  6pt;\n",
              "            background-color:  #2c2c2c;\n",
              "            color:  #f1f1f1;\n",
              "        }#T_f2e99916_e352_11eb_b9ac_0242ac1c0002row21_col15{\n",
              "            font-size:  6pt;\n",
              "            background-color:  #484848;\n",
              "            color:  #f1f1f1;\n",
              "        }#T_f2e99916_e352_11eb_b9ac_0242ac1c0002row21_col16{\n",
              "            font-size:  6pt;\n",
              "            background-color:  #929292;\n",
              "            color:  #000000;\n",
              "        }#T_f2e99916_e352_11eb_b9ac_0242ac1c0002row22_col6{\n",
              "            font-size:  6pt;\n",
              "            background-color:  #c8c8c8;\n",
              "            color:  #000000;\n",
              "        }#T_f2e99916_e352_11eb_b9ac_0242ac1c0002row22_col7{\n",
              "            font-size:  6pt;\n",
              "            background-color:  #444444;\n",
              "            color:  #f1f1f1;\n",
              "        }#T_f2e99916_e352_11eb_b9ac_0242ac1c0002row22_col13{\n",
              "            font-size:  6pt;\n",
              "            background-color:  #171717;\n",
              "            color:  #f1f1f1;\n",
              "        }#T_f2e99916_e352_11eb_b9ac_0242ac1c0002row22_col14{\n",
              "            font-size:  6pt;\n",
              "            background-color:  #818181;\n",
              "            color:  #000000;\n",
              "        }#T_f2e99916_e352_11eb_b9ac_0242ac1c0002row23_col8{\n",
              "            font-size:  6pt;\n",
              "            background-color:  #949494;\n",
              "            color:  #000000;\n",
              "        }#T_f2e99916_e352_11eb_b9ac_0242ac1c0002row23_col12{\n",
              "            font-size:  6pt;\n",
              "            background-color:  #868686;\n",
              "            color:  #000000;\n",
              "        }</style><table id=\"T_f2e99916_e352_11eb_b9ac_0242ac1c0002\" ><thead>    <tr>        <th class=\"blank level0\" ></th>        <th class=\"col_heading level0 col0\" >0</th>        <th class=\"col_heading level0 col1\" >1</th>        <th class=\"col_heading level0 col2\" >2</th>        <th class=\"col_heading level0 col3\" >3</th>        <th class=\"col_heading level0 col4\" >4</th>        <th class=\"col_heading level0 col5\" >5</th>        <th class=\"col_heading level0 col6\" >6</th>        <th class=\"col_heading level0 col7\" >7</th>        <th class=\"col_heading level0 col8\" >8</th>        <th class=\"col_heading level0 col9\" >9</th>        <th class=\"col_heading level0 col10\" >10</th>        <th class=\"col_heading level0 col11\" >11</th>        <th class=\"col_heading level0 col12\" >12</th>        <th class=\"col_heading level0 col13\" >13</th>        <th class=\"col_heading level0 col14\" >14</th>        <th class=\"col_heading level0 col15\" >15</th>        <th class=\"col_heading level0 col16\" >16</th>        <th class=\"col_heading level0 col17\" >17</th>        <th class=\"col_heading level0 col18\" >18</th>        <th class=\"col_heading level0 col19\" >19</th>        <th class=\"col_heading level0 col20\" >20</th>        <th class=\"col_heading level0 col21\" >21</th>        <th class=\"col_heading level0 col22\" >22</th>        <th class=\"col_heading level0 col23\" >23</th>        <th class=\"col_heading level0 col24\" >24</th>        <th class=\"col_heading level0 col25\" >25</th>        <th class=\"col_heading level0 col26\" >26</th>        <th class=\"col_heading level0 col27\" >27</th>    </tr></thead><tbody>\n",
              "                <tr>\n",
              "                        <th id=\"T_f2e99916_e352_11eb_b9ac_0242ac1c0002level0_row0\" class=\"row_heading level0 row0\" >0</th>\n",
              "                        <td id=\"T_f2e99916_e352_11eb_b9ac_0242ac1c0002row0_col0\" class=\"data row0 col0\" >0</td>\n",
              "                        <td id=\"T_f2e99916_e352_11eb_b9ac_0242ac1c0002row0_col1\" class=\"data row0 col1\" >0</td>\n",
              "                        <td id=\"T_f2e99916_e352_11eb_b9ac_0242ac1c0002row0_col2\" class=\"data row0 col2\" >0</td>\n",
              "                        <td id=\"T_f2e99916_e352_11eb_b9ac_0242ac1c0002row0_col3\" class=\"data row0 col3\" >0</td>\n",
              "                        <td id=\"T_f2e99916_e352_11eb_b9ac_0242ac1c0002row0_col4\" class=\"data row0 col4\" >0</td>\n",
              "                        <td id=\"T_f2e99916_e352_11eb_b9ac_0242ac1c0002row0_col5\" class=\"data row0 col5\" >0</td>\n",
              "                        <td id=\"T_f2e99916_e352_11eb_b9ac_0242ac1c0002row0_col6\" class=\"data row0 col6\" >0</td>\n",
              "                        <td id=\"T_f2e99916_e352_11eb_b9ac_0242ac1c0002row0_col7\" class=\"data row0 col7\" >0</td>\n",
              "                        <td id=\"T_f2e99916_e352_11eb_b9ac_0242ac1c0002row0_col8\" class=\"data row0 col8\" >0</td>\n",
              "                        <td id=\"T_f2e99916_e352_11eb_b9ac_0242ac1c0002row0_col9\" class=\"data row0 col9\" >0</td>\n",
              "                        <td id=\"T_f2e99916_e352_11eb_b9ac_0242ac1c0002row0_col10\" class=\"data row0 col10\" >0</td>\n",
              "                        <td id=\"T_f2e99916_e352_11eb_b9ac_0242ac1c0002row0_col11\" class=\"data row0 col11\" >0</td>\n",
              "                        <td id=\"T_f2e99916_e352_11eb_b9ac_0242ac1c0002row0_col12\" class=\"data row0 col12\" >0</td>\n",
              "                        <td id=\"T_f2e99916_e352_11eb_b9ac_0242ac1c0002row0_col13\" class=\"data row0 col13\" >0</td>\n",
              "                        <td id=\"T_f2e99916_e352_11eb_b9ac_0242ac1c0002row0_col14\" class=\"data row0 col14\" >0</td>\n",
              "                        <td id=\"T_f2e99916_e352_11eb_b9ac_0242ac1c0002row0_col15\" class=\"data row0 col15\" >0</td>\n",
              "                        <td id=\"T_f2e99916_e352_11eb_b9ac_0242ac1c0002row0_col16\" class=\"data row0 col16\" >0</td>\n",
              "                        <td id=\"T_f2e99916_e352_11eb_b9ac_0242ac1c0002row0_col17\" class=\"data row0 col17\" >0</td>\n",
              "                        <td id=\"T_f2e99916_e352_11eb_b9ac_0242ac1c0002row0_col18\" class=\"data row0 col18\" >0</td>\n",
              "                        <td id=\"T_f2e99916_e352_11eb_b9ac_0242ac1c0002row0_col19\" class=\"data row0 col19\" >0</td>\n",
              "                        <td id=\"T_f2e99916_e352_11eb_b9ac_0242ac1c0002row0_col20\" class=\"data row0 col20\" >0</td>\n",
              "                        <td id=\"T_f2e99916_e352_11eb_b9ac_0242ac1c0002row0_col21\" class=\"data row0 col21\" >0</td>\n",
              "                        <td id=\"T_f2e99916_e352_11eb_b9ac_0242ac1c0002row0_col22\" class=\"data row0 col22\" >0</td>\n",
              "                        <td id=\"T_f2e99916_e352_11eb_b9ac_0242ac1c0002row0_col23\" class=\"data row0 col23\" >0</td>\n",
              "                        <td id=\"T_f2e99916_e352_11eb_b9ac_0242ac1c0002row0_col24\" class=\"data row0 col24\" >0</td>\n",
              "                        <td id=\"T_f2e99916_e352_11eb_b9ac_0242ac1c0002row0_col25\" class=\"data row0 col25\" >0</td>\n",
              "                        <td id=\"T_f2e99916_e352_11eb_b9ac_0242ac1c0002row0_col26\" class=\"data row0 col26\" >0</td>\n",
              "                        <td id=\"T_f2e99916_e352_11eb_b9ac_0242ac1c0002row0_col27\" class=\"data row0 col27\" >0</td>\n",
              "            </tr>\n",
              "            <tr>\n",
              "                        <th id=\"T_f2e99916_e352_11eb_b9ac_0242ac1c0002level0_row1\" class=\"row_heading level0 row1\" >1</th>\n",
              "                        <td id=\"T_f2e99916_e352_11eb_b9ac_0242ac1c0002row1_col0\" class=\"data row1 col0\" >0</td>\n",
              "                        <td id=\"T_f2e99916_e352_11eb_b9ac_0242ac1c0002row1_col1\" class=\"data row1 col1\" >0</td>\n",
              "                        <td id=\"T_f2e99916_e352_11eb_b9ac_0242ac1c0002row1_col2\" class=\"data row1 col2\" >0</td>\n",
              "                        <td id=\"T_f2e99916_e352_11eb_b9ac_0242ac1c0002row1_col3\" class=\"data row1 col3\" >0</td>\n",
              "                        <td id=\"T_f2e99916_e352_11eb_b9ac_0242ac1c0002row1_col4\" class=\"data row1 col4\" >0</td>\n",
              "                        <td id=\"T_f2e99916_e352_11eb_b9ac_0242ac1c0002row1_col5\" class=\"data row1 col5\" >0</td>\n",
              "                        <td id=\"T_f2e99916_e352_11eb_b9ac_0242ac1c0002row1_col6\" class=\"data row1 col6\" >0</td>\n",
              "                        <td id=\"T_f2e99916_e352_11eb_b9ac_0242ac1c0002row1_col7\" class=\"data row1 col7\" >0</td>\n",
              "                        <td id=\"T_f2e99916_e352_11eb_b9ac_0242ac1c0002row1_col8\" class=\"data row1 col8\" >0</td>\n",
              "                        <td id=\"T_f2e99916_e352_11eb_b9ac_0242ac1c0002row1_col9\" class=\"data row1 col9\" >0</td>\n",
              "                        <td id=\"T_f2e99916_e352_11eb_b9ac_0242ac1c0002row1_col10\" class=\"data row1 col10\" >0</td>\n",
              "                        <td id=\"T_f2e99916_e352_11eb_b9ac_0242ac1c0002row1_col11\" class=\"data row1 col11\" >0</td>\n",
              "                        <td id=\"T_f2e99916_e352_11eb_b9ac_0242ac1c0002row1_col12\" class=\"data row1 col12\" >0</td>\n",
              "                        <td id=\"T_f2e99916_e352_11eb_b9ac_0242ac1c0002row1_col13\" class=\"data row1 col13\" >0</td>\n",
              "                        <td id=\"T_f2e99916_e352_11eb_b9ac_0242ac1c0002row1_col14\" class=\"data row1 col14\" >0</td>\n",
              "                        <td id=\"T_f2e99916_e352_11eb_b9ac_0242ac1c0002row1_col15\" class=\"data row1 col15\" >0</td>\n",
              "                        <td id=\"T_f2e99916_e352_11eb_b9ac_0242ac1c0002row1_col16\" class=\"data row1 col16\" >0</td>\n",
              "                        <td id=\"T_f2e99916_e352_11eb_b9ac_0242ac1c0002row1_col17\" class=\"data row1 col17\" >0</td>\n",
              "                        <td id=\"T_f2e99916_e352_11eb_b9ac_0242ac1c0002row1_col18\" class=\"data row1 col18\" >0</td>\n",
              "                        <td id=\"T_f2e99916_e352_11eb_b9ac_0242ac1c0002row1_col19\" class=\"data row1 col19\" >0</td>\n",
              "                        <td id=\"T_f2e99916_e352_11eb_b9ac_0242ac1c0002row1_col20\" class=\"data row1 col20\" >0</td>\n",
              "                        <td id=\"T_f2e99916_e352_11eb_b9ac_0242ac1c0002row1_col21\" class=\"data row1 col21\" >0</td>\n",
              "                        <td id=\"T_f2e99916_e352_11eb_b9ac_0242ac1c0002row1_col22\" class=\"data row1 col22\" >0</td>\n",
              "                        <td id=\"T_f2e99916_e352_11eb_b9ac_0242ac1c0002row1_col23\" class=\"data row1 col23\" >0</td>\n",
              "                        <td id=\"T_f2e99916_e352_11eb_b9ac_0242ac1c0002row1_col24\" class=\"data row1 col24\" >0</td>\n",
              "                        <td id=\"T_f2e99916_e352_11eb_b9ac_0242ac1c0002row1_col25\" class=\"data row1 col25\" >0</td>\n",
              "                        <td id=\"T_f2e99916_e352_11eb_b9ac_0242ac1c0002row1_col26\" class=\"data row1 col26\" >0</td>\n",
              "                        <td id=\"T_f2e99916_e352_11eb_b9ac_0242ac1c0002row1_col27\" class=\"data row1 col27\" >0</td>\n",
              "            </tr>\n",
              "            <tr>\n",
              "                        <th id=\"T_f2e99916_e352_11eb_b9ac_0242ac1c0002level0_row2\" class=\"row_heading level0 row2\" >2</th>\n",
              "                        <td id=\"T_f2e99916_e352_11eb_b9ac_0242ac1c0002row2_col0\" class=\"data row2 col0\" >0</td>\n",
              "                        <td id=\"T_f2e99916_e352_11eb_b9ac_0242ac1c0002row2_col1\" class=\"data row2 col1\" >0</td>\n",
              "                        <td id=\"T_f2e99916_e352_11eb_b9ac_0242ac1c0002row2_col2\" class=\"data row2 col2\" >0</td>\n",
              "                        <td id=\"T_f2e99916_e352_11eb_b9ac_0242ac1c0002row2_col3\" class=\"data row2 col3\" >0</td>\n",
              "                        <td id=\"T_f2e99916_e352_11eb_b9ac_0242ac1c0002row2_col4\" class=\"data row2 col4\" >0</td>\n",
              "                        <td id=\"T_f2e99916_e352_11eb_b9ac_0242ac1c0002row2_col5\" class=\"data row2 col5\" >0</td>\n",
              "                        <td id=\"T_f2e99916_e352_11eb_b9ac_0242ac1c0002row2_col6\" class=\"data row2 col6\" >0</td>\n",
              "                        <td id=\"T_f2e99916_e352_11eb_b9ac_0242ac1c0002row2_col7\" class=\"data row2 col7\" >0</td>\n",
              "                        <td id=\"T_f2e99916_e352_11eb_b9ac_0242ac1c0002row2_col8\" class=\"data row2 col8\" >0</td>\n",
              "                        <td id=\"T_f2e99916_e352_11eb_b9ac_0242ac1c0002row2_col9\" class=\"data row2 col9\" >0</td>\n",
              "                        <td id=\"T_f2e99916_e352_11eb_b9ac_0242ac1c0002row2_col10\" class=\"data row2 col10\" >0</td>\n",
              "                        <td id=\"T_f2e99916_e352_11eb_b9ac_0242ac1c0002row2_col11\" class=\"data row2 col11\" >0</td>\n",
              "                        <td id=\"T_f2e99916_e352_11eb_b9ac_0242ac1c0002row2_col12\" class=\"data row2 col12\" >0</td>\n",
              "                        <td id=\"T_f2e99916_e352_11eb_b9ac_0242ac1c0002row2_col13\" class=\"data row2 col13\" >0</td>\n",
              "                        <td id=\"T_f2e99916_e352_11eb_b9ac_0242ac1c0002row2_col14\" class=\"data row2 col14\" >0</td>\n",
              "                        <td id=\"T_f2e99916_e352_11eb_b9ac_0242ac1c0002row2_col15\" class=\"data row2 col15\" >0</td>\n",
              "                        <td id=\"T_f2e99916_e352_11eb_b9ac_0242ac1c0002row2_col16\" class=\"data row2 col16\" >0</td>\n",
              "                        <td id=\"T_f2e99916_e352_11eb_b9ac_0242ac1c0002row2_col17\" class=\"data row2 col17\" >0</td>\n",
              "                        <td id=\"T_f2e99916_e352_11eb_b9ac_0242ac1c0002row2_col18\" class=\"data row2 col18\" >0</td>\n",
              "                        <td id=\"T_f2e99916_e352_11eb_b9ac_0242ac1c0002row2_col19\" class=\"data row2 col19\" >0</td>\n",
              "                        <td id=\"T_f2e99916_e352_11eb_b9ac_0242ac1c0002row2_col20\" class=\"data row2 col20\" >0</td>\n",
              "                        <td id=\"T_f2e99916_e352_11eb_b9ac_0242ac1c0002row2_col21\" class=\"data row2 col21\" >0</td>\n",
              "                        <td id=\"T_f2e99916_e352_11eb_b9ac_0242ac1c0002row2_col22\" class=\"data row2 col22\" >0</td>\n",
              "                        <td id=\"T_f2e99916_e352_11eb_b9ac_0242ac1c0002row2_col23\" class=\"data row2 col23\" >0</td>\n",
              "                        <td id=\"T_f2e99916_e352_11eb_b9ac_0242ac1c0002row2_col24\" class=\"data row2 col24\" >0</td>\n",
              "                        <td id=\"T_f2e99916_e352_11eb_b9ac_0242ac1c0002row2_col25\" class=\"data row2 col25\" >0</td>\n",
              "                        <td id=\"T_f2e99916_e352_11eb_b9ac_0242ac1c0002row2_col26\" class=\"data row2 col26\" >0</td>\n",
              "                        <td id=\"T_f2e99916_e352_11eb_b9ac_0242ac1c0002row2_col27\" class=\"data row2 col27\" >0</td>\n",
              "            </tr>\n",
              "            <tr>\n",
              "                        <th id=\"T_f2e99916_e352_11eb_b9ac_0242ac1c0002level0_row3\" class=\"row_heading level0 row3\" >3</th>\n",
              "                        <td id=\"T_f2e99916_e352_11eb_b9ac_0242ac1c0002row3_col0\" class=\"data row3 col0\" >0</td>\n",
              "                        <td id=\"T_f2e99916_e352_11eb_b9ac_0242ac1c0002row3_col1\" class=\"data row3 col1\" >0</td>\n",
              "                        <td id=\"T_f2e99916_e352_11eb_b9ac_0242ac1c0002row3_col2\" class=\"data row3 col2\" >0</td>\n",
              "                        <td id=\"T_f2e99916_e352_11eb_b9ac_0242ac1c0002row3_col3\" class=\"data row3 col3\" >0</td>\n",
              "                        <td id=\"T_f2e99916_e352_11eb_b9ac_0242ac1c0002row3_col4\" class=\"data row3 col4\" >0</td>\n",
              "                        <td id=\"T_f2e99916_e352_11eb_b9ac_0242ac1c0002row3_col5\" class=\"data row3 col5\" >0</td>\n",
              "                        <td id=\"T_f2e99916_e352_11eb_b9ac_0242ac1c0002row3_col6\" class=\"data row3 col6\" >0</td>\n",
              "                        <td id=\"T_f2e99916_e352_11eb_b9ac_0242ac1c0002row3_col7\" class=\"data row3 col7\" >0</td>\n",
              "                        <td id=\"T_f2e99916_e352_11eb_b9ac_0242ac1c0002row3_col8\" class=\"data row3 col8\" >0</td>\n",
              "                        <td id=\"T_f2e99916_e352_11eb_b9ac_0242ac1c0002row3_col9\" class=\"data row3 col9\" >0</td>\n",
              "                        <td id=\"T_f2e99916_e352_11eb_b9ac_0242ac1c0002row3_col10\" class=\"data row3 col10\" >0</td>\n",
              "                        <td id=\"T_f2e99916_e352_11eb_b9ac_0242ac1c0002row3_col11\" class=\"data row3 col11\" >0</td>\n",
              "                        <td id=\"T_f2e99916_e352_11eb_b9ac_0242ac1c0002row3_col12\" class=\"data row3 col12\" >0</td>\n",
              "                        <td id=\"T_f2e99916_e352_11eb_b9ac_0242ac1c0002row3_col13\" class=\"data row3 col13\" >0</td>\n",
              "                        <td id=\"T_f2e99916_e352_11eb_b9ac_0242ac1c0002row3_col14\" class=\"data row3 col14\" >0</td>\n",
              "                        <td id=\"T_f2e99916_e352_11eb_b9ac_0242ac1c0002row3_col15\" class=\"data row3 col15\" >0</td>\n",
              "                        <td id=\"T_f2e99916_e352_11eb_b9ac_0242ac1c0002row3_col16\" class=\"data row3 col16\" >0</td>\n",
              "                        <td id=\"T_f2e99916_e352_11eb_b9ac_0242ac1c0002row3_col17\" class=\"data row3 col17\" >0</td>\n",
              "                        <td id=\"T_f2e99916_e352_11eb_b9ac_0242ac1c0002row3_col18\" class=\"data row3 col18\" >0</td>\n",
              "                        <td id=\"T_f2e99916_e352_11eb_b9ac_0242ac1c0002row3_col19\" class=\"data row3 col19\" >0</td>\n",
              "                        <td id=\"T_f2e99916_e352_11eb_b9ac_0242ac1c0002row3_col20\" class=\"data row3 col20\" >0</td>\n",
              "                        <td id=\"T_f2e99916_e352_11eb_b9ac_0242ac1c0002row3_col21\" class=\"data row3 col21\" >0</td>\n",
              "                        <td id=\"T_f2e99916_e352_11eb_b9ac_0242ac1c0002row3_col22\" class=\"data row3 col22\" >0</td>\n",
              "                        <td id=\"T_f2e99916_e352_11eb_b9ac_0242ac1c0002row3_col23\" class=\"data row3 col23\" >0</td>\n",
              "                        <td id=\"T_f2e99916_e352_11eb_b9ac_0242ac1c0002row3_col24\" class=\"data row3 col24\" >0</td>\n",
              "                        <td id=\"T_f2e99916_e352_11eb_b9ac_0242ac1c0002row3_col25\" class=\"data row3 col25\" >0</td>\n",
              "                        <td id=\"T_f2e99916_e352_11eb_b9ac_0242ac1c0002row3_col26\" class=\"data row3 col26\" >0</td>\n",
              "                        <td id=\"T_f2e99916_e352_11eb_b9ac_0242ac1c0002row3_col27\" class=\"data row3 col27\" >0</td>\n",
              "            </tr>\n",
              "            <tr>\n",
              "                        <th id=\"T_f2e99916_e352_11eb_b9ac_0242ac1c0002level0_row4\" class=\"row_heading level0 row4\" >4</th>\n",
              "                        <td id=\"T_f2e99916_e352_11eb_b9ac_0242ac1c0002row4_col0\" class=\"data row4 col0\" >0</td>\n",
              "                        <td id=\"T_f2e99916_e352_11eb_b9ac_0242ac1c0002row4_col1\" class=\"data row4 col1\" >0</td>\n",
              "                        <td id=\"T_f2e99916_e352_11eb_b9ac_0242ac1c0002row4_col2\" class=\"data row4 col2\" >0</td>\n",
              "                        <td id=\"T_f2e99916_e352_11eb_b9ac_0242ac1c0002row4_col3\" class=\"data row4 col3\" >0</td>\n",
              "                        <td id=\"T_f2e99916_e352_11eb_b9ac_0242ac1c0002row4_col4\" class=\"data row4 col4\" >0</td>\n",
              "                        <td id=\"T_f2e99916_e352_11eb_b9ac_0242ac1c0002row4_col5\" class=\"data row4 col5\" >0</td>\n",
              "                        <td id=\"T_f2e99916_e352_11eb_b9ac_0242ac1c0002row4_col6\" class=\"data row4 col6\" >0</td>\n",
              "                        <td id=\"T_f2e99916_e352_11eb_b9ac_0242ac1c0002row4_col7\" class=\"data row4 col7\" >0</td>\n",
              "                        <td id=\"T_f2e99916_e352_11eb_b9ac_0242ac1c0002row4_col8\" class=\"data row4 col8\" >0</td>\n",
              "                        <td id=\"T_f2e99916_e352_11eb_b9ac_0242ac1c0002row4_col9\" class=\"data row4 col9\" >0</td>\n",
              "                        <td id=\"T_f2e99916_e352_11eb_b9ac_0242ac1c0002row4_col10\" class=\"data row4 col10\" >0</td>\n",
              "                        <td id=\"T_f2e99916_e352_11eb_b9ac_0242ac1c0002row4_col11\" class=\"data row4 col11\" >0</td>\n",
              "                        <td id=\"T_f2e99916_e352_11eb_b9ac_0242ac1c0002row4_col12\" class=\"data row4 col12\" >0</td>\n",
              "                        <td id=\"T_f2e99916_e352_11eb_b9ac_0242ac1c0002row4_col13\" class=\"data row4 col13\" >0</td>\n",
              "                        <td id=\"T_f2e99916_e352_11eb_b9ac_0242ac1c0002row4_col14\" class=\"data row4 col14\" >0</td>\n",
              "                        <td id=\"T_f2e99916_e352_11eb_b9ac_0242ac1c0002row4_col15\" class=\"data row4 col15\" >51</td>\n",
              "                        <td id=\"T_f2e99916_e352_11eb_b9ac_0242ac1c0002row4_col16\" class=\"data row4 col16\" >159</td>\n",
              "                        <td id=\"T_f2e99916_e352_11eb_b9ac_0242ac1c0002row4_col17\" class=\"data row4 col17\" >253</td>\n",
              "                        <td id=\"T_f2e99916_e352_11eb_b9ac_0242ac1c0002row4_col18\" class=\"data row4 col18\" >159</td>\n",
              "                        <td id=\"T_f2e99916_e352_11eb_b9ac_0242ac1c0002row4_col19\" class=\"data row4 col19\" >50</td>\n",
              "                        <td id=\"T_f2e99916_e352_11eb_b9ac_0242ac1c0002row4_col20\" class=\"data row4 col20\" >0</td>\n",
              "                        <td id=\"T_f2e99916_e352_11eb_b9ac_0242ac1c0002row4_col21\" class=\"data row4 col21\" >0</td>\n",
              "                        <td id=\"T_f2e99916_e352_11eb_b9ac_0242ac1c0002row4_col22\" class=\"data row4 col22\" >0</td>\n",
              "                        <td id=\"T_f2e99916_e352_11eb_b9ac_0242ac1c0002row4_col23\" class=\"data row4 col23\" >0</td>\n",
              "                        <td id=\"T_f2e99916_e352_11eb_b9ac_0242ac1c0002row4_col24\" class=\"data row4 col24\" >0</td>\n",
              "                        <td id=\"T_f2e99916_e352_11eb_b9ac_0242ac1c0002row4_col25\" class=\"data row4 col25\" >0</td>\n",
              "                        <td id=\"T_f2e99916_e352_11eb_b9ac_0242ac1c0002row4_col26\" class=\"data row4 col26\" >0</td>\n",
              "                        <td id=\"T_f2e99916_e352_11eb_b9ac_0242ac1c0002row4_col27\" class=\"data row4 col27\" >0</td>\n",
              "            </tr>\n",
              "            <tr>\n",
              "                        <th id=\"T_f2e99916_e352_11eb_b9ac_0242ac1c0002level0_row5\" class=\"row_heading level0 row5\" >5</th>\n",
              "                        <td id=\"T_f2e99916_e352_11eb_b9ac_0242ac1c0002row5_col0\" class=\"data row5 col0\" >0</td>\n",
              "                        <td id=\"T_f2e99916_e352_11eb_b9ac_0242ac1c0002row5_col1\" class=\"data row5 col1\" >0</td>\n",
              "                        <td id=\"T_f2e99916_e352_11eb_b9ac_0242ac1c0002row5_col2\" class=\"data row5 col2\" >0</td>\n",
              "                        <td id=\"T_f2e99916_e352_11eb_b9ac_0242ac1c0002row5_col3\" class=\"data row5 col3\" >0</td>\n",
              "                        <td id=\"T_f2e99916_e352_11eb_b9ac_0242ac1c0002row5_col4\" class=\"data row5 col4\" >0</td>\n",
              "                        <td id=\"T_f2e99916_e352_11eb_b9ac_0242ac1c0002row5_col5\" class=\"data row5 col5\" >0</td>\n",
              "                        <td id=\"T_f2e99916_e352_11eb_b9ac_0242ac1c0002row5_col6\" class=\"data row5 col6\" >0</td>\n",
              "                        <td id=\"T_f2e99916_e352_11eb_b9ac_0242ac1c0002row5_col7\" class=\"data row5 col7\" >0</td>\n",
              "                        <td id=\"T_f2e99916_e352_11eb_b9ac_0242ac1c0002row5_col8\" class=\"data row5 col8\" >0</td>\n",
              "                        <td id=\"T_f2e99916_e352_11eb_b9ac_0242ac1c0002row5_col9\" class=\"data row5 col9\" >0</td>\n",
              "                        <td id=\"T_f2e99916_e352_11eb_b9ac_0242ac1c0002row5_col10\" class=\"data row5 col10\" >0</td>\n",
              "                        <td id=\"T_f2e99916_e352_11eb_b9ac_0242ac1c0002row5_col11\" class=\"data row5 col11\" >0</td>\n",
              "                        <td id=\"T_f2e99916_e352_11eb_b9ac_0242ac1c0002row5_col12\" class=\"data row5 col12\" >0</td>\n",
              "                        <td id=\"T_f2e99916_e352_11eb_b9ac_0242ac1c0002row5_col13\" class=\"data row5 col13\" >0</td>\n",
              "                        <td id=\"T_f2e99916_e352_11eb_b9ac_0242ac1c0002row5_col14\" class=\"data row5 col14\" >48</td>\n",
              "                        <td id=\"T_f2e99916_e352_11eb_b9ac_0242ac1c0002row5_col15\" class=\"data row5 col15\" >238</td>\n",
              "                        <td id=\"T_f2e99916_e352_11eb_b9ac_0242ac1c0002row5_col16\" class=\"data row5 col16\" >252</td>\n",
              "                        <td id=\"T_f2e99916_e352_11eb_b9ac_0242ac1c0002row5_col17\" class=\"data row5 col17\" >252</td>\n",
              "                        <td id=\"T_f2e99916_e352_11eb_b9ac_0242ac1c0002row5_col18\" class=\"data row5 col18\" >252</td>\n",
              "                        <td id=\"T_f2e99916_e352_11eb_b9ac_0242ac1c0002row5_col19\" class=\"data row5 col19\" >237</td>\n",
              "                        <td id=\"T_f2e99916_e352_11eb_b9ac_0242ac1c0002row5_col20\" class=\"data row5 col20\" >0</td>\n",
              "                        <td id=\"T_f2e99916_e352_11eb_b9ac_0242ac1c0002row5_col21\" class=\"data row5 col21\" >0</td>\n",
              "                        <td id=\"T_f2e99916_e352_11eb_b9ac_0242ac1c0002row5_col22\" class=\"data row5 col22\" >0</td>\n",
              "                        <td id=\"T_f2e99916_e352_11eb_b9ac_0242ac1c0002row5_col23\" class=\"data row5 col23\" >0</td>\n",
              "                        <td id=\"T_f2e99916_e352_11eb_b9ac_0242ac1c0002row5_col24\" class=\"data row5 col24\" >0</td>\n",
              "                        <td id=\"T_f2e99916_e352_11eb_b9ac_0242ac1c0002row5_col25\" class=\"data row5 col25\" >0</td>\n",
              "                        <td id=\"T_f2e99916_e352_11eb_b9ac_0242ac1c0002row5_col26\" class=\"data row5 col26\" >0</td>\n",
              "                        <td id=\"T_f2e99916_e352_11eb_b9ac_0242ac1c0002row5_col27\" class=\"data row5 col27\" >0</td>\n",
              "            </tr>\n",
              "            <tr>\n",
              "                        <th id=\"T_f2e99916_e352_11eb_b9ac_0242ac1c0002level0_row6\" class=\"row_heading level0 row6\" >6</th>\n",
              "                        <td id=\"T_f2e99916_e352_11eb_b9ac_0242ac1c0002row6_col0\" class=\"data row6 col0\" >0</td>\n",
              "                        <td id=\"T_f2e99916_e352_11eb_b9ac_0242ac1c0002row6_col1\" class=\"data row6 col1\" >0</td>\n",
              "                        <td id=\"T_f2e99916_e352_11eb_b9ac_0242ac1c0002row6_col2\" class=\"data row6 col2\" >0</td>\n",
              "                        <td id=\"T_f2e99916_e352_11eb_b9ac_0242ac1c0002row6_col3\" class=\"data row6 col3\" >0</td>\n",
              "                        <td id=\"T_f2e99916_e352_11eb_b9ac_0242ac1c0002row6_col4\" class=\"data row6 col4\" >0</td>\n",
              "                        <td id=\"T_f2e99916_e352_11eb_b9ac_0242ac1c0002row6_col5\" class=\"data row6 col5\" >0</td>\n",
              "                        <td id=\"T_f2e99916_e352_11eb_b9ac_0242ac1c0002row6_col6\" class=\"data row6 col6\" >0</td>\n",
              "                        <td id=\"T_f2e99916_e352_11eb_b9ac_0242ac1c0002row6_col7\" class=\"data row6 col7\" >0</td>\n",
              "                        <td id=\"T_f2e99916_e352_11eb_b9ac_0242ac1c0002row6_col8\" class=\"data row6 col8\" >0</td>\n",
              "                        <td id=\"T_f2e99916_e352_11eb_b9ac_0242ac1c0002row6_col9\" class=\"data row6 col9\" >0</td>\n",
              "                        <td id=\"T_f2e99916_e352_11eb_b9ac_0242ac1c0002row6_col10\" class=\"data row6 col10\" >0</td>\n",
              "                        <td id=\"T_f2e99916_e352_11eb_b9ac_0242ac1c0002row6_col11\" class=\"data row6 col11\" >0</td>\n",
              "                        <td id=\"T_f2e99916_e352_11eb_b9ac_0242ac1c0002row6_col12\" class=\"data row6 col12\" >0</td>\n",
              "                        <td id=\"T_f2e99916_e352_11eb_b9ac_0242ac1c0002row6_col13\" class=\"data row6 col13\" >54</td>\n",
              "                        <td id=\"T_f2e99916_e352_11eb_b9ac_0242ac1c0002row6_col14\" class=\"data row6 col14\" >227</td>\n",
              "                        <td id=\"T_f2e99916_e352_11eb_b9ac_0242ac1c0002row6_col15\" class=\"data row6 col15\" >253</td>\n",
              "                        <td id=\"T_f2e99916_e352_11eb_b9ac_0242ac1c0002row6_col16\" class=\"data row6 col16\" >252</td>\n",
              "                        <td id=\"T_f2e99916_e352_11eb_b9ac_0242ac1c0002row6_col17\" class=\"data row6 col17\" >239</td>\n",
              "                        <td id=\"T_f2e99916_e352_11eb_b9ac_0242ac1c0002row6_col18\" class=\"data row6 col18\" >233</td>\n",
              "                        <td id=\"T_f2e99916_e352_11eb_b9ac_0242ac1c0002row6_col19\" class=\"data row6 col19\" >252</td>\n",
              "                        <td id=\"T_f2e99916_e352_11eb_b9ac_0242ac1c0002row6_col20\" class=\"data row6 col20\" >57</td>\n",
              "                        <td id=\"T_f2e99916_e352_11eb_b9ac_0242ac1c0002row6_col21\" class=\"data row6 col21\" >6</td>\n",
              "                        <td id=\"T_f2e99916_e352_11eb_b9ac_0242ac1c0002row6_col22\" class=\"data row6 col22\" >0</td>\n",
              "                        <td id=\"T_f2e99916_e352_11eb_b9ac_0242ac1c0002row6_col23\" class=\"data row6 col23\" >0</td>\n",
              "                        <td id=\"T_f2e99916_e352_11eb_b9ac_0242ac1c0002row6_col24\" class=\"data row6 col24\" >0</td>\n",
              "                        <td id=\"T_f2e99916_e352_11eb_b9ac_0242ac1c0002row6_col25\" class=\"data row6 col25\" >0</td>\n",
              "                        <td id=\"T_f2e99916_e352_11eb_b9ac_0242ac1c0002row6_col26\" class=\"data row6 col26\" >0</td>\n",
              "                        <td id=\"T_f2e99916_e352_11eb_b9ac_0242ac1c0002row6_col27\" class=\"data row6 col27\" >0</td>\n",
              "            </tr>\n",
              "            <tr>\n",
              "                        <th id=\"T_f2e99916_e352_11eb_b9ac_0242ac1c0002level0_row7\" class=\"row_heading level0 row7\" >7</th>\n",
              "                        <td id=\"T_f2e99916_e352_11eb_b9ac_0242ac1c0002row7_col0\" class=\"data row7 col0\" >0</td>\n",
              "                        <td id=\"T_f2e99916_e352_11eb_b9ac_0242ac1c0002row7_col1\" class=\"data row7 col1\" >0</td>\n",
              "                        <td id=\"T_f2e99916_e352_11eb_b9ac_0242ac1c0002row7_col2\" class=\"data row7 col2\" >0</td>\n",
              "                        <td id=\"T_f2e99916_e352_11eb_b9ac_0242ac1c0002row7_col3\" class=\"data row7 col3\" >0</td>\n",
              "                        <td id=\"T_f2e99916_e352_11eb_b9ac_0242ac1c0002row7_col4\" class=\"data row7 col4\" >0</td>\n",
              "                        <td id=\"T_f2e99916_e352_11eb_b9ac_0242ac1c0002row7_col5\" class=\"data row7 col5\" >0</td>\n",
              "                        <td id=\"T_f2e99916_e352_11eb_b9ac_0242ac1c0002row7_col6\" class=\"data row7 col6\" >0</td>\n",
              "                        <td id=\"T_f2e99916_e352_11eb_b9ac_0242ac1c0002row7_col7\" class=\"data row7 col7\" >0</td>\n",
              "                        <td id=\"T_f2e99916_e352_11eb_b9ac_0242ac1c0002row7_col8\" class=\"data row7 col8\" >0</td>\n",
              "                        <td id=\"T_f2e99916_e352_11eb_b9ac_0242ac1c0002row7_col9\" class=\"data row7 col9\" >0</td>\n",
              "                        <td id=\"T_f2e99916_e352_11eb_b9ac_0242ac1c0002row7_col10\" class=\"data row7 col10\" >0</td>\n",
              "                        <td id=\"T_f2e99916_e352_11eb_b9ac_0242ac1c0002row7_col11\" class=\"data row7 col11\" >10</td>\n",
              "                        <td id=\"T_f2e99916_e352_11eb_b9ac_0242ac1c0002row7_col12\" class=\"data row7 col12\" >60</td>\n",
              "                        <td id=\"T_f2e99916_e352_11eb_b9ac_0242ac1c0002row7_col13\" class=\"data row7 col13\" >224</td>\n",
              "                        <td id=\"T_f2e99916_e352_11eb_b9ac_0242ac1c0002row7_col14\" class=\"data row7 col14\" >252</td>\n",
              "                        <td id=\"T_f2e99916_e352_11eb_b9ac_0242ac1c0002row7_col15\" class=\"data row7 col15\" >253</td>\n",
              "                        <td id=\"T_f2e99916_e352_11eb_b9ac_0242ac1c0002row7_col16\" class=\"data row7 col16\" >252</td>\n",
              "                        <td id=\"T_f2e99916_e352_11eb_b9ac_0242ac1c0002row7_col17\" class=\"data row7 col17\" >202</td>\n",
              "                        <td id=\"T_f2e99916_e352_11eb_b9ac_0242ac1c0002row7_col18\" class=\"data row7 col18\" >84</td>\n",
              "                        <td id=\"T_f2e99916_e352_11eb_b9ac_0242ac1c0002row7_col19\" class=\"data row7 col19\" >252</td>\n",
              "                        <td id=\"T_f2e99916_e352_11eb_b9ac_0242ac1c0002row7_col20\" class=\"data row7 col20\" >253</td>\n",
              "                        <td id=\"T_f2e99916_e352_11eb_b9ac_0242ac1c0002row7_col21\" class=\"data row7 col21\" >122</td>\n",
              "                        <td id=\"T_f2e99916_e352_11eb_b9ac_0242ac1c0002row7_col22\" class=\"data row7 col22\" >0</td>\n",
              "                        <td id=\"T_f2e99916_e352_11eb_b9ac_0242ac1c0002row7_col23\" class=\"data row7 col23\" >0</td>\n",
              "                        <td id=\"T_f2e99916_e352_11eb_b9ac_0242ac1c0002row7_col24\" class=\"data row7 col24\" >0</td>\n",
              "                        <td id=\"T_f2e99916_e352_11eb_b9ac_0242ac1c0002row7_col25\" class=\"data row7 col25\" >0</td>\n",
              "                        <td id=\"T_f2e99916_e352_11eb_b9ac_0242ac1c0002row7_col26\" class=\"data row7 col26\" >0</td>\n",
              "                        <td id=\"T_f2e99916_e352_11eb_b9ac_0242ac1c0002row7_col27\" class=\"data row7 col27\" >0</td>\n",
              "            </tr>\n",
              "            <tr>\n",
              "                        <th id=\"T_f2e99916_e352_11eb_b9ac_0242ac1c0002level0_row8\" class=\"row_heading level0 row8\" >8</th>\n",
              "                        <td id=\"T_f2e99916_e352_11eb_b9ac_0242ac1c0002row8_col0\" class=\"data row8 col0\" >0</td>\n",
              "                        <td id=\"T_f2e99916_e352_11eb_b9ac_0242ac1c0002row8_col1\" class=\"data row8 col1\" >0</td>\n",
              "                        <td id=\"T_f2e99916_e352_11eb_b9ac_0242ac1c0002row8_col2\" class=\"data row8 col2\" >0</td>\n",
              "                        <td id=\"T_f2e99916_e352_11eb_b9ac_0242ac1c0002row8_col3\" class=\"data row8 col3\" >0</td>\n",
              "                        <td id=\"T_f2e99916_e352_11eb_b9ac_0242ac1c0002row8_col4\" class=\"data row8 col4\" >0</td>\n",
              "                        <td id=\"T_f2e99916_e352_11eb_b9ac_0242ac1c0002row8_col5\" class=\"data row8 col5\" >0</td>\n",
              "                        <td id=\"T_f2e99916_e352_11eb_b9ac_0242ac1c0002row8_col6\" class=\"data row8 col6\" >0</td>\n",
              "                        <td id=\"T_f2e99916_e352_11eb_b9ac_0242ac1c0002row8_col7\" class=\"data row8 col7\" >0</td>\n",
              "                        <td id=\"T_f2e99916_e352_11eb_b9ac_0242ac1c0002row8_col8\" class=\"data row8 col8\" >0</td>\n",
              "                        <td id=\"T_f2e99916_e352_11eb_b9ac_0242ac1c0002row8_col9\" class=\"data row8 col9\" >0</td>\n",
              "                        <td id=\"T_f2e99916_e352_11eb_b9ac_0242ac1c0002row8_col10\" class=\"data row8 col10\" >0</td>\n",
              "                        <td id=\"T_f2e99916_e352_11eb_b9ac_0242ac1c0002row8_col11\" class=\"data row8 col11\" >163</td>\n",
              "                        <td id=\"T_f2e99916_e352_11eb_b9ac_0242ac1c0002row8_col12\" class=\"data row8 col12\" >252</td>\n",
              "                        <td id=\"T_f2e99916_e352_11eb_b9ac_0242ac1c0002row8_col13\" class=\"data row8 col13\" >252</td>\n",
              "                        <td id=\"T_f2e99916_e352_11eb_b9ac_0242ac1c0002row8_col14\" class=\"data row8 col14\" >252</td>\n",
              "                        <td id=\"T_f2e99916_e352_11eb_b9ac_0242ac1c0002row8_col15\" class=\"data row8 col15\" >253</td>\n",
              "                        <td id=\"T_f2e99916_e352_11eb_b9ac_0242ac1c0002row8_col16\" class=\"data row8 col16\" >252</td>\n",
              "                        <td id=\"T_f2e99916_e352_11eb_b9ac_0242ac1c0002row8_col17\" class=\"data row8 col17\" >252</td>\n",
              "                        <td id=\"T_f2e99916_e352_11eb_b9ac_0242ac1c0002row8_col18\" class=\"data row8 col18\" >96</td>\n",
              "                        <td id=\"T_f2e99916_e352_11eb_b9ac_0242ac1c0002row8_col19\" class=\"data row8 col19\" >189</td>\n",
              "                        <td id=\"T_f2e99916_e352_11eb_b9ac_0242ac1c0002row8_col20\" class=\"data row8 col20\" >253</td>\n",
              "                        <td id=\"T_f2e99916_e352_11eb_b9ac_0242ac1c0002row8_col21\" class=\"data row8 col21\" >167</td>\n",
              "                        <td id=\"T_f2e99916_e352_11eb_b9ac_0242ac1c0002row8_col22\" class=\"data row8 col22\" >0</td>\n",
              "                        <td id=\"T_f2e99916_e352_11eb_b9ac_0242ac1c0002row8_col23\" class=\"data row8 col23\" >0</td>\n",
              "                        <td id=\"T_f2e99916_e352_11eb_b9ac_0242ac1c0002row8_col24\" class=\"data row8 col24\" >0</td>\n",
              "                        <td id=\"T_f2e99916_e352_11eb_b9ac_0242ac1c0002row8_col25\" class=\"data row8 col25\" >0</td>\n",
              "                        <td id=\"T_f2e99916_e352_11eb_b9ac_0242ac1c0002row8_col26\" class=\"data row8 col26\" >0</td>\n",
              "                        <td id=\"T_f2e99916_e352_11eb_b9ac_0242ac1c0002row8_col27\" class=\"data row8 col27\" >0</td>\n",
              "            </tr>\n",
              "            <tr>\n",
              "                        <th id=\"T_f2e99916_e352_11eb_b9ac_0242ac1c0002level0_row9\" class=\"row_heading level0 row9\" >9</th>\n",
              "                        <td id=\"T_f2e99916_e352_11eb_b9ac_0242ac1c0002row9_col0\" class=\"data row9 col0\" >0</td>\n",
              "                        <td id=\"T_f2e99916_e352_11eb_b9ac_0242ac1c0002row9_col1\" class=\"data row9 col1\" >0</td>\n",
              "                        <td id=\"T_f2e99916_e352_11eb_b9ac_0242ac1c0002row9_col2\" class=\"data row9 col2\" >0</td>\n",
              "                        <td id=\"T_f2e99916_e352_11eb_b9ac_0242ac1c0002row9_col3\" class=\"data row9 col3\" >0</td>\n",
              "                        <td id=\"T_f2e99916_e352_11eb_b9ac_0242ac1c0002row9_col4\" class=\"data row9 col4\" >0</td>\n",
              "                        <td id=\"T_f2e99916_e352_11eb_b9ac_0242ac1c0002row9_col5\" class=\"data row9 col5\" >0</td>\n",
              "                        <td id=\"T_f2e99916_e352_11eb_b9ac_0242ac1c0002row9_col6\" class=\"data row9 col6\" >0</td>\n",
              "                        <td id=\"T_f2e99916_e352_11eb_b9ac_0242ac1c0002row9_col7\" class=\"data row9 col7\" >0</td>\n",
              "                        <td id=\"T_f2e99916_e352_11eb_b9ac_0242ac1c0002row9_col8\" class=\"data row9 col8\" >0</td>\n",
              "                        <td id=\"T_f2e99916_e352_11eb_b9ac_0242ac1c0002row9_col9\" class=\"data row9 col9\" >0</td>\n",
              "                        <td id=\"T_f2e99916_e352_11eb_b9ac_0242ac1c0002row9_col10\" class=\"data row9 col10\" >51</td>\n",
              "                        <td id=\"T_f2e99916_e352_11eb_b9ac_0242ac1c0002row9_col11\" class=\"data row9 col11\" >238</td>\n",
              "                        <td id=\"T_f2e99916_e352_11eb_b9ac_0242ac1c0002row9_col12\" class=\"data row9 col12\" >253</td>\n",
              "                        <td id=\"T_f2e99916_e352_11eb_b9ac_0242ac1c0002row9_col13\" class=\"data row9 col13\" >253</td>\n",
              "                        <td id=\"T_f2e99916_e352_11eb_b9ac_0242ac1c0002row9_col14\" class=\"data row9 col14\" >190</td>\n",
              "                        <td id=\"T_f2e99916_e352_11eb_b9ac_0242ac1c0002row9_col15\" class=\"data row9 col15\" >114</td>\n",
              "                        <td id=\"T_f2e99916_e352_11eb_b9ac_0242ac1c0002row9_col16\" class=\"data row9 col16\" >253</td>\n",
              "                        <td id=\"T_f2e99916_e352_11eb_b9ac_0242ac1c0002row9_col17\" class=\"data row9 col17\" >228</td>\n",
              "                        <td id=\"T_f2e99916_e352_11eb_b9ac_0242ac1c0002row9_col18\" class=\"data row9 col18\" >47</td>\n",
              "                        <td id=\"T_f2e99916_e352_11eb_b9ac_0242ac1c0002row9_col19\" class=\"data row9 col19\" >79</td>\n",
              "                        <td id=\"T_f2e99916_e352_11eb_b9ac_0242ac1c0002row9_col20\" class=\"data row9 col20\" >255</td>\n",
              "                        <td id=\"T_f2e99916_e352_11eb_b9ac_0242ac1c0002row9_col21\" class=\"data row9 col21\" >168</td>\n",
              "                        <td id=\"T_f2e99916_e352_11eb_b9ac_0242ac1c0002row9_col22\" class=\"data row9 col22\" >0</td>\n",
              "                        <td id=\"T_f2e99916_e352_11eb_b9ac_0242ac1c0002row9_col23\" class=\"data row9 col23\" >0</td>\n",
              "                        <td id=\"T_f2e99916_e352_11eb_b9ac_0242ac1c0002row9_col24\" class=\"data row9 col24\" >0</td>\n",
              "                        <td id=\"T_f2e99916_e352_11eb_b9ac_0242ac1c0002row9_col25\" class=\"data row9 col25\" >0</td>\n",
              "                        <td id=\"T_f2e99916_e352_11eb_b9ac_0242ac1c0002row9_col26\" class=\"data row9 col26\" >0</td>\n",
              "                        <td id=\"T_f2e99916_e352_11eb_b9ac_0242ac1c0002row9_col27\" class=\"data row9 col27\" >0</td>\n",
              "            </tr>\n",
              "            <tr>\n",
              "                        <th id=\"T_f2e99916_e352_11eb_b9ac_0242ac1c0002level0_row10\" class=\"row_heading level0 row10\" >10</th>\n",
              "                        <td id=\"T_f2e99916_e352_11eb_b9ac_0242ac1c0002row10_col0\" class=\"data row10 col0\" >0</td>\n",
              "                        <td id=\"T_f2e99916_e352_11eb_b9ac_0242ac1c0002row10_col1\" class=\"data row10 col1\" >0</td>\n",
              "                        <td id=\"T_f2e99916_e352_11eb_b9ac_0242ac1c0002row10_col2\" class=\"data row10 col2\" >0</td>\n",
              "                        <td id=\"T_f2e99916_e352_11eb_b9ac_0242ac1c0002row10_col3\" class=\"data row10 col3\" >0</td>\n",
              "                        <td id=\"T_f2e99916_e352_11eb_b9ac_0242ac1c0002row10_col4\" class=\"data row10 col4\" >0</td>\n",
              "                        <td id=\"T_f2e99916_e352_11eb_b9ac_0242ac1c0002row10_col5\" class=\"data row10 col5\" >0</td>\n",
              "                        <td id=\"T_f2e99916_e352_11eb_b9ac_0242ac1c0002row10_col6\" class=\"data row10 col6\" >0</td>\n",
              "                        <td id=\"T_f2e99916_e352_11eb_b9ac_0242ac1c0002row10_col7\" class=\"data row10 col7\" >0</td>\n",
              "                        <td id=\"T_f2e99916_e352_11eb_b9ac_0242ac1c0002row10_col8\" class=\"data row10 col8\" >0</td>\n",
              "                        <td id=\"T_f2e99916_e352_11eb_b9ac_0242ac1c0002row10_col9\" class=\"data row10 col9\" >48</td>\n",
              "                        <td id=\"T_f2e99916_e352_11eb_b9ac_0242ac1c0002row10_col10\" class=\"data row10 col10\" >238</td>\n",
              "                        <td id=\"T_f2e99916_e352_11eb_b9ac_0242ac1c0002row10_col11\" class=\"data row10 col11\" >252</td>\n",
              "                        <td id=\"T_f2e99916_e352_11eb_b9ac_0242ac1c0002row10_col12\" class=\"data row10 col12\" >252</td>\n",
              "                        <td id=\"T_f2e99916_e352_11eb_b9ac_0242ac1c0002row10_col13\" class=\"data row10 col13\" >179</td>\n",
              "                        <td id=\"T_f2e99916_e352_11eb_b9ac_0242ac1c0002row10_col14\" class=\"data row10 col14\" >12</td>\n",
              "                        <td id=\"T_f2e99916_e352_11eb_b9ac_0242ac1c0002row10_col15\" class=\"data row10 col15\" >75</td>\n",
              "                        <td id=\"T_f2e99916_e352_11eb_b9ac_0242ac1c0002row10_col16\" class=\"data row10 col16\" >121</td>\n",
              "                        <td id=\"T_f2e99916_e352_11eb_b9ac_0242ac1c0002row10_col17\" class=\"data row10 col17\" >21</td>\n",
              "                        <td id=\"T_f2e99916_e352_11eb_b9ac_0242ac1c0002row10_col18\" class=\"data row10 col18\" >0</td>\n",
              "                        <td id=\"T_f2e99916_e352_11eb_b9ac_0242ac1c0002row10_col19\" class=\"data row10 col19\" >0</td>\n",
              "                        <td id=\"T_f2e99916_e352_11eb_b9ac_0242ac1c0002row10_col20\" class=\"data row10 col20\" >253</td>\n",
              "                        <td id=\"T_f2e99916_e352_11eb_b9ac_0242ac1c0002row10_col21\" class=\"data row10 col21\" >243</td>\n",
              "                        <td id=\"T_f2e99916_e352_11eb_b9ac_0242ac1c0002row10_col22\" class=\"data row10 col22\" >50</td>\n",
              "                        <td id=\"T_f2e99916_e352_11eb_b9ac_0242ac1c0002row10_col23\" class=\"data row10 col23\" >0</td>\n",
              "                        <td id=\"T_f2e99916_e352_11eb_b9ac_0242ac1c0002row10_col24\" class=\"data row10 col24\" >0</td>\n",
              "                        <td id=\"T_f2e99916_e352_11eb_b9ac_0242ac1c0002row10_col25\" class=\"data row10 col25\" >0</td>\n",
              "                        <td id=\"T_f2e99916_e352_11eb_b9ac_0242ac1c0002row10_col26\" class=\"data row10 col26\" >0</td>\n",
              "                        <td id=\"T_f2e99916_e352_11eb_b9ac_0242ac1c0002row10_col27\" class=\"data row10 col27\" >0</td>\n",
              "            </tr>\n",
              "            <tr>\n",
              "                        <th id=\"T_f2e99916_e352_11eb_b9ac_0242ac1c0002level0_row11\" class=\"row_heading level0 row11\" >11</th>\n",
              "                        <td id=\"T_f2e99916_e352_11eb_b9ac_0242ac1c0002row11_col0\" class=\"data row11 col0\" >0</td>\n",
              "                        <td id=\"T_f2e99916_e352_11eb_b9ac_0242ac1c0002row11_col1\" class=\"data row11 col1\" >0</td>\n",
              "                        <td id=\"T_f2e99916_e352_11eb_b9ac_0242ac1c0002row11_col2\" class=\"data row11 col2\" >0</td>\n",
              "                        <td id=\"T_f2e99916_e352_11eb_b9ac_0242ac1c0002row11_col3\" class=\"data row11 col3\" >0</td>\n",
              "                        <td id=\"T_f2e99916_e352_11eb_b9ac_0242ac1c0002row11_col4\" class=\"data row11 col4\" >0</td>\n",
              "                        <td id=\"T_f2e99916_e352_11eb_b9ac_0242ac1c0002row11_col5\" class=\"data row11 col5\" >0</td>\n",
              "                        <td id=\"T_f2e99916_e352_11eb_b9ac_0242ac1c0002row11_col6\" class=\"data row11 col6\" >0</td>\n",
              "                        <td id=\"T_f2e99916_e352_11eb_b9ac_0242ac1c0002row11_col7\" class=\"data row11 col7\" >0</td>\n",
              "                        <td id=\"T_f2e99916_e352_11eb_b9ac_0242ac1c0002row11_col8\" class=\"data row11 col8\" >38</td>\n",
              "                        <td id=\"T_f2e99916_e352_11eb_b9ac_0242ac1c0002row11_col9\" class=\"data row11 col9\" >165</td>\n",
              "                        <td id=\"T_f2e99916_e352_11eb_b9ac_0242ac1c0002row11_col10\" class=\"data row11 col10\" >253</td>\n",
              "                        <td id=\"T_f2e99916_e352_11eb_b9ac_0242ac1c0002row11_col11\" class=\"data row11 col11\" >233</td>\n",
              "                        <td id=\"T_f2e99916_e352_11eb_b9ac_0242ac1c0002row11_col12\" class=\"data row11 col12\" >208</td>\n",
              "                        <td id=\"T_f2e99916_e352_11eb_b9ac_0242ac1c0002row11_col13\" class=\"data row11 col13\" >84</td>\n",
              "                        <td id=\"T_f2e99916_e352_11eb_b9ac_0242ac1c0002row11_col14\" class=\"data row11 col14\" >0</td>\n",
              "                        <td id=\"T_f2e99916_e352_11eb_b9ac_0242ac1c0002row11_col15\" class=\"data row11 col15\" >0</td>\n",
              "                        <td id=\"T_f2e99916_e352_11eb_b9ac_0242ac1c0002row11_col16\" class=\"data row11 col16\" >0</td>\n",
              "                        <td id=\"T_f2e99916_e352_11eb_b9ac_0242ac1c0002row11_col17\" class=\"data row11 col17\" >0</td>\n",
              "                        <td id=\"T_f2e99916_e352_11eb_b9ac_0242ac1c0002row11_col18\" class=\"data row11 col18\" >0</td>\n",
              "                        <td id=\"T_f2e99916_e352_11eb_b9ac_0242ac1c0002row11_col19\" class=\"data row11 col19\" >0</td>\n",
              "                        <td id=\"T_f2e99916_e352_11eb_b9ac_0242ac1c0002row11_col20\" class=\"data row11 col20\" >253</td>\n",
              "                        <td id=\"T_f2e99916_e352_11eb_b9ac_0242ac1c0002row11_col21\" class=\"data row11 col21\" >252</td>\n",
              "                        <td id=\"T_f2e99916_e352_11eb_b9ac_0242ac1c0002row11_col22\" class=\"data row11 col22\" >165</td>\n",
              "                        <td id=\"T_f2e99916_e352_11eb_b9ac_0242ac1c0002row11_col23\" class=\"data row11 col23\" >0</td>\n",
              "                        <td id=\"T_f2e99916_e352_11eb_b9ac_0242ac1c0002row11_col24\" class=\"data row11 col24\" >0</td>\n",
              "                        <td id=\"T_f2e99916_e352_11eb_b9ac_0242ac1c0002row11_col25\" class=\"data row11 col25\" >0</td>\n",
              "                        <td id=\"T_f2e99916_e352_11eb_b9ac_0242ac1c0002row11_col26\" class=\"data row11 col26\" >0</td>\n",
              "                        <td id=\"T_f2e99916_e352_11eb_b9ac_0242ac1c0002row11_col27\" class=\"data row11 col27\" >0</td>\n",
              "            </tr>\n",
              "            <tr>\n",
              "                        <th id=\"T_f2e99916_e352_11eb_b9ac_0242ac1c0002level0_row12\" class=\"row_heading level0 row12\" >12</th>\n",
              "                        <td id=\"T_f2e99916_e352_11eb_b9ac_0242ac1c0002row12_col0\" class=\"data row12 col0\" >0</td>\n",
              "                        <td id=\"T_f2e99916_e352_11eb_b9ac_0242ac1c0002row12_col1\" class=\"data row12 col1\" >0</td>\n",
              "                        <td id=\"T_f2e99916_e352_11eb_b9ac_0242ac1c0002row12_col2\" class=\"data row12 col2\" >0</td>\n",
              "                        <td id=\"T_f2e99916_e352_11eb_b9ac_0242ac1c0002row12_col3\" class=\"data row12 col3\" >0</td>\n",
              "                        <td id=\"T_f2e99916_e352_11eb_b9ac_0242ac1c0002row12_col4\" class=\"data row12 col4\" >0</td>\n",
              "                        <td id=\"T_f2e99916_e352_11eb_b9ac_0242ac1c0002row12_col5\" class=\"data row12 col5\" >0</td>\n",
              "                        <td id=\"T_f2e99916_e352_11eb_b9ac_0242ac1c0002row12_col6\" class=\"data row12 col6\" >0</td>\n",
              "                        <td id=\"T_f2e99916_e352_11eb_b9ac_0242ac1c0002row12_col7\" class=\"data row12 col7\" >7</td>\n",
              "                        <td id=\"T_f2e99916_e352_11eb_b9ac_0242ac1c0002row12_col8\" class=\"data row12 col8\" >178</td>\n",
              "                        <td id=\"T_f2e99916_e352_11eb_b9ac_0242ac1c0002row12_col9\" class=\"data row12 col9\" >252</td>\n",
              "                        <td id=\"T_f2e99916_e352_11eb_b9ac_0242ac1c0002row12_col10\" class=\"data row12 col10\" >240</td>\n",
              "                        <td id=\"T_f2e99916_e352_11eb_b9ac_0242ac1c0002row12_col11\" class=\"data row12 col11\" >71</td>\n",
              "                        <td id=\"T_f2e99916_e352_11eb_b9ac_0242ac1c0002row12_col12\" class=\"data row12 col12\" >19</td>\n",
              "                        <td id=\"T_f2e99916_e352_11eb_b9ac_0242ac1c0002row12_col13\" class=\"data row12 col13\" >28</td>\n",
              "                        <td id=\"T_f2e99916_e352_11eb_b9ac_0242ac1c0002row12_col14\" class=\"data row12 col14\" >0</td>\n",
              "                        <td id=\"T_f2e99916_e352_11eb_b9ac_0242ac1c0002row12_col15\" class=\"data row12 col15\" >0</td>\n",
              "                        <td id=\"T_f2e99916_e352_11eb_b9ac_0242ac1c0002row12_col16\" class=\"data row12 col16\" >0</td>\n",
              "                        <td id=\"T_f2e99916_e352_11eb_b9ac_0242ac1c0002row12_col17\" class=\"data row12 col17\" >0</td>\n",
              "                        <td id=\"T_f2e99916_e352_11eb_b9ac_0242ac1c0002row12_col18\" class=\"data row12 col18\" >0</td>\n",
              "                        <td id=\"T_f2e99916_e352_11eb_b9ac_0242ac1c0002row12_col19\" class=\"data row12 col19\" >0</td>\n",
              "                        <td id=\"T_f2e99916_e352_11eb_b9ac_0242ac1c0002row12_col20\" class=\"data row12 col20\" >253</td>\n",
              "                        <td id=\"T_f2e99916_e352_11eb_b9ac_0242ac1c0002row12_col21\" class=\"data row12 col21\" >252</td>\n",
              "                        <td id=\"T_f2e99916_e352_11eb_b9ac_0242ac1c0002row12_col22\" class=\"data row12 col22\" >195</td>\n",
              "                        <td id=\"T_f2e99916_e352_11eb_b9ac_0242ac1c0002row12_col23\" class=\"data row12 col23\" >0</td>\n",
              "                        <td id=\"T_f2e99916_e352_11eb_b9ac_0242ac1c0002row12_col24\" class=\"data row12 col24\" >0</td>\n",
              "                        <td id=\"T_f2e99916_e352_11eb_b9ac_0242ac1c0002row12_col25\" class=\"data row12 col25\" >0</td>\n",
              "                        <td id=\"T_f2e99916_e352_11eb_b9ac_0242ac1c0002row12_col26\" class=\"data row12 col26\" >0</td>\n",
              "                        <td id=\"T_f2e99916_e352_11eb_b9ac_0242ac1c0002row12_col27\" class=\"data row12 col27\" >0</td>\n",
              "            </tr>\n",
              "            <tr>\n",
              "                        <th id=\"T_f2e99916_e352_11eb_b9ac_0242ac1c0002level0_row13\" class=\"row_heading level0 row13\" >13</th>\n",
              "                        <td id=\"T_f2e99916_e352_11eb_b9ac_0242ac1c0002row13_col0\" class=\"data row13 col0\" >0</td>\n",
              "                        <td id=\"T_f2e99916_e352_11eb_b9ac_0242ac1c0002row13_col1\" class=\"data row13 col1\" >0</td>\n",
              "                        <td id=\"T_f2e99916_e352_11eb_b9ac_0242ac1c0002row13_col2\" class=\"data row13 col2\" >0</td>\n",
              "                        <td id=\"T_f2e99916_e352_11eb_b9ac_0242ac1c0002row13_col3\" class=\"data row13 col3\" >0</td>\n",
              "                        <td id=\"T_f2e99916_e352_11eb_b9ac_0242ac1c0002row13_col4\" class=\"data row13 col4\" >0</td>\n",
              "                        <td id=\"T_f2e99916_e352_11eb_b9ac_0242ac1c0002row13_col5\" class=\"data row13 col5\" >0</td>\n",
              "                        <td id=\"T_f2e99916_e352_11eb_b9ac_0242ac1c0002row13_col6\" class=\"data row13 col6\" >0</td>\n",
              "                        <td id=\"T_f2e99916_e352_11eb_b9ac_0242ac1c0002row13_col7\" class=\"data row13 col7\" >57</td>\n",
              "                        <td id=\"T_f2e99916_e352_11eb_b9ac_0242ac1c0002row13_col8\" class=\"data row13 col8\" >252</td>\n",
              "                        <td id=\"T_f2e99916_e352_11eb_b9ac_0242ac1c0002row13_col9\" class=\"data row13 col9\" >252</td>\n",
              "                        <td id=\"T_f2e99916_e352_11eb_b9ac_0242ac1c0002row13_col10\" class=\"data row13 col10\" >63</td>\n",
              "                        <td id=\"T_f2e99916_e352_11eb_b9ac_0242ac1c0002row13_col11\" class=\"data row13 col11\" >0</td>\n",
              "                        <td id=\"T_f2e99916_e352_11eb_b9ac_0242ac1c0002row13_col12\" class=\"data row13 col12\" >0</td>\n",
              "                        <td id=\"T_f2e99916_e352_11eb_b9ac_0242ac1c0002row13_col13\" class=\"data row13 col13\" >0</td>\n",
              "                        <td id=\"T_f2e99916_e352_11eb_b9ac_0242ac1c0002row13_col14\" class=\"data row13 col14\" >0</td>\n",
              "                        <td id=\"T_f2e99916_e352_11eb_b9ac_0242ac1c0002row13_col15\" class=\"data row13 col15\" >0</td>\n",
              "                        <td id=\"T_f2e99916_e352_11eb_b9ac_0242ac1c0002row13_col16\" class=\"data row13 col16\" >0</td>\n",
              "                        <td id=\"T_f2e99916_e352_11eb_b9ac_0242ac1c0002row13_col17\" class=\"data row13 col17\" >0</td>\n",
              "                        <td id=\"T_f2e99916_e352_11eb_b9ac_0242ac1c0002row13_col18\" class=\"data row13 col18\" >0</td>\n",
              "                        <td id=\"T_f2e99916_e352_11eb_b9ac_0242ac1c0002row13_col19\" class=\"data row13 col19\" >0</td>\n",
              "                        <td id=\"T_f2e99916_e352_11eb_b9ac_0242ac1c0002row13_col20\" class=\"data row13 col20\" >253</td>\n",
              "                        <td id=\"T_f2e99916_e352_11eb_b9ac_0242ac1c0002row13_col21\" class=\"data row13 col21\" >252</td>\n",
              "                        <td id=\"T_f2e99916_e352_11eb_b9ac_0242ac1c0002row13_col22\" class=\"data row13 col22\" >195</td>\n",
              "                        <td id=\"T_f2e99916_e352_11eb_b9ac_0242ac1c0002row13_col23\" class=\"data row13 col23\" >0</td>\n",
              "                        <td id=\"T_f2e99916_e352_11eb_b9ac_0242ac1c0002row13_col24\" class=\"data row13 col24\" >0</td>\n",
              "                        <td id=\"T_f2e99916_e352_11eb_b9ac_0242ac1c0002row13_col25\" class=\"data row13 col25\" >0</td>\n",
              "                        <td id=\"T_f2e99916_e352_11eb_b9ac_0242ac1c0002row13_col26\" class=\"data row13 col26\" >0</td>\n",
              "                        <td id=\"T_f2e99916_e352_11eb_b9ac_0242ac1c0002row13_col27\" class=\"data row13 col27\" >0</td>\n",
              "            </tr>\n",
              "            <tr>\n",
              "                        <th id=\"T_f2e99916_e352_11eb_b9ac_0242ac1c0002level0_row14\" class=\"row_heading level0 row14\" >14</th>\n",
              "                        <td id=\"T_f2e99916_e352_11eb_b9ac_0242ac1c0002row14_col0\" class=\"data row14 col0\" >0</td>\n",
              "                        <td id=\"T_f2e99916_e352_11eb_b9ac_0242ac1c0002row14_col1\" class=\"data row14 col1\" >0</td>\n",
              "                        <td id=\"T_f2e99916_e352_11eb_b9ac_0242ac1c0002row14_col2\" class=\"data row14 col2\" >0</td>\n",
              "                        <td id=\"T_f2e99916_e352_11eb_b9ac_0242ac1c0002row14_col3\" class=\"data row14 col3\" >0</td>\n",
              "                        <td id=\"T_f2e99916_e352_11eb_b9ac_0242ac1c0002row14_col4\" class=\"data row14 col4\" >0</td>\n",
              "                        <td id=\"T_f2e99916_e352_11eb_b9ac_0242ac1c0002row14_col5\" class=\"data row14 col5\" >0</td>\n",
              "                        <td id=\"T_f2e99916_e352_11eb_b9ac_0242ac1c0002row14_col6\" class=\"data row14 col6\" >0</td>\n",
              "                        <td id=\"T_f2e99916_e352_11eb_b9ac_0242ac1c0002row14_col7\" class=\"data row14 col7\" >198</td>\n",
              "                        <td id=\"T_f2e99916_e352_11eb_b9ac_0242ac1c0002row14_col8\" class=\"data row14 col8\" >253</td>\n",
              "                        <td id=\"T_f2e99916_e352_11eb_b9ac_0242ac1c0002row14_col9\" class=\"data row14 col9\" >190</td>\n",
              "                        <td id=\"T_f2e99916_e352_11eb_b9ac_0242ac1c0002row14_col10\" class=\"data row14 col10\" >0</td>\n",
              "                        <td id=\"T_f2e99916_e352_11eb_b9ac_0242ac1c0002row14_col11\" class=\"data row14 col11\" >0</td>\n",
              "                        <td id=\"T_f2e99916_e352_11eb_b9ac_0242ac1c0002row14_col12\" class=\"data row14 col12\" >0</td>\n",
              "                        <td id=\"T_f2e99916_e352_11eb_b9ac_0242ac1c0002row14_col13\" class=\"data row14 col13\" >0</td>\n",
              "                        <td id=\"T_f2e99916_e352_11eb_b9ac_0242ac1c0002row14_col14\" class=\"data row14 col14\" >0</td>\n",
              "                        <td id=\"T_f2e99916_e352_11eb_b9ac_0242ac1c0002row14_col15\" class=\"data row14 col15\" >0</td>\n",
              "                        <td id=\"T_f2e99916_e352_11eb_b9ac_0242ac1c0002row14_col16\" class=\"data row14 col16\" >0</td>\n",
              "                        <td id=\"T_f2e99916_e352_11eb_b9ac_0242ac1c0002row14_col17\" class=\"data row14 col17\" >0</td>\n",
              "                        <td id=\"T_f2e99916_e352_11eb_b9ac_0242ac1c0002row14_col18\" class=\"data row14 col18\" >0</td>\n",
              "                        <td id=\"T_f2e99916_e352_11eb_b9ac_0242ac1c0002row14_col19\" class=\"data row14 col19\" >0</td>\n",
              "                        <td id=\"T_f2e99916_e352_11eb_b9ac_0242ac1c0002row14_col20\" class=\"data row14 col20\" >255</td>\n",
              "                        <td id=\"T_f2e99916_e352_11eb_b9ac_0242ac1c0002row14_col21\" class=\"data row14 col21\" >253</td>\n",
              "                        <td id=\"T_f2e99916_e352_11eb_b9ac_0242ac1c0002row14_col22\" class=\"data row14 col22\" >196</td>\n",
              "                        <td id=\"T_f2e99916_e352_11eb_b9ac_0242ac1c0002row14_col23\" class=\"data row14 col23\" >0</td>\n",
              "                        <td id=\"T_f2e99916_e352_11eb_b9ac_0242ac1c0002row14_col24\" class=\"data row14 col24\" >0</td>\n",
              "                        <td id=\"T_f2e99916_e352_11eb_b9ac_0242ac1c0002row14_col25\" class=\"data row14 col25\" >0</td>\n",
              "                        <td id=\"T_f2e99916_e352_11eb_b9ac_0242ac1c0002row14_col26\" class=\"data row14 col26\" >0</td>\n",
              "                        <td id=\"T_f2e99916_e352_11eb_b9ac_0242ac1c0002row14_col27\" class=\"data row14 col27\" >0</td>\n",
              "            </tr>\n",
              "            <tr>\n",
              "                        <th id=\"T_f2e99916_e352_11eb_b9ac_0242ac1c0002level0_row15\" class=\"row_heading level0 row15\" >15</th>\n",
              "                        <td id=\"T_f2e99916_e352_11eb_b9ac_0242ac1c0002row15_col0\" class=\"data row15 col0\" >0</td>\n",
              "                        <td id=\"T_f2e99916_e352_11eb_b9ac_0242ac1c0002row15_col1\" class=\"data row15 col1\" >0</td>\n",
              "                        <td id=\"T_f2e99916_e352_11eb_b9ac_0242ac1c0002row15_col2\" class=\"data row15 col2\" >0</td>\n",
              "                        <td id=\"T_f2e99916_e352_11eb_b9ac_0242ac1c0002row15_col3\" class=\"data row15 col3\" >0</td>\n",
              "                        <td id=\"T_f2e99916_e352_11eb_b9ac_0242ac1c0002row15_col4\" class=\"data row15 col4\" >0</td>\n",
              "                        <td id=\"T_f2e99916_e352_11eb_b9ac_0242ac1c0002row15_col5\" class=\"data row15 col5\" >0</td>\n",
              "                        <td id=\"T_f2e99916_e352_11eb_b9ac_0242ac1c0002row15_col6\" class=\"data row15 col6\" >76</td>\n",
              "                        <td id=\"T_f2e99916_e352_11eb_b9ac_0242ac1c0002row15_col7\" class=\"data row15 col7\" >246</td>\n",
              "                        <td id=\"T_f2e99916_e352_11eb_b9ac_0242ac1c0002row15_col8\" class=\"data row15 col8\" >252</td>\n",
              "                        <td id=\"T_f2e99916_e352_11eb_b9ac_0242ac1c0002row15_col9\" class=\"data row15 col9\" >112</td>\n",
              "                        <td id=\"T_f2e99916_e352_11eb_b9ac_0242ac1c0002row15_col10\" class=\"data row15 col10\" >0</td>\n",
              "                        <td id=\"T_f2e99916_e352_11eb_b9ac_0242ac1c0002row15_col11\" class=\"data row15 col11\" >0</td>\n",
              "                        <td id=\"T_f2e99916_e352_11eb_b9ac_0242ac1c0002row15_col12\" class=\"data row15 col12\" >0</td>\n",
              "                        <td id=\"T_f2e99916_e352_11eb_b9ac_0242ac1c0002row15_col13\" class=\"data row15 col13\" >0</td>\n",
              "                        <td id=\"T_f2e99916_e352_11eb_b9ac_0242ac1c0002row15_col14\" class=\"data row15 col14\" >0</td>\n",
              "                        <td id=\"T_f2e99916_e352_11eb_b9ac_0242ac1c0002row15_col15\" class=\"data row15 col15\" >0</td>\n",
              "                        <td id=\"T_f2e99916_e352_11eb_b9ac_0242ac1c0002row15_col16\" class=\"data row15 col16\" >0</td>\n",
              "                        <td id=\"T_f2e99916_e352_11eb_b9ac_0242ac1c0002row15_col17\" class=\"data row15 col17\" >0</td>\n",
              "                        <td id=\"T_f2e99916_e352_11eb_b9ac_0242ac1c0002row15_col18\" class=\"data row15 col18\" >0</td>\n",
              "                        <td id=\"T_f2e99916_e352_11eb_b9ac_0242ac1c0002row15_col19\" class=\"data row15 col19\" >0</td>\n",
              "                        <td id=\"T_f2e99916_e352_11eb_b9ac_0242ac1c0002row15_col20\" class=\"data row15 col20\" >253</td>\n",
              "                        <td id=\"T_f2e99916_e352_11eb_b9ac_0242ac1c0002row15_col21\" class=\"data row15 col21\" >252</td>\n",
              "                        <td id=\"T_f2e99916_e352_11eb_b9ac_0242ac1c0002row15_col22\" class=\"data row15 col22\" >148</td>\n",
              "                        <td id=\"T_f2e99916_e352_11eb_b9ac_0242ac1c0002row15_col23\" class=\"data row15 col23\" >0</td>\n",
              "                        <td id=\"T_f2e99916_e352_11eb_b9ac_0242ac1c0002row15_col24\" class=\"data row15 col24\" >0</td>\n",
              "                        <td id=\"T_f2e99916_e352_11eb_b9ac_0242ac1c0002row15_col25\" class=\"data row15 col25\" >0</td>\n",
              "                        <td id=\"T_f2e99916_e352_11eb_b9ac_0242ac1c0002row15_col26\" class=\"data row15 col26\" >0</td>\n",
              "                        <td id=\"T_f2e99916_e352_11eb_b9ac_0242ac1c0002row15_col27\" class=\"data row15 col27\" >0</td>\n",
              "            </tr>\n",
              "            <tr>\n",
              "                        <th id=\"T_f2e99916_e352_11eb_b9ac_0242ac1c0002level0_row16\" class=\"row_heading level0 row16\" >16</th>\n",
              "                        <td id=\"T_f2e99916_e352_11eb_b9ac_0242ac1c0002row16_col0\" class=\"data row16 col0\" >0</td>\n",
              "                        <td id=\"T_f2e99916_e352_11eb_b9ac_0242ac1c0002row16_col1\" class=\"data row16 col1\" >0</td>\n",
              "                        <td id=\"T_f2e99916_e352_11eb_b9ac_0242ac1c0002row16_col2\" class=\"data row16 col2\" >0</td>\n",
              "                        <td id=\"T_f2e99916_e352_11eb_b9ac_0242ac1c0002row16_col3\" class=\"data row16 col3\" >0</td>\n",
              "                        <td id=\"T_f2e99916_e352_11eb_b9ac_0242ac1c0002row16_col4\" class=\"data row16 col4\" >0</td>\n",
              "                        <td id=\"T_f2e99916_e352_11eb_b9ac_0242ac1c0002row16_col5\" class=\"data row16 col5\" >0</td>\n",
              "                        <td id=\"T_f2e99916_e352_11eb_b9ac_0242ac1c0002row16_col6\" class=\"data row16 col6\" >85</td>\n",
              "                        <td id=\"T_f2e99916_e352_11eb_b9ac_0242ac1c0002row16_col7\" class=\"data row16 col7\" >252</td>\n",
              "                        <td id=\"T_f2e99916_e352_11eb_b9ac_0242ac1c0002row16_col8\" class=\"data row16 col8\" >230</td>\n",
              "                        <td id=\"T_f2e99916_e352_11eb_b9ac_0242ac1c0002row16_col9\" class=\"data row16 col9\" >25</td>\n",
              "                        <td id=\"T_f2e99916_e352_11eb_b9ac_0242ac1c0002row16_col10\" class=\"data row16 col10\" >0</td>\n",
              "                        <td id=\"T_f2e99916_e352_11eb_b9ac_0242ac1c0002row16_col11\" class=\"data row16 col11\" >0</td>\n",
              "                        <td id=\"T_f2e99916_e352_11eb_b9ac_0242ac1c0002row16_col12\" class=\"data row16 col12\" >0</td>\n",
              "                        <td id=\"T_f2e99916_e352_11eb_b9ac_0242ac1c0002row16_col13\" class=\"data row16 col13\" >0</td>\n",
              "                        <td id=\"T_f2e99916_e352_11eb_b9ac_0242ac1c0002row16_col14\" class=\"data row16 col14\" >0</td>\n",
              "                        <td id=\"T_f2e99916_e352_11eb_b9ac_0242ac1c0002row16_col15\" class=\"data row16 col15\" >0</td>\n",
              "                        <td id=\"T_f2e99916_e352_11eb_b9ac_0242ac1c0002row16_col16\" class=\"data row16 col16\" >0</td>\n",
              "                        <td id=\"T_f2e99916_e352_11eb_b9ac_0242ac1c0002row16_col17\" class=\"data row16 col17\" >0</td>\n",
              "                        <td id=\"T_f2e99916_e352_11eb_b9ac_0242ac1c0002row16_col18\" class=\"data row16 col18\" >7</td>\n",
              "                        <td id=\"T_f2e99916_e352_11eb_b9ac_0242ac1c0002row16_col19\" class=\"data row16 col19\" >135</td>\n",
              "                        <td id=\"T_f2e99916_e352_11eb_b9ac_0242ac1c0002row16_col20\" class=\"data row16 col20\" >253</td>\n",
              "                        <td id=\"T_f2e99916_e352_11eb_b9ac_0242ac1c0002row16_col21\" class=\"data row16 col21\" >186</td>\n",
              "                        <td id=\"T_f2e99916_e352_11eb_b9ac_0242ac1c0002row16_col22\" class=\"data row16 col22\" >12</td>\n",
              "                        <td id=\"T_f2e99916_e352_11eb_b9ac_0242ac1c0002row16_col23\" class=\"data row16 col23\" >0</td>\n",
              "                        <td id=\"T_f2e99916_e352_11eb_b9ac_0242ac1c0002row16_col24\" class=\"data row16 col24\" >0</td>\n",
              "                        <td id=\"T_f2e99916_e352_11eb_b9ac_0242ac1c0002row16_col25\" class=\"data row16 col25\" >0</td>\n",
              "                        <td id=\"T_f2e99916_e352_11eb_b9ac_0242ac1c0002row16_col26\" class=\"data row16 col26\" >0</td>\n",
              "                        <td id=\"T_f2e99916_e352_11eb_b9ac_0242ac1c0002row16_col27\" class=\"data row16 col27\" >0</td>\n",
              "            </tr>\n",
              "            <tr>\n",
              "                        <th id=\"T_f2e99916_e352_11eb_b9ac_0242ac1c0002level0_row17\" class=\"row_heading level0 row17\" >17</th>\n",
              "                        <td id=\"T_f2e99916_e352_11eb_b9ac_0242ac1c0002row17_col0\" class=\"data row17 col0\" >0</td>\n",
              "                        <td id=\"T_f2e99916_e352_11eb_b9ac_0242ac1c0002row17_col1\" class=\"data row17 col1\" >0</td>\n",
              "                        <td id=\"T_f2e99916_e352_11eb_b9ac_0242ac1c0002row17_col2\" class=\"data row17 col2\" >0</td>\n",
              "                        <td id=\"T_f2e99916_e352_11eb_b9ac_0242ac1c0002row17_col3\" class=\"data row17 col3\" >0</td>\n",
              "                        <td id=\"T_f2e99916_e352_11eb_b9ac_0242ac1c0002row17_col4\" class=\"data row17 col4\" >0</td>\n",
              "                        <td id=\"T_f2e99916_e352_11eb_b9ac_0242ac1c0002row17_col5\" class=\"data row17 col5\" >0</td>\n",
              "                        <td id=\"T_f2e99916_e352_11eb_b9ac_0242ac1c0002row17_col6\" class=\"data row17 col6\" >85</td>\n",
              "                        <td id=\"T_f2e99916_e352_11eb_b9ac_0242ac1c0002row17_col7\" class=\"data row17 col7\" >252</td>\n",
              "                        <td id=\"T_f2e99916_e352_11eb_b9ac_0242ac1c0002row17_col8\" class=\"data row17 col8\" >223</td>\n",
              "                        <td id=\"T_f2e99916_e352_11eb_b9ac_0242ac1c0002row17_col9\" class=\"data row17 col9\" >0</td>\n",
              "                        <td id=\"T_f2e99916_e352_11eb_b9ac_0242ac1c0002row17_col10\" class=\"data row17 col10\" >0</td>\n",
              "                        <td id=\"T_f2e99916_e352_11eb_b9ac_0242ac1c0002row17_col11\" class=\"data row17 col11\" >0</td>\n",
              "                        <td id=\"T_f2e99916_e352_11eb_b9ac_0242ac1c0002row17_col12\" class=\"data row17 col12\" >0</td>\n",
              "                        <td id=\"T_f2e99916_e352_11eb_b9ac_0242ac1c0002row17_col13\" class=\"data row17 col13\" >0</td>\n",
              "                        <td id=\"T_f2e99916_e352_11eb_b9ac_0242ac1c0002row17_col14\" class=\"data row17 col14\" >0</td>\n",
              "                        <td id=\"T_f2e99916_e352_11eb_b9ac_0242ac1c0002row17_col15\" class=\"data row17 col15\" >0</td>\n",
              "                        <td id=\"T_f2e99916_e352_11eb_b9ac_0242ac1c0002row17_col16\" class=\"data row17 col16\" >0</td>\n",
              "                        <td id=\"T_f2e99916_e352_11eb_b9ac_0242ac1c0002row17_col17\" class=\"data row17 col17\" >7</td>\n",
              "                        <td id=\"T_f2e99916_e352_11eb_b9ac_0242ac1c0002row17_col18\" class=\"data row17 col18\" >131</td>\n",
              "                        <td id=\"T_f2e99916_e352_11eb_b9ac_0242ac1c0002row17_col19\" class=\"data row17 col19\" >252</td>\n",
              "                        <td id=\"T_f2e99916_e352_11eb_b9ac_0242ac1c0002row17_col20\" class=\"data row17 col20\" >225</td>\n",
              "                        <td id=\"T_f2e99916_e352_11eb_b9ac_0242ac1c0002row17_col21\" class=\"data row17 col21\" >71</td>\n",
              "                        <td id=\"T_f2e99916_e352_11eb_b9ac_0242ac1c0002row17_col22\" class=\"data row17 col22\" >0</td>\n",
              "                        <td id=\"T_f2e99916_e352_11eb_b9ac_0242ac1c0002row17_col23\" class=\"data row17 col23\" >0</td>\n",
              "                        <td id=\"T_f2e99916_e352_11eb_b9ac_0242ac1c0002row17_col24\" class=\"data row17 col24\" >0</td>\n",
              "                        <td id=\"T_f2e99916_e352_11eb_b9ac_0242ac1c0002row17_col25\" class=\"data row17 col25\" >0</td>\n",
              "                        <td id=\"T_f2e99916_e352_11eb_b9ac_0242ac1c0002row17_col26\" class=\"data row17 col26\" >0</td>\n",
              "                        <td id=\"T_f2e99916_e352_11eb_b9ac_0242ac1c0002row17_col27\" class=\"data row17 col27\" >0</td>\n",
              "            </tr>\n",
              "            <tr>\n",
              "                        <th id=\"T_f2e99916_e352_11eb_b9ac_0242ac1c0002level0_row18\" class=\"row_heading level0 row18\" >18</th>\n",
              "                        <td id=\"T_f2e99916_e352_11eb_b9ac_0242ac1c0002row18_col0\" class=\"data row18 col0\" >0</td>\n",
              "                        <td id=\"T_f2e99916_e352_11eb_b9ac_0242ac1c0002row18_col1\" class=\"data row18 col1\" >0</td>\n",
              "                        <td id=\"T_f2e99916_e352_11eb_b9ac_0242ac1c0002row18_col2\" class=\"data row18 col2\" >0</td>\n",
              "                        <td id=\"T_f2e99916_e352_11eb_b9ac_0242ac1c0002row18_col3\" class=\"data row18 col3\" >0</td>\n",
              "                        <td id=\"T_f2e99916_e352_11eb_b9ac_0242ac1c0002row18_col4\" class=\"data row18 col4\" >0</td>\n",
              "                        <td id=\"T_f2e99916_e352_11eb_b9ac_0242ac1c0002row18_col5\" class=\"data row18 col5\" >0</td>\n",
              "                        <td id=\"T_f2e99916_e352_11eb_b9ac_0242ac1c0002row18_col6\" class=\"data row18 col6\" >85</td>\n",
              "                        <td id=\"T_f2e99916_e352_11eb_b9ac_0242ac1c0002row18_col7\" class=\"data row18 col7\" >252</td>\n",
              "                        <td id=\"T_f2e99916_e352_11eb_b9ac_0242ac1c0002row18_col8\" class=\"data row18 col8\" >145</td>\n",
              "                        <td id=\"T_f2e99916_e352_11eb_b9ac_0242ac1c0002row18_col9\" class=\"data row18 col9\" >0</td>\n",
              "                        <td id=\"T_f2e99916_e352_11eb_b9ac_0242ac1c0002row18_col10\" class=\"data row18 col10\" >0</td>\n",
              "                        <td id=\"T_f2e99916_e352_11eb_b9ac_0242ac1c0002row18_col11\" class=\"data row18 col11\" >0</td>\n",
              "                        <td id=\"T_f2e99916_e352_11eb_b9ac_0242ac1c0002row18_col12\" class=\"data row18 col12\" >0</td>\n",
              "                        <td id=\"T_f2e99916_e352_11eb_b9ac_0242ac1c0002row18_col13\" class=\"data row18 col13\" >0</td>\n",
              "                        <td id=\"T_f2e99916_e352_11eb_b9ac_0242ac1c0002row18_col14\" class=\"data row18 col14\" >0</td>\n",
              "                        <td id=\"T_f2e99916_e352_11eb_b9ac_0242ac1c0002row18_col15\" class=\"data row18 col15\" >0</td>\n",
              "                        <td id=\"T_f2e99916_e352_11eb_b9ac_0242ac1c0002row18_col16\" class=\"data row18 col16\" >48</td>\n",
              "                        <td id=\"T_f2e99916_e352_11eb_b9ac_0242ac1c0002row18_col17\" class=\"data row18 col17\" >165</td>\n",
              "                        <td id=\"T_f2e99916_e352_11eb_b9ac_0242ac1c0002row18_col18\" class=\"data row18 col18\" >252</td>\n",
              "                        <td id=\"T_f2e99916_e352_11eb_b9ac_0242ac1c0002row18_col19\" class=\"data row18 col19\" >173</td>\n",
              "                        <td id=\"T_f2e99916_e352_11eb_b9ac_0242ac1c0002row18_col20\" class=\"data row18 col20\" >0</td>\n",
              "                        <td id=\"T_f2e99916_e352_11eb_b9ac_0242ac1c0002row18_col21\" class=\"data row18 col21\" >0</td>\n",
              "                        <td id=\"T_f2e99916_e352_11eb_b9ac_0242ac1c0002row18_col22\" class=\"data row18 col22\" >0</td>\n",
              "                        <td id=\"T_f2e99916_e352_11eb_b9ac_0242ac1c0002row18_col23\" class=\"data row18 col23\" >0</td>\n",
              "                        <td id=\"T_f2e99916_e352_11eb_b9ac_0242ac1c0002row18_col24\" class=\"data row18 col24\" >0</td>\n",
              "                        <td id=\"T_f2e99916_e352_11eb_b9ac_0242ac1c0002row18_col25\" class=\"data row18 col25\" >0</td>\n",
              "                        <td id=\"T_f2e99916_e352_11eb_b9ac_0242ac1c0002row18_col26\" class=\"data row18 col26\" >0</td>\n",
              "                        <td id=\"T_f2e99916_e352_11eb_b9ac_0242ac1c0002row18_col27\" class=\"data row18 col27\" >0</td>\n",
              "            </tr>\n",
              "            <tr>\n",
              "                        <th id=\"T_f2e99916_e352_11eb_b9ac_0242ac1c0002level0_row19\" class=\"row_heading level0 row19\" >19</th>\n",
              "                        <td id=\"T_f2e99916_e352_11eb_b9ac_0242ac1c0002row19_col0\" class=\"data row19 col0\" >0</td>\n",
              "                        <td id=\"T_f2e99916_e352_11eb_b9ac_0242ac1c0002row19_col1\" class=\"data row19 col1\" >0</td>\n",
              "                        <td id=\"T_f2e99916_e352_11eb_b9ac_0242ac1c0002row19_col2\" class=\"data row19 col2\" >0</td>\n",
              "                        <td id=\"T_f2e99916_e352_11eb_b9ac_0242ac1c0002row19_col3\" class=\"data row19 col3\" >0</td>\n",
              "                        <td id=\"T_f2e99916_e352_11eb_b9ac_0242ac1c0002row19_col4\" class=\"data row19 col4\" >0</td>\n",
              "                        <td id=\"T_f2e99916_e352_11eb_b9ac_0242ac1c0002row19_col5\" class=\"data row19 col5\" >0</td>\n",
              "                        <td id=\"T_f2e99916_e352_11eb_b9ac_0242ac1c0002row19_col6\" class=\"data row19 col6\" >86</td>\n",
              "                        <td id=\"T_f2e99916_e352_11eb_b9ac_0242ac1c0002row19_col7\" class=\"data row19 col7\" >253</td>\n",
              "                        <td id=\"T_f2e99916_e352_11eb_b9ac_0242ac1c0002row19_col8\" class=\"data row19 col8\" >225</td>\n",
              "                        <td id=\"T_f2e99916_e352_11eb_b9ac_0242ac1c0002row19_col9\" class=\"data row19 col9\" >0</td>\n",
              "                        <td id=\"T_f2e99916_e352_11eb_b9ac_0242ac1c0002row19_col10\" class=\"data row19 col10\" >0</td>\n",
              "                        <td id=\"T_f2e99916_e352_11eb_b9ac_0242ac1c0002row19_col11\" class=\"data row19 col11\" >0</td>\n",
              "                        <td id=\"T_f2e99916_e352_11eb_b9ac_0242ac1c0002row19_col12\" class=\"data row19 col12\" >0</td>\n",
              "                        <td id=\"T_f2e99916_e352_11eb_b9ac_0242ac1c0002row19_col13\" class=\"data row19 col13\" >0</td>\n",
              "                        <td id=\"T_f2e99916_e352_11eb_b9ac_0242ac1c0002row19_col14\" class=\"data row19 col14\" >0</td>\n",
              "                        <td id=\"T_f2e99916_e352_11eb_b9ac_0242ac1c0002row19_col15\" class=\"data row19 col15\" >114</td>\n",
              "                        <td id=\"T_f2e99916_e352_11eb_b9ac_0242ac1c0002row19_col16\" class=\"data row19 col16\" >238</td>\n",
              "                        <td id=\"T_f2e99916_e352_11eb_b9ac_0242ac1c0002row19_col17\" class=\"data row19 col17\" >253</td>\n",
              "                        <td id=\"T_f2e99916_e352_11eb_b9ac_0242ac1c0002row19_col18\" class=\"data row19 col18\" >162</td>\n",
              "                        <td id=\"T_f2e99916_e352_11eb_b9ac_0242ac1c0002row19_col19\" class=\"data row19 col19\" >0</td>\n",
              "                        <td id=\"T_f2e99916_e352_11eb_b9ac_0242ac1c0002row19_col20\" class=\"data row19 col20\" >0</td>\n",
              "                        <td id=\"T_f2e99916_e352_11eb_b9ac_0242ac1c0002row19_col21\" class=\"data row19 col21\" >0</td>\n",
              "                        <td id=\"T_f2e99916_e352_11eb_b9ac_0242ac1c0002row19_col22\" class=\"data row19 col22\" >0</td>\n",
              "                        <td id=\"T_f2e99916_e352_11eb_b9ac_0242ac1c0002row19_col23\" class=\"data row19 col23\" >0</td>\n",
              "                        <td id=\"T_f2e99916_e352_11eb_b9ac_0242ac1c0002row19_col24\" class=\"data row19 col24\" >0</td>\n",
              "                        <td id=\"T_f2e99916_e352_11eb_b9ac_0242ac1c0002row19_col25\" class=\"data row19 col25\" >0</td>\n",
              "                        <td id=\"T_f2e99916_e352_11eb_b9ac_0242ac1c0002row19_col26\" class=\"data row19 col26\" >0</td>\n",
              "                        <td id=\"T_f2e99916_e352_11eb_b9ac_0242ac1c0002row19_col27\" class=\"data row19 col27\" >0</td>\n",
              "            </tr>\n",
              "            <tr>\n",
              "                        <th id=\"T_f2e99916_e352_11eb_b9ac_0242ac1c0002level0_row20\" class=\"row_heading level0 row20\" >20</th>\n",
              "                        <td id=\"T_f2e99916_e352_11eb_b9ac_0242ac1c0002row20_col0\" class=\"data row20 col0\" >0</td>\n",
              "                        <td id=\"T_f2e99916_e352_11eb_b9ac_0242ac1c0002row20_col1\" class=\"data row20 col1\" >0</td>\n",
              "                        <td id=\"T_f2e99916_e352_11eb_b9ac_0242ac1c0002row20_col2\" class=\"data row20 col2\" >0</td>\n",
              "                        <td id=\"T_f2e99916_e352_11eb_b9ac_0242ac1c0002row20_col3\" class=\"data row20 col3\" >0</td>\n",
              "                        <td id=\"T_f2e99916_e352_11eb_b9ac_0242ac1c0002row20_col4\" class=\"data row20 col4\" >0</td>\n",
              "                        <td id=\"T_f2e99916_e352_11eb_b9ac_0242ac1c0002row20_col5\" class=\"data row20 col5\" >0</td>\n",
              "                        <td id=\"T_f2e99916_e352_11eb_b9ac_0242ac1c0002row20_col6\" class=\"data row20 col6\" >85</td>\n",
              "                        <td id=\"T_f2e99916_e352_11eb_b9ac_0242ac1c0002row20_col7\" class=\"data row20 col7\" >252</td>\n",
              "                        <td id=\"T_f2e99916_e352_11eb_b9ac_0242ac1c0002row20_col8\" class=\"data row20 col8\" >249</td>\n",
              "                        <td id=\"T_f2e99916_e352_11eb_b9ac_0242ac1c0002row20_col9\" class=\"data row20 col9\" >146</td>\n",
              "                        <td id=\"T_f2e99916_e352_11eb_b9ac_0242ac1c0002row20_col10\" class=\"data row20 col10\" >48</td>\n",
              "                        <td id=\"T_f2e99916_e352_11eb_b9ac_0242ac1c0002row20_col11\" class=\"data row20 col11\" >29</td>\n",
              "                        <td id=\"T_f2e99916_e352_11eb_b9ac_0242ac1c0002row20_col12\" class=\"data row20 col12\" >85</td>\n",
              "                        <td id=\"T_f2e99916_e352_11eb_b9ac_0242ac1c0002row20_col13\" class=\"data row20 col13\" >178</td>\n",
              "                        <td id=\"T_f2e99916_e352_11eb_b9ac_0242ac1c0002row20_col14\" class=\"data row20 col14\" >225</td>\n",
              "                        <td id=\"T_f2e99916_e352_11eb_b9ac_0242ac1c0002row20_col15\" class=\"data row20 col15\" >253</td>\n",
              "                        <td id=\"T_f2e99916_e352_11eb_b9ac_0242ac1c0002row20_col16\" class=\"data row20 col16\" >223</td>\n",
              "                        <td id=\"T_f2e99916_e352_11eb_b9ac_0242ac1c0002row20_col17\" class=\"data row20 col17\" >167</td>\n",
              "                        <td id=\"T_f2e99916_e352_11eb_b9ac_0242ac1c0002row20_col18\" class=\"data row20 col18\" >56</td>\n",
              "                        <td id=\"T_f2e99916_e352_11eb_b9ac_0242ac1c0002row20_col19\" class=\"data row20 col19\" >0</td>\n",
              "                        <td id=\"T_f2e99916_e352_11eb_b9ac_0242ac1c0002row20_col20\" class=\"data row20 col20\" >0</td>\n",
              "                        <td id=\"T_f2e99916_e352_11eb_b9ac_0242ac1c0002row20_col21\" class=\"data row20 col21\" >0</td>\n",
              "                        <td id=\"T_f2e99916_e352_11eb_b9ac_0242ac1c0002row20_col22\" class=\"data row20 col22\" >0</td>\n",
              "                        <td id=\"T_f2e99916_e352_11eb_b9ac_0242ac1c0002row20_col23\" class=\"data row20 col23\" >0</td>\n",
              "                        <td id=\"T_f2e99916_e352_11eb_b9ac_0242ac1c0002row20_col24\" class=\"data row20 col24\" >0</td>\n",
              "                        <td id=\"T_f2e99916_e352_11eb_b9ac_0242ac1c0002row20_col25\" class=\"data row20 col25\" >0</td>\n",
              "                        <td id=\"T_f2e99916_e352_11eb_b9ac_0242ac1c0002row20_col26\" class=\"data row20 col26\" >0</td>\n",
              "                        <td id=\"T_f2e99916_e352_11eb_b9ac_0242ac1c0002row20_col27\" class=\"data row20 col27\" >0</td>\n",
              "            </tr>\n",
              "            <tr>\n",
              "                        <th id=\"T_f2e99916_e352_11eb_b9ac_0242ac1c0002level0_row21\" class=\"row_heading level0 row21\" >21</th>\n",
              "                        <td id=\"T_f2e99916_e352_11eb_b9ac_0242ac1c0002row21_col0\" class=\"data row21 col0\" >0</td>\n",
              "                        <td id=\"T_f2e99916_e352_11eb_b9ac_0242ac1c0002row21_col1\" class=\"data row21 col1\" >0</td>\n",
              "                        <td id=\"T_f2e99916_e352_11eb_b9ac_0242ac1c0002row21_col2\" class=\"data row21 col2\" >0</td>\n",
              "                        <td id=\"T_f2e99916_e352_11eb_b9ac_0242ac1c0002row21_col3\" class=\"data row21 col3\" >0</td>\n",
              "                        <td id=\"T_f2e99916_e352_11eb_b9ac_0242ac1c0002row21_col4\" class=\"data row21 col4\" >0</td>\n",
              "                        <td id=\"T_f2e99916_e352_11eb_b9ac_0242ac1c0002row21_col5\" class=\"data row21 col5\" >0</td>\n",
              "                        <td id=\"T_f2e99916_e352_11eb_b9ac_0242ac1c0002row21_col6\" class=\"data row21 col6\" >85</td>\n",
              "                        <td id=\"T_f2e99916_e352_11eb_b9ac_0242ac1c0002row21_col7\" class=\"data row21 col7\" >252</td>\n",
              "                        <td id=\"T_f2e99916_e352_11eb_b9ac_0242ac1c0002row21_col8\" class=\"data row21 col8\" >252</td>\n",
              "                        <td id=\"T_f2e99916_e352_11eb_b9ac_0242ac1c0002row21_col9\" class=\"data row21 col9\" >252</td>\n",
              "                        <td id=\"T_f2e99916_e352_11eb_b9ac_0242ac1c0002row21_col10\" class=\"data row21 col10\" >229</td>\n",
              "                        <td id=\"T_f2e99916_e352_11eb_b9ac_0242ac1c0002row21_col11\" class=\"data row21 col11\" >215</td>\n",
              "                        <td id=\"T_f2e99916_e352_11eb_b9ac_0242ac1c0002row21_col12\" class=\"data row21 col12\" >252</td>\n",
              "                        <td id=\"T_f2e99916_e352_11eb_b9ac_0242ac1c0002row21_col13\" class=\"data row21 col13\" >252</td>\n",
              "                        <td id=\"T_f2e99916_e352_11eb_b9ac_0242ac1c0002row21_col14\" class=\"data row21 col14\" >252</td>\n",
              "                        <td id=\"T_f2e99916_e352_11eb_b9ac_0242ac1c0002row21_col15\" class=\"data row21 col15\" >196</td>\n",
              "                        <td id=\"T_f2e99916_e352_11eb_b9ac_0242ac1c0002row21_col16\" class=\"data row21 col16\" >130</td>\n",
              "                        <td id=\"T_f2e99916_e352_11eb_b9ac_0242ac1c0002row21_col17\" class=\"data row21 col17\" >0</td>\n",
              "                        <td id=\"T_f2e99916_e352_11eb_b9ac_0242ac1c0002row21_col18\" class=\"data row21 col18\" >0</td>\n",
              "                        <td id=\"T_f2e99916_e352_11eb_b9ac_0242ac1c0002row21_col19\" class=\"data row21 col19\" >0</td>\n",
              "                        <td id=\"T_f2e99916_e352_11eb_b9ac_0242ac1c0002row21_col20\" class=\"data row21 col20\" >0</td>\n",
              "                        <td id=\"T_f2e99916_e352_11eb_b9ac_0242ac1c0002row21_col21\" class=\"data row21 col21\" >0</td>\n",
              "                        <td id=\"T_f2e99916_e352_11eb_b9ac_0242ac1c0002row21_col22\" class=\"data row21 col22\" >0</td>\n",
              "                        <td id=\"T_f2e99916_e352_11eb_b9ac_0242ac1c0002row21_col23\" class=\"data row21 col23\" >0</td>\n",
              "                        <td id=\"T_f2e99916_e352_11eb_b9ac_0242ac1c0002row21_col24\" class=\"data row21 col24\" >0</td>\n",
              "                        <td id=\"T_f2e99916_e352_11eb_b9ac_0242ac1c0002row21_col25\" class=\"data row21 col25\" >0</td>\n",
              "                        <td id=\"T_f2e99916_e352_11eb_b9ac_0242ac1c0002row21_col26\" class=\"data row21 col26\" >0</td>\n",
              "                        <td id=\"T_f2e99916_e352_11eb_b9ac_0242ac1c0002row21_col27\" class=\"data row21 col27\" >0</td>\n",
              "            </tr>\n",
              "            <tr>\n",
              "                        <th id=\"T_f2e99916_e352_11eb_b9ac_0242ac1c0002level0_row22\" class=\"row_heading level0 row22\" >22</th>\n",
              "                        <td id=\"T_f2e99916_e352_11eb_b9ac_0242ac1c0002row22_col0\" class=\"data row22 col0\" >0</td>\n",
              "                        <td id=\"T_f2e99916_e352_11eb_b9ac_0242ac1c0002row22_col1\" class=\"data row22 col1\" >0</td>\n",
              "                        <td id=\"T_f2e99916_e352_11eb_b9ac_0242ac1c0002row22_col2\" class=\"data row22 col2\" >0</td>\n",
              "                        <td id=\"T_f2e99916_e352_11eb_b9ac_0242ac1c0002row22_col3\" class=\"data row22 col3\" >0</td>\n",
              "                        <td id=\"T_f2e99916_e352_11eb_b9ac_0242ac1c0002row22_col4\" class=\"data row22 col4\" >0</td>\n",
              "                        <td id=\"T_f2e99916_e352_11eb_b9ac_0242ac1c0002row22_col5\" class=\"data row22 col5\" >0</td>\n",
              "                        <td id=\"T_f2e99916_e352_11eb_b9ac_0242ac1c0002row22_col6\" class=\"data row22 col6\" >28</td>\n",
              "                        <td id=\"T_f2e99916_e352_11eb_b9ac_0242ac1c0002row22_col7\" class=\"data row22 col7\" >199</td>\n",
              "                        <td id=\"T_f2e99916_e352_11eb_b9ac_0242ac1c0002row22_col8\" class=\"data row22 col8\" >252</td>\n",
              "                        <td id=\"T_f2e99916_e352_11eb_b9ac_0242ac1c0002row22_col9\" class=\"data row22 col9\" >252</td>\n",
              "                        <td id=\"T_f2e99916_e352_11eb_b9ac_0242ac1c0002row22_col10\" class=\"data row22 col10\" >253</td>\n",
              "                        <td id=\"T_f2e99916_e352_11eb_b9ac_0242ac1c0002row22_col11\" class=\"data row22 col11\" >252</td>\n",
              "                        <td id=\"T_f2e99916_e352_11eb_b9ac_0242ac1c0002row22_col12\" class=\"data row22 col12\" >252</td>\n",
              "                        <td id=\"T_f2e99916_e352_11eb_b9ac_0242ac1c0002row22_col13\" class=\"data row22 col13\" >233</td>\n",
              "                        <td id=\"T_f2e99916_e352_11eb_b9ac_0242ac1c0002row22_col14\" class=\"data row22 col14\" >145</td>\n",
              "                        <td id=\"T_f2e99916_e352_11eb_b9ac_0242ac1c0002row22_col15\" class=\"data row22 col15\" >0</td>\n",
              "                        <td id=\"T_f2e99916_e352_11eb_b9ac_0242ac1c0002row22_col16\" class=\"data row22 col16\" >0</td>\n",
              "                        <td id=\"T_f2e99916_e352_11eb_b9ac_0242ac1c0002row22_col17\" class=\"data row22 col17\" >0</td>\n",
              "                        <td id=\"T_f2e99916_e352_11eb_b9ac_0242ac1c0002row22_col18\" class=\"data row22 col18\" >0</td>\n",
              "                        <td id=\"T_f2e99916_e352_11eb_b9ac_0242ac1c0002row22_col19\" class=\"data row22 col19\" >0</td>\n",
              "                        <td id=\"T_f2e99916_e352_11eb_b9ac_0242ac1c0002row22_col20\" class=\"data row22 col20\" >0</td>\n",
              "                        <td id=\"T_f2e99916_e352_11eb_b9ac_0242ac1c0002row22_col21\" class=\"data row22 col21\" >0</td>\n",
              "                        <td id=\"T_f2e99916_e352_11eb_b9ac_0242ac1c0002row22_col22\" class=\"data row22 col22\" >0</td>\n",
              "                        <td id=\"T_f2e99916_e352_11eb_b9ac_0242ac1c0002row22_col23\" class=\"data row22 col23\" >0</td>\n",
              "                        <td id=\"T_f2e99916_e352_11eb_b9ac_0242ac1c0002row22_col24\" class=\"data row22 col24\" >0</td>\n",
              "                        <td id=\"T_f2e99916_e352_11eb_b9ac_0242ac1c0002row22_col25\" class=\"data row22 col25\" >0</td>\n",
              "                        <td id=\"T_f2e99916_e352_11eb_b9ac_0242ac1c0002row22_col26\" class=\"data row22 col26\" >0</td>\n",
              "                        <td id=\"T_f2e99916_e352_11eb_b9ac_0242ac1c0002row22_col27\" class=\"data row22 col27\" >0</td>\n",
              "            </tr>\n",
              "            <tr>\n",
              "                        <th id=\"T_f2e99916_e352_11eb_b9ac_0242ac1c0002level0_row23\" class=\"row_heading level0 row23\" >23</th>\n",
              "                        <td id=\"T_f2e99916_e352_11eb_b9ac_0242ac1c0002row23_col0\" class=\"data row23 col0\" >0</td>\n",
              "                        <td id=\"T_f2e99916_e352_11eb_b9ac_0242ac1c0002row23_col1\" class=\"data row23 col1\" >0</td>\n",
              "                        <td id=\"T_f2e99916_e352_11eb_b9ac_0242ac1c0002row23_col2\" class=\"data row23 col2\" >0</td>\n",
              "                        <td id=\"T_f2e99916_e352_11eb_b9ac_0242ac1c0002row23_col3\" class=\"data row23 col3\" >0</td>\n",
              "                        <td id=\"T_f2e99916_e352_11eb_b9ac_0242ac1c0002row23_col4\" class=\"data row23 col4\" >0</td>\n",
              "                        <td id=\"T_f2e99916_e352_11eb_b9ac_0242ac1c0002row23_col5\" class=\"data row23 col5\" >0</td>\n",
              "                        <td id=\"T_f2e99916_e352_11eb_b9ac_0242ac1c0002row23_col6\" class=\"data row23 col6\" >0</td>\n",
              "                        <td id=\"T_f2e99916_e352_11eb_b9ac_0242ac1c0002row23_col7\" class=\"data row23 col7\" >25</td>\n",
              "                        <td id=\"T_f2e99916_e352_11eb_b9ac_0242ac1c0002row23_col8\" class=\"data row23 col8\" >128</td>\n",
              "                        <td id=\"T_f2e99916_e352_11eb_b9ac_0242ac1c0002row23_col9\" class=\"data row23 col9\" >252</td>\n",
              "                        <td id=\"T_f2e99916_e352_11eb_b9ac_0242ac1c0002row23_col10\" class=\"data row23 col10\" >253</td>\n",
              "                        <td id=\"T_f2e99916_e352_11eb_b9ac_0242ac1c0002row23_col11\" class=\"data row23 col11\" >252</td>\n",
              "                        <td id=\"T_f2e99916_e352_11eb_b9ac_0242ac1c0002row23_col12\" class=\"data row23 col12\" >141</td>\n",
              "                        <td id=\"T_f2e99916_e352_11eb_b9ac_0242ac1c0002row23_col13\" class=\"data row23 col13\" >37</td>\n",
              "                        <td id=\"T_f2e99916_e352_11eb_b9ac_0242ac1c0002row23_col14\" class=\"data row23 col14\" >0</td>\n",
              "                        <td id=\"T_f2e99916_e352_11eb_b9ac_0242ac1c0002row23_col15\" class=\"data row23 col15\" >0</td>\n",
              "                        <td id=\"T_f2e99916_e352_11eb_b9ac_0242ac1c0002row23_col16\" class=\"data row23 col16\" >0</td>\n",
              "                        <td id=\"T_f2e99916_e352_11eb_b9ac_0242ac1c0002row23_col17\" class=\"data row23 col17\" >0</td>\n",
              "                        <td id=\"T_f2e99916_e352_11eb_b9ac_0242ac1c0002row23_col18\" class=\"data row23 col18\" >0</td>\n",
              "                        <td id=\"T_f2e99916_e352_11eb_b9ac_0242ac1c0002row23_col19\" class=\"data row23 col19\" >0</td>\n",
              "                        <td id=\"T_f2e99916_e352_11eb_b9ac_0242ac1c0002row23_col20\" class=\"data row23 col20\" >0</td>\n",
              "                        <td id=\"T_f2e99916_e352_11eb_b9ac_0242ac1c0002row23_col21\" class=\"data row23 col21\" >0</td>\n",
              "                        <td id=\"T_f2e99916_e352_11eb_b9ac_0242ac1c0002row23_col22\" class=\"data row23 col22\" >0</td>\n",
              "                        <td id=\"T_f2e99916_e352_11eb_b9ac_0242ac1c0002row23_col23\" class=\"data row23 col23\" >0</td>\n",
              "                        <td id=\"T_f2e99916_e352_11eb_b9ac_0242ac1c0002row23_col24\" class=\"data row23 col24\" >0</td>\n",
              "                        <td id=\"T_f2e99916_e352_11eb_b9ac_0242ac1c0002row23_col25\" class=\"data row23 col25\" >0</td>\n",
              "                        <td id=\"T_f2e99916_e352_11eb_b9ac_0242ac1c0002row23_col26\" class=\"data row23 col26\" >0</td>\n",
              "                        <td id=\"T_f2e99916_e352_11eb_b9ac_0242ac1c0002row23_col27\" class=\"data row23 col27\" >0</td>\n",
              "            </tr>\n",
              "            <tr>\n",
              "                        <th id=\"T_f2e99916_e352_11eb_b9ac_0242ac1c0002level0_row24\" class=\"row_heading level0 row24\" >24</th>\n",
              "                        <td id=\"T_f2e99916_e352_11eb_b9ac_0242ac1c0002row24_col0\" class=\"data row24 col0\" >0</td>\n",
              "                        <td id=\"T_f2e99916_e352_11eb_b9ac_0242ac1c0002row24_col1\" class=\"data row24 col1\" >0</td>\n",
              "                        <td id=\"T_f2e99916_e352_11eb_b9ac_0242ac1c0002row24_col2\" class=\"data row24 col2\" >0</td>\n",
              "                        <td id=\"T_f2e99916_e352_11eb_b9ac_0242ac1c0002row24_col3\" class=\"data row24 col3\" >0</td>\n",
              "                        <td id=\"T_f2e99916_e352_11eb_b9ac_0242ac1c0002row24_col4\" class=\"data row24 col4\" >0</td>\n",
              "                        <td id=\"T_f2e99916_e352_11eb_b9ac_0242ac1c0002row24_col5\" class=\"data row24 col5\" >0</td>\n",
              "                        <td id=\"T_f2e99916_e352_11eb_b9ac_0242ac1c0002row24_col6\" class=\"data row24 col6\" >0</td>\n",
              "                        <td id=\"T_f2e99916_e352_11eb_b9ac_0242ac1c0002row24_col7\" class=\"data row24 col7\" >0</td>\n",
              "                        <td id=\"T_f2e99916_e352_11eb_b9ac_0242ac1c0002row24_col8\" class=\"data row24 col8\" >0</td>\n",
              "                        <td id=\"T_f2e99916_e352_11eb_b9ac_0242ac1c0002row24_col9\" class=\"data row24 col9\" >0</td>\n",
              "                        <td id=\"T_f2e99916_e352_11eb_b9ac_0242ac1c0002row24_col10\" class=\"data row24 col10\" >0</td>\n",
              "                        <td id=\"T_f2e99916_e352_11eb_b9ac_0242ac1c0002row24_col11\" class=\"data row24 col11\" >0</td>\n",
              "                        <td id=\"T_f2e99916_e352_11eb_b9ac_0242ac1c0002row24_col12\" class=\"data row24 col12\" >0</td>\n",
              "                        <td id=\"T_f2e99916_e352_11eb_b9ac_0242ac1c0002row24_col13\" class=\"data row24 col13\" >0</td>\n",
              "                        <td id=\"T_f2e99916_e352_11eb_b9ac_0242ac1c0002row24_col14\" class=\"data row24 col14\" >0</td>\n",
              "                        <td id=\"T_f2e99916_e352_11eb_b9ac_0242ac1c0002row24_col15\" class=\"data row24 col15\" >0</td>\n",
              "                        <td id=\"T_f2e99916_e352_11eb_b9ac_0242ac1c0002row24_col16\" class=\"data row24 col16\" >0</td>\n",
              "                        <td id=\"T_f2e99916_e352_11eb_b9ac_0242ac1c0002row24_col17\" class=\"data row24 col17\" >0</td>\n",
              "                        <td id=\"T_f2e99916_e352_11eb_b9ac_0242ac1c0002row24_col18\" class=\"data row24 col18\" >0</td>\n",
              "                        <td id=\"T_f2e99916_e352_11eb_b9ac_0242ac1c0002row24_col19\" class=\"data row24 col19\" >0</td>\n",
              "                        <td id=\"T_f2e99916_e352_11eb_b9ac_0242ac1c0002row24_col20\" class=\"data row24 col20\" >0</td>\n",
              "                        <td id=\"T_f2e99916_e352_11eb_b9ac_0242ac1c0002row24_col21\" class=\"data row24 col21\" >0</td>\n",
              "                        <td id=\"T_f2e99916_e352_11eb_b9ac_0242ac1c0002row24_col22\" class=\"data row24 col22\" >0</td>\n",
              "                        <td id=\"T_f2e99916_e352_11eb_b9ac_0242ac1c0002row24_col23\" class=\"data row24 col23\" >0</td>\n",
              "                        <td id=\"T_f2e99916_e352_11eb_b9ac_0242ac1c0002row24_col24\" class=\"data row24 col24\" >0</td>\n",
              "                        <td id=\"T_f2e99916_e352_11eb_b9ac_0242ac1c0002row24_col25\" class=\"data row24 col25\" >0</td>\n",
              "                        <td id=\"T_f2e99916_e352_11eb_b9ac_0242ac1c0002row24_col26\" class=\"data row24 col26\" >0</td>\n",
              "                        <td id=\"T_f2e99916_e352_11eb_b9ac_0242ac1c0002row24_col27\" class=\"data row24 col27\" >0</td>\n",
              "            </tr>\n",
              "            <tr>\n",
              "                        <th id=\"T_f2e99916_e352_11eb_b9ac_0242ac1c0002level0_row25\" class=\"row_heading level0 row25\" >25</th>\n",
              "                        <td id=\"T_f2e99916_e352_11eb_b9ac_0242ac1c0002row25_col0\" class=\"data row25 col0\" >0</td>\n",
              "                        <td id=\"T_f2e99916_e352_11eb_b9ac_0242ac1c0002row25_col1\" class=\"data row25 col1\" >0</td>\n",
              "                        <td id=\"T_f2e99916_e352_11eb_b9ac_0242ac1c0002row25_col2\" class=\"data row25 col2\" >0</td>\n",
              "                        <td id=\"T_f2e99916_e352_11eb_b9ac_0242ac1c0002row25_col3\" class=\"data row25 col3\" >0</td>\n",
              "                        <td id=\"T_f2e99916_e352_11eb_b9ac_0242ac1c0002row25_col4\" class=\"data row25 col4\" >0</td>\n",
              "                        <td id=\"T_f2e99916_e352_11eb_b9ac_0242ac1c0002row25_col5\" class=\"data row25 col5\" >0</td>\n",
              "                        <td id=\"T_f2e99916_e352_11eb_b9ac_0242ac1c0002row25_col6\" class=\"data row25 col6\" >0</td>\n",
              "                        <td id=\"T_f2e99916_e352_11eb_b9ac_0242ac1c0002row25_col7\" class=\"data row25 col7\" >0</td>\n",
              "                        <td id=\"T_f2e99916_e352_11eb_b9ac_0242ac1c0002row25_col8\" class=\"data row25 col8\" >0</td>\n",
              "                        <td id=\"T_f2e99916_e352_11eb_b9ac_0242ac1c0002row25_col9\" class=\"data row25 col9\" >0</td>\n",
              "                        <td id=\"T_f2e99916_e352_11eb_b9ac_0242ac1c0002row25_col10\" class=\"data row25 col10\" >0</td>\n",
              "                        <td id=\"T_f2e99916_e352_11eb_b9ac_0242ac1c0002row25_col11\" class=\"data row25 col11\" >0</td>\n",
              "                        <td id=\"T_f2e99916_e352_11eb_b9ac_0242ac1c0002row25_col12\" class=\"data row25 col12\" >0</td>\n",
              "                        <td id=\"T_f2e99916_e352_11eb_b9ac_0242ac1c0002row25_col13\" class=\"data row25 col13\" >0</td>\n",
              "                        <td id=\"T_f2e99916_e352_11eb_b9ac_0242ac1c0002row25_col14\" class=\"data row25 col14\" >0</td>\n",
              "                        <td id=\"T_f2e99916_e352_11eb_b9ac_0242ac1c0002row25_col15\" class=\"data row25 col15\" >0</td>\n",
              "                        <td id=\"T_f2e99916_e352_11eb_b9ac_0242ac1c0002row25_col16\" class=\"data row25 col16\" >0</td>\n",
              "                        <td id=\"T_f2e99916_e352_11eb_b9ac_0242ac1c0002row25_col17\" class=\"data row25 col17\" >0</td>\n",
              "                        <td id=\"T_f2e99916_e352_11eb_b9ac_0242ac1c0002row25_col18\" class=\"data row25 col18\" >0</td>\n",
              "                        <td id=\"T_f2e99916_e352_11eb_b9ac_0242ac1c0002row25_col19\" class=\"data row25 col19\" >0</td>\n",
              "                        <td id=\"T_f2e99916_e352_11eb_b9ac_0242ac1c0002row25_col20\" class=\"data row25 col20\" >0</td>\n",
              "                        <td id=\"T_f2e99916_e352_11eb_b9ac_0242ac1c0002row25_col21\" class=\"data row25 col21\" >0</td>\n",
              "                        <td id=\"T_f2e99916_e352_11eb_b9ac_0242ac1c0002row25_col22\" class=\"data row25 col22\" >0</td>\n",
              "                        <td id=\"T_f2e99916_e352_11eb_b9ac_0242ac1c0002row25_col23\" class=\"data row25 col23\" >0</td>\n",
              "                        <td id=\"T_f2e99916_e352_11eb_b9ac_0242ac1c0002row25_col24\" class=\"data row25 col24\" >0</td>\n",
              "                        <td id=\"T_f2e99916_e352_11eb_b9ac_0242ac1c0002row25_col25\" class=\"data row25 col25\" >0</td>\n",
              "                        <td id=\"T_f2e99916_e352_11eb_b9ac_0242ac1c0002row25_col26\" class=\"data row25 col26\" >0</td>\n",
              "                        <td id=\"T_f2e99916_e352_11eb_b9ac_0242ac1c0002row25_col27\" class=\"data row25 col27\" >0</td>\n",
              "            </tr>\n",
              "            <tr>\n",
              "                        <th id=\"T_f2e99916_e352_11eb_b9ac_0242ac1c0002level0_row26\" class=\"row_heading level0 row26\" >26</th>\n",
              "                        <td id=\"T_f2e99916_e352_11eb_b9ac_0242ac1c0002row26_col0\" class=\"data row26 col0\" >0</td>\n",
              "                        <td id=\"T_f2e99916_e352_11eb_b9ac_0242ac1c0002row26_col1\" class=\"data row26 col1\" >0</td>\n",
              "                        <td id=\"T_f2e99916_e352_11eb_b9ac_0242ac1c0002row26_col2\" class=\"data row26 col2\" >0</td>\n",
              "                        <td id=\"T_f2e99916_e352_11eb_b9ac_0242ac1c0002row26_col3\" class=\"data row26 col3\" >0</td>\n",
              "                        <td id=\"T_f2e99916_e352_11eb_b9ac_0242ac1c0002row26_col4\" class=\"data row26 col4\" >0</td>\n",
              "                        <td id=\"T_f2e99916_e352_11eb_b9ac_0242ac1c0002row26_col5\" class=\"data row26 col5\" >0</td>\n",
              "                        <td id=\"T_f2e99916_e352_11eb_b9ac_0242ac1c0002row26_col6\" class=\"data row26 col6\" >0</td>\n",
              "                        <td id=\"T_f2e99916_e352_11eb_b9ac_0242ac1c0002row26_col7\" class=\"data row26 col7\" >0</td>\n",
              "                        <td id=\"T_f2e99916_e352_11eb_b9ac_0242ac1c0002row26_col8\" class=\"data row26 col8\" >0</td>\n",
              "                        <td id=\"T_f2e99916_e352_11eb_b9ac_0242ac1c0002row26_col9\" class=\"data row26 col9\" >0</td>\n",
              "                        <td id=\"T_f2e99916_e352_11eb_b9ac_0242ac1c0002row26_col10\" class=\"data row26 col10\" >0</td>\n",
              "                        <td id=\"T_f2e99916_e352_11eb_b9ac_0242ac1c0002row26_col11\" class=\"data row26 col11\" >0</td>\n",
              "                        <td id=\"T_f2e99916_e352_11eb_b9ac_0242ac1c0002row26_col12\" class=\"data row26 col12\" >0</td>\n",
              "                        <td id=\"T_f2e99916_e352_11eb_b9ac_0242ac1c0002row26_col13\" class=\"data row26 col13\" >0</td>\n",
              "                        <td id=\"T_f2e99916_e352_11eb_b9ac_0242ac1c0002row26_col14\" class=\"data row26 col14\" >0</td>\n",
              "                        <td id=\"T_f2e99916_e352_11eb_b9ac_0242ac1c0002row26_col15\" class=\"data row26 col15\" >0</td>\n",
              "                        <td id=\"T_f2e99916_e352_11eb_b9ac_0242ac1c0002row26_col16\" class=\"data row26 col16\" >0</td>\n",
              "                        <td id=\"T_f2e99916_e352_11eb_b9ac_0242ac1c0002row26_col17\" class=\"data row26 col17\" >0</td>\n",
              "                        <td id=\"T_f2e99916_e352_11eb_b9ac_0242ac1c0002row26_col18\" class=\"data row26 col18\" >0</td>\n",
              "                        <td id=\"T_f2e99916_e352_11eb_b9ac_0242ac1c0002row26_col19\" class=\"data row26 col19\" >0</td>\n",
              "                        <td id=\"T_f2e99916_e352_11eb_b9ac_0242ac1c0002row26_col20\" class=\"data row26 col20\" >0</td>\n",
              "                        <td id=\"T_f2e99916_e352_11eb_b9ac_0242ac1c0002row26_col21\" class=\"data row26 col21\" >0</td>\n",
              "                        <td id=\"T_f2e99916_e352_11eb_b9ac_0242ac1c0002row26_col22\" class=\"data row26 col22\" >0</td>\n",
              "                        <td id=\"T_f2e99916_e352_11eb_b9ac_0242ac1c0002row26_col23\" class=\"data row26 col23\" >0</td>\n",
              "                        <td id=\"T_f2e99916_e352_11eb_b9ac_0242ac1c0002row26_col24\" class=\"data row26 col24\" >0</td>\n",
              "                        <td id=\"T_f2e99916_e352_11eb_b9ac_0242ac1c0002row26_col25\" class=\"data row26 col25\" >0</td>\n",
              "                        <td id=\"T_f2e99916_e352_11eb_b9ac_0242ac1c0002row26_col26\" class=\"data row26 col26\" >0</td>\n",
              "                        <td id=\"T_f2e99916_e352_11eb_b9ac_0242ac1c0002row26_col27\" class=\"data row26 col27\" >0</td>\n",
              "            </tr>\n",
              "            <tr>\n",
              "                        <th id=\"T_f2e99916_e352_11eb_b9ac_0242ac1c0002level0_row27\" class=\"row_heading level0 row27\" >27</th>\n",
              "                        <td id=\"T_f2e99916_e352_11eb_b9ac_0242ac1c0002row27_col0\" class=\"data row27 col0\" >0</td>\n",
              "                        <td id=\"T_f2e99916_e352_11eb_b9ac_0242ac1c0002row27_col1\" class=\"data row27 col1\" >0</td>\n",
              "                        <td id=\"T_f2e99916_e352_11eb_b9ac_0242ac1c0002row27_col2\" class=\"data row27 col2\" >0</td>\n",
              "                        <td id=\"T_f2e99916_e352_11eb_b9ac_0242ac1c0002row27_col3\" class=\"data row27 col3\" >0</td>\n",
              "                        <td id=\"T_f2e99916_e352_11eb_b9ac_0242ac1c0002row27_col4\" class=\"data row27 col4\" >0</td>\n",
              "                        <td id=\"T_f2e99916_e352_11eb_b9ac_0242ac1c0002row27_col5\" class=\"data row27 col5\" >0</td>\n",
              "                        <td id=\"T_f2e99916_e352_11eb_b9ac_0242ac1c0002row27_col6\" class=\"data row27 col6\" >0</td>\n",
              "                        <td id=\"T_f2e99916_e352_11eb_b9ac_0242ac1c0002row27_col7\" class=\"data row27 col7\" >0</td>\n",
              "                        <td id=\"T_f2e99916_e352_11eb_b9ac_0242ac1c0002row27_col8\" class=\"data row27 col8\" >0</td>\n",
              "                        <td id=\"T_f2e99916_e352_11eb_b9ac_0242ac1c0002row27_col9\" class=\"data row27 col9\" >0</td>\n",
              "                        <td id=\"T_f2e99916_e352_11eb_b9ac_0242ac1c0002row27_col10\" class=\"data row27 col10\" >0</td>\n",
              "                        <td id=\"T_f2e99916_e352_11eb_b9ac_0242ac1c0002row27_col11\" class=\"data row27 col11\" >0</td>\n",
              "                        <td id=\"T_f2e99916_e352_11eb_b9ac_0242ac1c0002row27_col12\" class=\"data row27 col12\" >0</td>\n",
              "                        <td id=\"T_f2e99916_e352_11eb_b9ac_0242ac1c0002row27_col13\" class=\"data row27 col13\" >0</td>\n",
              "                        <td id=\"T_f2e99916_e352_11eb_b9ac_0242ac1c0002row27_col14\" class=\"data row27 col14\" >0</td>\n",
              "                        <td id=\"T_f2e99916_e352_11eb_b9ac_0242ac1c0002row27_col15\" class=\"data row27 col15\" >0</td>\n",
              "                        <td id=\"T_f2e99916_e352_11eb_b9ac_0242ac1c0002row27_col16\" class=\"data row27 col16\" >0</td>\n",
              "                        <td id=\"T_f2e99916_e352_11eb_b9ac_0242ac1c0002row27_col17\" class=\"data row27 col17\" >0</td>\n",
              "                        <td id=\"T_f2e99916_e352_11eb_b9ac_0242ac1c0002row27_col18\" class=\"data row27 col18\" >0</td>\n",
              "                        <td id=\"T_f2e99916_e352_11eb_b9ac_0242ac1c0002row27_col19\" class=\"data row27 col19\" >0</td>\n",
              "                        <td id=\"T_f2e99916_e352_11eb_b9ac_0242ac1c0002row27_col20\" class=\"data row27 col20\" >0</td>\n",
              "                        <td id=\"T_f2e99916_e352_11eb_b9ac_0242ac1c0002row27_col21\" class=\"data row27 col21\" >0</td>\n",
              "                        <td id=\"T_f2e99916_e352_11eb_b9ac_0242ac1c0002row27_col22\" class=\"data row27 col22\" >0</td>\n",
              "                        <td id=\"T_f2e99916_e352_11eb_b9ac_0242ac1c0002row27_col23\" class=\"data row27 col23\" >0</td>\n",
              "                        <td id=\"T_f2e99916_e352_11eb_b9ac_0242ac1c0002row27_col24\" class=\"data row27 col24\" >0</td>\n",
              "                        <td id=\"T_f2e99916_e352_11eb_b9ac_0242ac1c0002row27_col25\" class=\"data row27 col25\" >0</td>\n",
              "                        <td id=\"T_f2e99916_e352_11eb_b9ac_0242ac1c0002row27_col26\" class=\"data row27 col26\" >0</td>\n",
              "                        <td id=\"T_f2e99916_e352_11eb_b9ac_0242ac1c0002row27_col27\" class=\"data row27 col27\" >0</td>\n",
              "            </tr>\n",
              "    </tbody></table>"
            ],
            "text/plain": [
              "<pandas.io.formats.style.Styler at 0x7fa33a159390>"
            ]
          },
          "metadata": {
            "tags": []
          },
          "execution_count": 22
        }
      ]
    },
    {
      "cell_type": "code",
      "metadata": {
        "colab": {
          "base_uri": "https://localhost:8080/"
        },
        "id": "Nw0iRWXye-kR",
        "outputId": "1e704c5b-dd9d-426a-d04c-8487c13029a3"
      },
      "source": [
        "tensor_zeroes = [tensor(Image.open(o)) for o in test_data_zeroes]\n",
        "len(tensor_zeroes)"
      ],
      "execution_count": null,
      "outputs": [
        {
          "output_type": "execute_result",
          "data": {
            "text/plain": [
              "5923"
            ]
          },
          "metadata": {
            "tags": []
          },
          "execution_count": 23
        }
      ]
    },
    {
      "cell_type": "markdown",
      "metadata": {
        "id": "GKQaG-eWtbpN"
      },
      "source": [
        "# 4- Creating the stacked tensors"
      ]
    },
    {
      "cell_type": "code",
      "metadata": {
        "id": "bE-9cDVYfu9T"
      },
      "source": [
        "def create_list_of_tensors(test_data_ordinal):\n",
        "  return [tensor(Image.open(o)) for o in (path_full/'training'/test_data_ordinal).ls().sorted()]"
      ],
      "execution_count": null,
      "outputs": []
    },
    {
      "cell_type": "code",
      "metadata": {
        "colab": {
          "base_uri": "https://localhost:8080/",
          "height": 35
        },
        "id": "gxvb7RY8gFsp",
        "outputId": "a357bd30-0ac8-4434-80c7-935469718fee"
      },
      "source": [
        "tensor_ones = create_list_of_tensors('1')\n",
        "tensor_twos = create_list_of_tensors('2')\n",
        "tensor_threes = create_list_of_tensors('3')\n",
        "tensor_fours = create_list_of_tensors('4')\n",
        "tensor_fives = create_list_of_tensors('5')\n",
        "tensor_sixes = create_list_of_tensors('6')\n",
        "tensor_sevens = create_list_of_tensors('7')\n",
        "tensor_eights = create_list_of_tensors('8')\n",
        "tensor_nines = create_list_of_tensors('9')\n",
        "f'ones: {len(tensor_ones)}, twos: {len(tensor_twos)}, threes: {len(tensor_threes)}, fours: {len(tensor_fours)}, fives: {len(tensor_fives)}, sixes: {len(tensor_sixes)}, sevens: {len(tensor_sevens)}, eights: {len(tensor_eights)}, nines: {len(tensor_nines)}'"
      ],
      "execution_count": null,
      "outputs": [
        {
          "output_type": "execute_result",
          "data": {
            "application/vnd.google.colaboratory.intrinsic+json": {
              "type": "string"
            },
            "text/plain": [
              "'ones: 6742, twos: 5958, threes: 6131, fours: 5842, fives: 5421, sixes: 5918, sevens: 6265, eights: 5851, nines: 5949'"
            ]
          },
          "metadata": {
            "tags": []
          },
          "execution_count": 25
        }
      ]
    },
    {
      "cell_type": "code",
      "metadata": {
        "id": "ZdQaxDPCiGXD"
      },
      "source": [
        "def create_float_stack(tensors):\n",
        "  return torch.stack(tensors).float()/255"
      ],
      "execution_count": null,
      "outputs": []
    },
    {
      "cell_type": "code",
      "metadata": {
        "colab": {
          "base_uri": "https://localhost:8080/"
        },
        "id": "M2qDEqbqitIt",
        "outputId": "24243f2c-69e3-4bcc-ffe2-e7d36bc209a5"
      },
      "source": [
        "stacked_zeroes = create_float_stack(tensor_zeroes)\n",
        "stacked_zeroes.shape"
      ],
      "execution_count": null,
      "outputs": [
        {
          "output_type": "execute_result",
          "data": {
            "text/plain": [
              "torch.Size([5923, 28, 28])"
            ]
          },
          "metadata": {
            "tags": []
          },
          "execution_count": 27
        }
      ]
    },
    {
      "cell_type": "code",
      "metadata": {
        "id": "hnMJNnMai1F4"
      },
      "source": [
        "listed_all_numerals = [tensor_zeroes, tensor_ones, tensor_twos, tensor_threes, tensor_fours, tensor_fives, tensor_sixes, tensor_sevens, tensor_eights, tensor_nines]"
      ],
      "execution_count": null,
      "outputs": []
    },
    {
      "cell_type": "code",
      "metadata": {
        "id": "djByjlizlwn3"
      },
      "source": [
        "training_stacks = [create_float_stack(it) for it in listed_all_numerals]"
      ],
      "execution_count": null,
      "outputs": []
    },
    {
      "cell_type": "code",
      "metadata": {
        "id": "bwVjvDdPl_a4",
        "colab": {
          "base_uri": "https://localhost:8080/",
          "height": 102
        },
        "outputId": "a446b2eb-d8ab-4c23-8b8d-ff06d536fb20"
      },
      "source": [
        "show_image(training_stacks[9][0])"
      ],
      "execution_count": null,
      "outputs": [
        {
          "output_type": "execute_result",
          "data": {
            "text/plain": [
              "<matplotlib.axes._subplots.AxesSubplot at 0x7fa338625610>"
            ]
          },
          "metadata": {
            "tags": []
          },
          "execution_count": 30
        },
        {
          "output_type": "display_data",
          "data": {
            "image/png": "[encoded data removed]",
            "text/plain": [
              "<Figure size 72x72 with 1 Axes>"
            ]
          },
          "metadata": {
            "tags": [],
            "needs_background": "light"
          }
        }
      ]
    },
    {
      "cell_type": "code",
      "metadata": {
        "id": "w0HQkpHlmKW4"
      },
      "source": [
        "mean_of_numerals = [it.mean(0) for it in training_stacks]"
      ],
      "execution_count": null,
      "outputs": []
    },
    {
      "cell_type": "code",
      "metadata": {
        "id": "Im_5-uK1mw5s",
        "colab": {
          "base_uri": "https://localhost:8080/",
          "height": 102
        },
        "outputId": "ae940fb3-fb80-4b35-c5c1-fd9cd66e0d63"
      },
      "source": [
        "show_image(mean_of_numerals[9])"
      ],
      "execution_count": null,
      "outputs": [
        {
          "output_type": "execute_result",
          "data": {
            "text/plain": [
              "<matplotlib.axes._subplots.AxesSubplot at 0x7fa338a17090>"
            ]
          },
          "metadata": {
            "tags": []
          },
          "execution_count": 32
        },
        {
          "output_type": "display_data",
          "data": {
            "image/png": "[encoded data removed]",
            "text/plain": [
              "<Figure size 72x72 with 1 Axes>"
            ]
          },
          "metadata": {
            "tags": [],
            "needs_background": "light"
          }
        }
      ]
    },
    {
      "cell_type": "markdown",
      "metadata": {
        "id": "FLIB0mE4tnjO"
      },
      "source": [
        "# 5 - Testing the baseline"
      ]
    },
    {
      "cell_type": "code",
      "metadata": {
        "id": "ACavhadanFka"
      },
      "source": [
        "import torch.nn.functional as F"
      ],
      "execution_count": null,
      "outputs": []
    },
    {
      "cell_type": "code",
      "metadata": {
        "id": "Q3jl_w5JnHuw",
        "colab": {
          "base_uri": "https://localhost:8080/"
        },
        "outputId": "9b17558d-2515-4787-eb4c-06b52940cc3a"
      },
      "source": [
        "# Testing differences\n",
        "sample_zero_differences = [F.l1_loss(training_stacks[0][0].float(), it) for it in mean_of_numerals]\n",
        "sample_eight_differences = [F.l1_loss(training_stacks[8][0].float(), it) for it in mean_of_numerals]\n",
        "sample_six_differences = [F.l1_loss(training_stacks[6][0].float(), it) for it in mean_of_numerals]\n",
        "sample_zero_differences.index(min(sample_zero_differences)), sample_eight_differences.index(min(sample_eight_differences)), sample_six_differences.index(min(sample_six_differences))"
      ],
      "execution_count": null,
      "outputs": [
        {
          "output_type": "execute_result",
          "data": {
            "text/plain": [
              "(0, 1, 6)"
            ]
          },
          "metadata": {
            "tags": []
          },
          "execution_count": 34
        }
      ]
    },
    {
      "cell_type": "code",
      "metadata": {
        "id": "4bdC0Uy9rDB4"
      },
      "source": [
        "# Calculating metrics for our baseline\n",
        "# def evaluate_baseline():\n",
        "#   accuracy = []\n",
        "#   for data, label in mnist_dataset:\n",
        "#     current_tensor = tensor(data).float()/255\n",
        "#     differences_against_means = [F.l1_loss(current_tensor, it) for it in mean_of_numerals]\n",
        "#     prediction = differences_against_means.index(min(differences_against_means))\n",
        "#     accuracy.append(prediction == label)\n",
        "#   return accuracy"
      ],
      "execution_count": null,
      "outputs": []
    },
    {
      "cell_type": "code",
      "metadata": {
        "id": "800GUY3us10d"
      },
      "source": [
        "# accuracies = evaluate_baseline()"
      ],
      "execution_count": null,
      "outputs": []
    },
    {
      "cell_type": "code",
      "metadata": {
        "id": "JWXszuH7tJE6"
      },
      "source": [
        "# overall_accuracy = tensor(accuracies).float().mean()\n",
        "# overall_accuracy"
      ],
      "execution_count": null,
      "outputs": []
    },
    {
      "cell_type": "markdown",
      "metadata": {
        "id": "ik0sQbBYuSCE"
      },
      "source": [
        "# 6 - Applying Gradient Descent"
      ]
    },
    {
      "cell_type": "code",
      "metadata": {
        "id": "ZteP6gcKQvht",
        "colab": {
          "base_uri": "https://localhost:8080/"
        },
        "outputId": "97f0ffeb-ae63-4bb9-91ae-2486e316c71a"
      },
      "source": [
        "# Create a single tensor from the stacks\n",
        "concat_x = torch.empty(0,28,28)\n",
        "for stack in training_stacks:\n",
        "  concat_x = torch.cat([concat_x, stack])\n",
        "train_x = concat_x.view(-1, 28*28)\n",
        "train_x.shape"
      ],
      "execution_count": null,
      "outputs": [
        {
          "output_type": "execute_result",
          "data": {
            "text/plain": [
              "torch.Size([60000, 784])"
            ]
          },
          "metadata": {
            "tags": []
          },
          "execution_count": 38
        }
      ]
    },
    {
      "cell_type": "code",
      "metadata": {
        "id": "XbHvGkJFSj_F",
        "colab": {
          "base_uri": "https://localhost:8080/"
        },
        "outputId": "926c45a7-1bdc-4789-9fc9-a67859dfee20"
      },
      "source": [
        "# Create the labels from the data\n",
        "concat_y = torch.empty(0)\n",
        "for index in range(10):\n",
        "  number_of_labels = len(training_stacks[index])\n",
        "  concat_y = torch.cat([concat_y, tensor([index]*number_of_labels)])\n",
        "train_y = concat_y.unsqueeze(1)\n",
        "train_y.shape"
      ],
      "execution_count": null,
      "outputs": [
        {
          "output_type": "execute_result",
          "data": {
            "text/plain": [
              "torch.Size([60000, 1])"
            ]
          },
          "metadata": {
            "tags": []
          },
          "execution_count": 39
        }
      ]
    },
    {
      "cell_type": "code",
      "metadata": {
        "id": "gQM64F_zVIvb",
        "colab": {
          "base_uri": "https://localhost:8080/"
        },
        "outputId": "0ec6de84-3a0e-42cc-a13f-a709016b8b4e"
      },
      "source": [
        "# Create the dataset\n",
        "total_dset = list(zip(train_x, train_y))\n",
        "x,y = total_dset[0]\n",
        "x.shape, y"
      ],
      "execution_count": null,
      "outputs": [
        {
          "output_type": "execute_result",
          "data": {
            "text/plain": [
              "(torch.Size([784]), tensor([0.]))"
            ]
          },
          "metadata": {
            "tags": []
          },
          "execution_count": 40
        }
      ]
    },
    {
      "cell_type": "code",
      "metadata": {
        "id": "3kAyAjjxVhoE",
        "colab": {
          "base_uri": "https://localhost:8080/"
        },
        "outputId": "a7e65ba6-b791-41be-82f5-765269327911"
      },
      "source": [
        "# Split the total dataset into separate train and validation sets\n",
        "np.random.shuffle(total_dset)\n",
        "split_index = int(.8 * len(total_dset))\n",
        "split_index"
      ],
      "execution_count": null,
      "outputs": [
        {
          "output_type": "execute_result",
          "data": {
            "text/plain": [
              "48000"
            ]
          },
          "metadata": {
            "tags": []
          },
          "execution_count": 41
        }
      ]
    },
    {
      "cell_type": "code",
      "metadata": {
        "id": "uaffPzVdYDuG",
        "colab": {
          "base_uri": "https://localhost:8080/"
        },
        "outputId": "ee87c171-c489-49dd-fa7c-0b15a59b5e8e"
      },
      "source": [
        "training = total_dset[:split_index]\n",
        "validation = total_dset[split_index:]\n",
        "len(training), len(validation)"
      ],
      "execution_count": null,
      "outputs": [
        {
          "output_type": "execute_result",
          "data": {
            "text/plain": [
              "(48000, 12000)"
            ]
          },
          "metadata": {
            "tags": []
          },
          "execution_count": 42
        }
      ]
    },
    {
      "cell_type": "code",
      "metadata": {
        "id": "KqpOyPVro9X7"
      },
      "source": [
        "dataloader = DataLoader(total_dset, batch_size=256)"
      ],
      "execution_count": null,
      "outputs": []
    },
    {
      "cell_type": "code",
      "metadata": {
        "id": "MyAQqrM9Z4XO"
      },
      "source": [
        "def init_params(size, std=1.0): return (torch.randn(size)*std).requires_grad_()"
      ],
      "execution_count": null,
      "outputs": []
    },
    {
      "cell_type": "code",
      "metadata": {
        "id": "QnNysBd4aECW",
        "colab": {
          "base_uri": "https://localhost:8080/"
        },
        "outputId": "99b798b8-fb57-4b06-eddc-fa3d58f34d63"
      },
      "source": [
        "weights = init_params((28*28,10))\n",
        "bias = init_params(10)\n",
        "weights,bias"
      ],
      "execution_count": null,
      "outputs": [
        {
          "output_type": "execute_result",
          "data": {
            "text/plain": [
              "(tensor([[ 1.9269,  1.4873,  0.9007,  ..., -1.6047, -0.7521,  1.6487],\n",
              "         [-0.3925, -1.4036, -0.7279,  ..., -0.1596, -0.4974,  0.4396],\n",
              "         [-0.7581,  1.0783,  0.8008,  ...,  1.3347, -0.2316,  0.0418],\n",
              "         ...,\n",
              "         [-0.0560, -0.4547,  1.2942,  ...,  1.1133,  2.1901,  0.3531],\n",
              "         [ 0.4474,  0.7192, -1.9300,  ..., -0.8714,  0.2235,  0.2528],\n",
              "         [ 0.2169,  0.4700,  0.3268,  ...,  0.0470,  0.5487, -1.9951]], requires_grad=True),\n",
              " tensor([ 1.3673, -0.3805,  0.4782,  1.3093,  0.5289,  1.6473,  1.4642,  0.2509,  0.9407,  0.8538], requires_grad=True))"
            ]
          },
          "metadata": {
            "tags": []
          },
          "execution_count": 45
        }
      ]
    },
    {
      "cell_type": "code",
      "metadata": {
        "id": "AoWYs3vWaLt_"
      },
      "source": [
        "def linear1(xb): return xb@weights + bias"
      ],
      "execution_count": null,
      "outputs": []
    },
    {
      "cell_type": "code",
      "metadata": {
        "id": "npUex6fRk78j"
      },
      "source": [
        "def softmax(xb):\n",
        "  return torch.exp(xb) / torch.exp(xb).sum(dim=1, keepdim=True)"
      ],
      "execution_count": null,
      "outputs": []
    },
    {
      "cell_type": "code",
      "metadata": {
        "id": "z3EphAzmnpWv"
      },
      "source": [
        "def forward(xb):\n",
        "  z1 = linear1(xb)\n",
        "  return softmax(z1)"
      ],
      "execution_count": null,
      "outputs": []
    },
    {
      "cell_type": "code",
      "metadata": {
        "id": "ozSjP6bnaXZs",
        "colab": {
          "base_uri": "https://localhost:8080/"
        },
        "outputId": "0b78f408-7c27-49be-811f-afbfc61d4983"
      },
      "source": [
        "example_x, example_y = first(dataloader)\n",
        "preds = linear1(example_x)\n",
        "preds.shape"
      ],
      "execution_count": null,
      "outputs": [
        {
          "output_type": "execute_result",
          "data": {
            "text/plain": [
              "torch.Size([256, 10])"
            ]
          },
          "metadata": {
            "tags": []
          },
          "execution_count": 49
        }
      ]
    },
    {
      "cell_type": "code",
      "metadata": {
        "id": "QSpVDTfgnch1",
        "colab": {
          "base_uri": "https://localhost:8080/"
        },
        "outputId": "beb27203-6233-49f3-c66d-f5d109ec3f5f"
      },
      "source": [
        "after_softmax = softmax(preds)\n",
        "after_softmax.shape, after_softmax[0].shape, torch.sum(after_softmax[0])"
      ],
      "execution_count": null,
      "outputs": [
        {
          "output_type": "execute_result",
          "data": {
            "text/plain": [
              "(torch.Size([256, 10]),\n",
              " torch.Size([10]),\n",
              " tensor(1.0000, grad_fn=<SumBackward0>))"
            ]
          },
          "metadata": {
            "tags": []
          },
          "execution_count": 50
        }
      ]
    },
    {
      "cell_type": "code",
      "metadata": {
        "id": "fVSPXDGmduBI"
      },
      "source": [
        "def mnist_loss(predictions, targets):\n",
        "    # This gives us a range over the batch size\n",
        "    idx = range(len(targets))\n",
        "    # This sums the prediction index\n",
        "    return 1 - torch.sum(predictions[idx, targets.long()])"
      ],
      "execution_count": null,
      "outputs": []
    },
    {
      "cell_type": "code",
      "metadata": {
        "id": "YDQWvsnHsN57",
        "colab": {
          "base_uri": "https://localhost:8080/"
        },
        "outputId": "6b993676-247c-439e-c603-266a2b1badb1"
      },
      "source": [
        "after_softmax[range(len(example_y)), 0].shape\n",
        "# , after_softmax[range(len(example_y)), example_y.long()]"
      ],
      "execution_count": null,
      "outputs": [
        {
          "output_type": "execute_result",
          "data": {
            "text/plain": [
              "torch.Size([256])"
            ]
          },
          "metadata": {
            "tags": []
          },
          "execution_count": 52
        }
      ]
    },
    {
      "cell_type": "code",
      "metadata": {
        "id": "UI5cYsydenKM"
      },
      "source": [
        "mnist_loss(preds, train_y)"
      ],
      "execution_count": null,
      "outputs": []
    }
  ]
}